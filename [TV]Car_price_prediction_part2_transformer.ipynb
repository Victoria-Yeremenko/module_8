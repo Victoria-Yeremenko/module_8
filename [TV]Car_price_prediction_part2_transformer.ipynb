{
 "cells": [
  {
   "cell_type": "markdown",
   "id": "b649b1b9",
   "metadata": {
    "papermill": {
     "duration": 0.032991,
     "end_time": "2022-06-30T07:42:56.239410",
     "exception": false,
     "start_time": "2022-06-30T07:42:56.206419",
     "status": "completed"
    },
    "tags": []
   },
   "source": [
    "## Проект 8. Прогнозирование стоимости автомобиля с пробегом\n",
    "### Грачева Татьяна, Еременко Виктория¶"
   ]
  },
  {
   "cell_type": "markdown",
   "id": "550dd060",
   "metadata": {
    "papermill": {
     "duration": 0.020974,
     "end_time": "2022-06-30T07:42:56.283307",
     "exception": false,
     "start_time": "2022-06-30T07:42:56.262333",
     "status": "completed"
    },
    "tags": []
   },
   "source": [
    "### Дополнительный ноутбук: использование трансформеров для анализа текста"
   ]
  },
  {
   "cell_type": "markdown",
   "metadata": {},
   "source": [
    "В этом ноутбуке для анализа текста применяется трансформер ( в составе multi-input сети).\n",
    "\n",
    "Были опробованы 3 модели:\n",
    "* https://huggingface.co/cointegrated/LaBSE-en-ru\n",
    "* https://huggingface.co/sberbank-ai/sbert_large_mt_nlu_ru\n",
    "* https://huggingface.co/promobot/labse-ru\n",
    "\n",
    "Последние две давали сопоставимый результат (mape ~ 16.5 при использовании в качестве одиночной модели для предсказания цены, темп обучения был 5e-5). В итоге была выбрана сеть \"promobot/labse-ru\", тк в ней гораздо меньше параметров, чем в модели от СБ, и работала она существенно быстрее.\n",
    "\n",
    "Текст был очищен и лемматизирован перед подачей в модель, тк это давало лучшие результаты.\n",
    "\n",
    "Финальная модель тренировалась с более высоким темпом обучения (для экономии времени и вычислительных ресурсов). \n"
   ]
  },
  {
   "cell_type": "code",
   "execution_count": 1,
   "id": "129dc5f5",
   "metadata": {
    "execution": {
     "iopub.execute_input": "2022-06-30T07:42:56.328278Z",
     "iopub.status.busy": "2022-06-30T07:42:56.327763Z",
     "iopub.status.idle": "2022-06-30T07:42:58.128374Z",
     "shell.execute_reply": "2022-06-30T07:42:58.125883Z"
    },
    "papermill": {
     "duration": 1.826979,
     "end_time": "2022-06-30T07:42:58.131543",
     "exception": false,
     "start_time": "2022-06-30T07:42:56.304564",
     "status": "completed"
    },
    "tags": []
   },
   "outputs": [
    {
     "name": "stdout",
     "output_type": "stream",
     "text": [
      "[nltk_data] Downloading package stopwords to /usr/share/nltk_data...\n",
      "[nltk_data]   Package stopwords is already up-to-date!\n",
      "[nltk_data] Downloading package wordnet to /usr/share/nltk_data...\n",
      "[nltk_data]   Package wordnet is already up-to-date!\n"
     ]
    },
    {
     "data": {
      "text/plain": [
       "True"
      ]
     },
     "execution_count": 1,
     "metadata": {},
     "output_type": "execute_result"
    }
   ],
   "source": [
    "import nltk\n",
    "from nltk.corpus import stopwords\n",
    "from nltk.stem import WordNetLemmatizer\n",
    "nltk.download('stopwords')\n",
    "nltk.download('wordnet')"
   ]
  },
  {
   "cell_type": "code",
   "execution_count": 2,
   "id": "0f0d7091",
   "metadata": {
    "execution": {
     "iopub.execute_input": "2022-06-30T07:42:58.177665Z",
     "iopub.status.busy": "2022-06-30T07:42:58.177287Z",
     "iopub.status.idle": "2022-06-30T07:43:09.686229Z",
     "shell.execute_reply": "2022-06-30T07:43:09.685046Z"
    },
    "papermill": {
     "duration": 11.53481,
     "end_time": "2022-06-30T07:43:09.689122",
     "exception": false,
     "start_time": "2022-06-30T07:42:58.154312",
     "status": "completed"
    },
    "tags": []
   },
   "outputs": [
    {
     "name": "stdout",
     "output_type": "stream",
     "text": [
      "Requirement already satisfied: transformers in /opt/conda/lib/python3.7/site-packages (4.18.0)\r\n",
      "Requirement already satisfied: importlib-metadata in /opt/conda/lib/python3.7/site-packages (from transformers) (4.11.4)\r\n",
      "Requirement already satisfied: numpy>=1.17 in /opt/conda/lib/python3.7/site-packages (from transformers) (1.21.6)\r\n",
      "Requirement already satisfied: pyyaml>=5.1 in /opt/conda/lib/python3.7/site-packages (from transformers) (6.0)\r\n",
      "Requirement already satisfied: huggingface-hub<1.0,>=0.1.0 in /opt/conda/lib/python3.7/site-packages (from transformers) (0.7.0)\r\n",
      "Requirement already satisfied: regex!=2019.12.17 in /opt/conda/lib/python3.7/site-packages (from transformers) (2021.11.10)\r\n",
      "Requirement already satisfied: requests in /opt/conda/lib/python3.7/site-packages (from transformers) (2.27.1)\r\n",
      "Requirement already satisfied: sacremoses in /opt/conda/lib/python3.7/site-packages (from transformers) (0.0.53)\r\n",
      "Requirement already satisfied: filelock in /opt/conda/lib/python3.7/site-packages (from transformers) (3.6.0)\r\n",
      "Requirement already satisfied: tokenizers!=0.11.3,<0.13,>=0.11.1 in /opt/conda/lib/python3.7/site-packages (from transformers) (0.12.1)\r\n",
      "Requirement already satisfied: packaging>=20.0 in /opt/conda/lib/python3.7/site-packages (from transformers) (21.3)\r\n",
      "Requirement already satisfied: tqdm>=4.27 in /opt/conda/lib/python3.7/site-packages (from transformers) (4.64.0)\r\n",
      "Requirement already satisfied: typing-extensions>=3.7.4.3 in /opt/conda/lib/python3.7/site-packages (from huggingface-hub<1.0,>=0.1.0->transformers) (4.1.1)\r\n",
      "Requirement already satisfied: pyparsing!=3.0.5,>=2.0.2 in /opt/conda/lib/python3.7/site-packages (from packaging>=20.0->transformers) (3.0.9)\r\n",
      "Requirement already satisfied: zipp>=0.5 in /opt/conda/lib/python3.7/site-packages (from importlib-metadata->transformers) (3.8.0)\r\n",
      "Requirement already satisfied: certifi>=2017.4.17 in /opt/conda/lib/python3.7/site-packages (from requests->transformers) (2022.6.15)\r\n",
      "Requirement already satisfied: charset-normalizer~=2.0.0 in /opt/conda/lib/python3.7/site-packages (from requests->transformers) (2.0.12)\r\n",
      "Requirement already satisfied: idna<4,>=2.5 in /opt/conda/lib/python3.7/site-packages (from requests->transformers) (3.3)\r\n",
      "Requirement already satisfied: urllib3<1.27,>=1.21.1 in /opt/conda/lib/python3.7/site-packages (from requests->transformers) (1.26.9)\r\n",
      "Requirement already satisfied: six in /opt/conda/lib/python3.7/site-packages (from sacremoses->transformers) (1.16.0)\r\n",
      "Requirement already satisfied: joblib in /opt/conda/lib/python3.7/site-packages (from sacremoses->transformers) (1.1.0)\r\n",
      "Requirement already satisfied: click in /opt/conda/lib/python3.7/site-packages (from sacremoses->transformers) (8.0.4)\r\n",
      "\u001b[33mWARNING: Running pip as the 'root' user can result in broken permissions and conflicting behaviour with the system package manager. It is recommended to use a virtual environment instead: https://pip.pypa.io/warnings/venv\u001b[0m\u001b[33m\r\n",
      "\u001b[0m"
     ]
    }
   ],
   "source": [
    "!pip install transformers"
   ]
  },
  {
   "cell_type": "code",
   "execution_count": 3,
   "id": "fbb871ca",
   "metadata": {
    "execution": {
     "iopub.execute_input": "2022-06-30T07:43:09.736147Z",
     "iopub.status.busy": "2022-06-30T07:43:09.735775Z",
     "iopub.status.idle": "2022-06-30T07:43:20.581225Z",
     "shell.execute_reply": "2022-06-30T07:43:20.580026Z"
    },
    "papermill": {
     "duration": 10.872212,
     "end_time": "2022-06-30T07:43:20.584044",
     "exception": false,
     "start_time": "2022-06-30T07:43:09.711832",
     "status": "completed"
    },
    "tags": []
   },
   "outputs": [
    {
     "name": "stdout",
     "output_type": "stream",
     "text": [
      "Collecting pymorphy2\r\n",
      "  Downloading pymorphy2-0.9.1-py3-none-any.whl (55 kB)\r\n",
      "\u001b[2K     \u001b[90m━━━━━━━━━━━━━━━━━━━━━━━━━━━━━━━━━━━━━━━━\u001b[0m \u001b[32m55.5/55.5 kB\u001b[0m \u001b[31m1.8 MB/s\u001b[0m eta \u001b[36m0:00:00\u001b[0m\r\n",
      "\u001b[?25hCollecting pymorphy2-dicts-ru<3.0,>=2.4\r\n",
      "  Downloading pymorphy2_dicts_ru-2.4.417127.4579844-py2.py3-none-any.whl (8.2 MB)\r\n",
      "\u001b[2K     \u001b[90m━━━━━━━━━━━━━━━━━━━━━━━━━━━━━━━━━━━━━━━━\u001b[0m \u001b[32m8.2/8.2 MB\u001b[0m \u001b[31m47.5 MB/s\u001b[0m eta \u001b[36m0:00:00\u001b[0m\r\n",
      "\u001b[?25hCollecting dawg-python>=0.7.1\r\n",
      "  Downloading DAWG_Python-0.7.2-py2.py3-none-any.whl (11 kB)\r\n",
      "Requirement already satisfied: docopt>=0.6 in /opt/conda/lib/python3.7/site-packages (from pymorphy2) (0.6.2)\r\n",
      "Installing collected packages: pymorphy2-dicts-ru, dawg-python, pymorphy2\r\n",
      "Successfully installed dawg-python-0.7.2 pymorphy2-0.9.1 pymorphy2-dicts-ru-2.4.417127.4579844\r\n",
      "\u001b[33mWARNING: Running pip as the 'root' user can result in broken permissions and conflicting behaviour with the system package manager. It is recommended to use a virtual environment instead: https://pip.pypa.io/warnings/venv\u001b[0m\u001b[33m\r\n",
      "\u001b[0m"
     ]
    }
   ],
   "source": [
    "!pip install pymorphy2"
   ]
  },
  {
   "cell_type": "code",
   "execution_count": 4,
   "id": "4e2e1a72",
   "metadata": {
    "_cell_guid": "b1076dfc-b9ad-4769-8c92-a6c4dae69d19",
    "_uuid": "8f2839f25d086af736a60e9eeb907d3b93b6e0e5",
    "execution": {
     "iopub.execute_input": "2022-06-30T07:43:20.630812Z",
     "iopub.status.busy": "2022-06-30T07:43:20.630464Z",
     "iopub.status.idle": "2022-06-30T07:43:30.639649Z",
     "shell.execute_reply": "2022-06-30T07:43:30.638664Z"
    },
    "papermill": {
     "duration": 10.035519,
     "end_time": "2022-06-30T07:43:30.642408",
     "exception": false,
     "start_time": "2022-06-30T07:43:20.606889",
     "status": "completed"
    },
    "tags": []
   },
   "outputs": [],
   "source": [
    "# импорт библиотек\n",
    "\n",
    "import numpy as np # linear algebra\n",
    "import pandas as pd # data processing, CSV file I/O (e.g. pd.read_csv)\n",
    "#from pandas_profiling import ProfileReport\n",
    "import os\n",
    "import sys\n",
    "import zipfile\n",
    "import PIL\n",
    "from PIL import ImageOps, ImageFilter\n",
    "import re\n",
    "import ast\n",
    "from datetime import time, date, datetime\n",
    "import random\n",
    "\n",
    "import matplotlib.pyplot as plt\n",
    "import seaborn as sns\n",
    "%matplotlib inline\n",
    "plt.style.use('seaborn-paper')\n",
    "\n",
    "from optuna import *\n",
    "\n",
    "import pymorphy2\n",
    "\n",
    "from sklearn.feature_extraction import DictVectorizer\n",
    "from sklearn.feature_selection import SelectKBest, chi2, f_classif, f_regression\n",
    "from sklearn.model_selection import train_test_split\n",
    "from sklearn.model_selection import KFold\n",
    "from sklearn.model_selection import cross_val_predict, cross_val_score\n",
    "from sklearn.preprocessing import OneHotEncoder, LabelEncoder, MinMaxScaler, StandardScaler, RobustScaler\n",
    "from sklearn.impute import KNNImputer\n",
    "\n",
    "from sklearn.neighbors import KNeighborsRegressor\n",
    "from sklearn.linear_model import LinearRegression\n",
    "from sklearn.linear_model import Ridge\n",
    "from sklearn.svm import SVR\n",
    "from sklearn.ensemble import ExtraTreesRegressor\n",
    "from sklearn.ensemble import BaggingRegressor\n",
    "\n",
    "\n",
    "from sklearn.ensemble import StackingRegressor\n",
    "from sklearn.ensemble import VotingRegressor\n",
    "from tqdm.notebook import tqdm\n",
    "from catboost import CatBoostRegressor, Pool, cv\n",
    "\n",
    "#image augmentation\n",
    "#import albumentations as A\n",
    "#from ImageDataAugmentor.image_data_augmentor import *\n",
    "\n",
    "# keras\n",
    "import tensorflow as tf\n",
    "import tensorflow.keras.backend as K\n",
    "import tensorflow.keras.layers as L\n",
    "from tensorflow.keras.models import Model, Sequential\n",
    "from tensorflow.keras.preprocessing.text import Tokenizer\n",
    "from tensorflow.keras.preprocessing import sequence\n",
    "from tensorflow.keras.callbacks import ModelCheckpoint, EarlyStopping, ReduceLROnPlateau\n",
    "from tensorflow.keras.applications.efficientnet import EfficientNetB3\n",
    "from tensorflow.keras.regularizers import l2\n",
    "from tensorflow.keras.losses import MeanAbsolutePercentageError\n",
    "\n",
    "from transformers import AutoTokenizer, TFAutoModelForSequenceClassification, DataCollatorWithPadding\n",
    "\n",
    "# Suppress warnings \n",
    "import warnings\n",
    "warnings.filterwarnings('ignore')\n",
    "\n",
    "\n",
    "pd.set_option('display.max_columns', 550) # больше колонок\n",
    "\n",
    "os.environ['PYTHONHASHSEED']=str(42)"
   ]
  },
  {
   "cell_type": "code",
   "execution_count": 5,
   "id": "fa990607",
   "metadata": {
    "_kg_hide-input": true,
    "execution": {
     "iopub.execute_input": "2022-06-30T07:43:30.691655Z",
     "iopub.status.busy": "2022-06-30T07:43:30.690389Z",
     "iopub.status.idle": "2022-06-30T07:43:30.698093Z",
     "shell.execute_reply": "2022-06-30T07:43:30.696608Z"
    },
    "papermill": {
     "duration": 0.035172,
     "end_time": "2022-06-30T07:43:30.700896",
     "exception": false,
     "start_time": "2022-06-30T07:43:30.665724",
     "status": "completed"
    },
    "tags": []
   },
   "outputs": [
    {
     "name": "stdout",
     "output_type": "stream",
     "text": [
      "Python       : 3.7.12 | packaged by conda-forge | (default, Oct 26 2021, 06:08:53) \n",
      "Numpy        : 1.21.6\n",
      "Tensorflow   : 2.6.4\n"
     ]
    }
   ],
   "source": [
    "print('Python       :', sys.version.split('\\n')[0])\n",
    "print('Numpy        :', np.__version__)\n",
    "print('Tensorflow   :', tf.__version__)"
   ]
  },
  {
   "cell_type": "code",
   "execution_count": 6,
   "id": "7b24d2ce",
   "metadata": {
    "_kg_hide-input": true,
    "execution": {
     "iopub.execute_input": "2022-06-30T07:43:30.752376Z",
     "iopub.status.busy": "2022-06-30T07:43:30.751318Z",
     "iopub.status.idle": "2022-06-30T07:43:33.973351Z",
     "shell.execute_reply": "2022-06-30T07:43:33.971811Z"
    },
    "papermill": {
     "duration": 3.250702,
     "end_time": "2022-06-30T07:43:33.976009",
     "exception": false,
     "start_time": "2022-06-30T07:43:30.725307",
     "status": "completed"
    },
    "tags": []
   },
   "outputs": [],
   "source": [
    "# зафиксируем версию пакетов, чтобы эксперименты были воспроизводимы:\n",
    "!pip freeze > requirements.txt"
   ]
  },
  {
   "cell_type": "code",
   "execution_count": 7,
   "id": "c7b65066",
   "metadata": {
    "execution": {
     "iopub.execute_input": "2022-06-30T07:43:34.026301Z",
     "iopub.status.busy": "2022-06-30T07:43:34.025197Z",
     "iopub.status.idle": "2022-06-30T07:43:34.031933Z",
     "shell.execute_reply": "2022-06-30T07:43:34.030883Z"
    },
    "papermill": {
     "duration": 0.034085,
     "end_time": "2022-06-30T07:43:34.034195",
     "exception": false,
     "start_time": "2022-06-30T07:43:34.000110",
     "status": "completed"
    },
    "tags": []
   },
   "outputs": [],
   "source": [
    "# всегда фиксируйте RANDOM_SEED, чтобы ваши эксперименты были воспроизводимы!\n",
    "RANDOM_SEED = 42\n",
    "random.seed(RANDOM_SEED)\n",
    "np.random.seed(RANDOM_SEED)\n",
    "tf.random.set_seed(RANDOM_SEED)"
   ]
  },
  {
   "cell_type": "markdown",
   "id": "fb9c5f8a",
   "metadata": {
    "papermill": {
     "duration": 0.022763,
     "end_time": "2022-06-30T07:43:34.080765",
     "exception": false,
     "start_time": "2022-06-30T07:43:34.058002",
     "status": "completed"
    },
    "tags": []
   },
   "source": [
    "# Setup"
   ]
  },
  {
   "cell_type": "code",
   "execution_count": 8,
   "id": "0fef088b",
   "metadata": {
    "execution": {
     "iopub.execute_input": "2022-06-30T07:43:34.129673Z",
     "iopub.status.busy": "2022-06-30T07:43:34.129296Z",
     "iopub.status.idle": "2022-06-30T07:43:34.134698Z",
     "shell.execute_reply": "2022-06-30T07:43:34.133682Z"
    },
    "papermill": {
     "duration": 0.031959,
     "end_time": "2022-06-30T07:43:34.136746",
     "exception": false,
     "start_time": "2022-06-30T07:43:34.104787",
     "status": "completed"
    },
    "tags": []
   },
   "outputs": [],
   "source": [
    "VERSION    = 1\n",
    "DIR_TRAIN  = '../input/sf-dst-car-price-prediction-part2/' # подключили к ноутбуку свой внешний датасет\n",
    "VAL_SIZE   = 0.15   \n",
    "N_FOLDS    = 5\n",
    "\n",
    "# CATBOOST\n",
    "ITERATIONS = 2000\n",
    "LR         = 0.01"
   ]
  },
  {
   "cell_type": "markdown",
   "id": "2d168eab",
   "metadata": {
    "papermill": {
     "duration": 0.024145,
     "end_time": "2022-06-30T07:43:34.185352",
     "exception": false,
     "start_time": "2022-06-30T07:43:34.161207",
     "status": "completed"
    },
    "tags": []
   },
   "source": [
    "# Data"
   ]
  },
  {
   "cell_type": "markdown",
   "id": "d8fca6fa",
   "metadata": {
    "papermill": {
     "duration": 0.023397,
     "end_time": "2022-06-30T07:43:34.232009",
     "exception": false,
     "start_time": "2022-06-30T07:43:34.208612",
     "status": "completed"
    },
    "tags": []
   },
   "source": [
    "Каггл"
   ]
  },
  {
   "cell_type": "code",
   "execution_count": 9,
   "id": "8a60e664",
   "metadata": {
    "execution": {
     "iopub.execute_input": "2022-06-30T07:43:34.280472Z",
     "iopub.status.busy": "2022-06-30T07:43:34.280079Z",
     "iopub.status.idle": "2022-06-30T07:43:34.998407Z",
     "shell.execute_reply": "2022-06-30T07:43:34.997128Z"
    },
    "papermill": {
     "duration": 0.745489,
     "end_time": "2022-06-30T07:43:35.000981",
     "exception": false,
     "start_time": "2022-06-30T07:43:34.255492",
     "status": "completed"
    },
    "tags": []
   },
   "outputs": [
    {
     "name": "stdout",
     "output_type": "stream",
     "text": [
      "sf-dst-car-price-prediction-part2\r\n"
     ]
    }
   ],
   "source": [
    "!ls ../input/"
   ]
  },
  {
   "cell_type": "code",
   "execution_count": 10,
   "id": "991ca262",
   "metadata": {
    "_cell_guid": "79c7e3d0-c299-4dcb-8224-4455121ee9b0",
    "_uuid": "d629ff2d2480ee46fbb7e2d37f6b5fab8052498a",
    "execution": {
     "iopub.execute_input": "2022-06-30T07:43:35.051225Z",
     "iopub.status.busy": "2022-06-30T07:43:35.050856Z",
     "iopub.status.idle": "2022-06-30T07:43:35.576995Z",
     "shell.execute_reply": "2022-06-30T07:43:35.575932Z"
    },
    "papermill": {
     "duration": 0.554185,
     "end_time": "2022-06-30T07:43:35.579576",
     "exception": false,
     "start_time": "2022-06-30T07:43:35.025391",
     "status": "completed"
    },
    "tags": []
   },
   "outputs": [],
   "source": [
    "train = pd.read_csv(DIR_TRAIN+'train.csv') # подготовленный датасет для обучения модели\n",
    "test = pd.read_csv(DIR_TRAIN+'test.csv')\n",
    "sample_submission = pd.read_csv(DIR_TRAIN+'sample_submission.csv')"
   ]
  },
  {
   "cell_type": "markdown",
   "id": "355eba41",
   "metadata": {
    "papermill": {
     "duration": 0.022079,
     "end_time": "2022-06-30T07:43:35.624664",
     "exception": false,
     "start_time": "2022-06-30T07:43:35.602585",
     "status": "completed"
    },
    "tags": []
   },
   "source": [
    "Локально"
   ]
  },
  {
   "cell_type": "code",
   "execution_count": 11,
   "id": "35e0f763",
   "metadata": {
    "execution": {
     "iopub.execute_input": "2022-06-30T07:43:35.671484Z",
     "iopub.status.busy": "2022-06-30T07:43:35.671045Z",
     "iopub.status.idle": "2022-06-30T07:43:35.675971Z",
     "shell.execute_reply": "2022-06-30T07:43:35.674638Z"
    },
    "papermill": {
     "duration": 0.031137,
     "end_time": "2022-06-30T07:43:35.678159",
     "exception": false,
     "start_time": "2022-06-30T07:43:35.647022",
     "status": "completed"
    },
    "scrolled": true,
    "tags": []
   },
   "outputs": [],
   "source": [
    "#train = pd.read_csv('train.csv')\n",
    "#test = pd.read_csv('test.csv')\n",
    "#sample_submission = pd.read_csv('sample_submission.csv')"
   ]
  },
  {
   "cell_type": "code",
   "execution_count": 12,
   "id": "af7b0f24",
   "metadata": {
    "execution": {
     "iopub.execute_input": "2022-06-30T07:43:35.726293Z",
     "iopub.status.busy": "2022-06-30T07:43:35.725883Z",
     "iopub.status.idle": "2022-06-30T07:43:35.756195Z",
     "shell.execute_reply": "2022-06-30T07:43:35.754594Z"
    },
    "papermill": {
     "duration": 0.057793,
     "end_time": "2022-06-30T07:43:35.759556",
     "exception": false,
     "start_time": "2022-06-30T07:43:35.701763",
     "status": "completed"
    },
    "tags": []
   },
   "outputs": [
    {
     "name": "stdout",
     "output_type": "stream",
     "text": [
      "(6682, 23) (1671, 23) (8353, 23)\n"
     ]
    }
   ],
   "source": [
    "# ВАЖНО! дря корректной обработки признаков объединяем трейн и тест в один датасет\n",
    "train['sample'] = 1 # помечаем где у нас трейн\n",
    "test['sample'] = 0 # помечаем где у нас тест\n",
    "test['price'] = 0 # в тесте у нас нет значения price, мы его должны предсказать, поэтому пока просто заполняем нулями\n",
    "\n",
    "data = test.append(train, sort=False).reset_index(drop=True) # объединяем\n",
    "print(train.shape, test.shape, data.shape)"
   ]
  },
  {
   "cell_type": "markdown",
   "id": "98d07549",
   "metadata": {
    "papermill": {
     "duration": 0.023385,
     "end_time": "2022-06-30T07:43:35.808621",
     "exception": false,
     "start_time": "2022-06-30T07:43:35.785236",
     "status": "completed"
    },
    "tags": []
   },
   "source": [
    "## Data Preprocessing"
   ]
  },
  {
   "cell_type": "markdown",
   "id": "c8899a77",
   "metadata": {
    "papermill": {
     "duration": 0.022743,
     "end_time": "2022-06-30T07:43:35.854500",
     "exception": false,
     "start_time": "2022-06-30T07:43:35.831757",
     "status": "completed"
    },
    "tags": []
   },
   "source": [
    "Функции предобработки данных"
   ]
  },
  {
   "cell_type": "code",
   "execution_count": 13,
   "id": "e89f4732",
   "metadata": {
    "execution": {
     "iopub.execute_input": "2022-06-30T07:43:35.904001Z",
     "iopub.status.busy": "2022-06-30T07:43:35.903224Z",
     "iopub.status.idle": "2022-06-30T07:43:35.920390Z",
     "shell.execute_reply": "2022-06-30T07:43:35.919138Z"
    },
    "papermill": {
     "duration": 0.044587,
     "end_time": "2022-06-30T07:43:35.922680",
     "exception": false,
     "start_time": "2022-06-30T07:43:35.878093",
     "status": "completed"
    },
    "tags": []
   },
   "outputs": [],
   "source": [
    "# Функция расчета ошибки\n",
    "def mape(y_true, y_pred):\n",
    "    return np.mean(np.abs((y_pred-y_true)/y_true))\n",
    "\n",
    "# Функция расчета ошибки для логарифмированной целевой переменнной\n",
    "def mape_log(y_true, y_pred):\n",
    "    return np.mean(np.abs((np.exp(y_pred)-np.exp(y_true))/np.exp(y_true)))\n",
    "\n",
    "# обработка данных\n",
    "def get_correct_engineDisplacement(x):\n",
    "    ''' Функция приводит объем двигателя к числовому формату'''\n",
    "    \n",
    "    if x == 'undefined LTR':  # у электрокаров объем равен 0 \n",
    "        return 0\n",
    "    \n",
    "    x = float(x.split(' LTR')[0])\n",
    "    \n",
    "    return x\n",
    "\n",
    "def num_of_months(row):\n",
    "    ''' Функция считает время владения машиной в месяцах'''\n",
    "    \n",
    "    if pd.notnull(row):\n",
    "        list_ownership = row.split()\n",
    "        if len(list_ownership) == 2:\n",
    "            if list_ownership[1] in ['год', 'года', 'лет']:\n",
    "                return int(list_ownership[0])*12\n",
    "            return int(list_ownership[0])\n",
    "        return int(list_ownership[0])*12 + int(list_ownership[3])\n",
    "\n",
    "\n",
    "def fill_na_ownership(row):\n",
    "    ''' Функция для заполнения пропущенных значений (время владения машиной)'''\n",
    "    \n",
    "    row['Владение'] = ownership_dict.get(row['Владельцы'])\n",
    "    \n",
    "    return row\n",
    "\n",
    "\n",
    "# функции обработки текста\n",
    "\n",
    "def remove_punctuations(data):\n",
    "    ''' Функция удаляет знаки препинания'''\n",
    "    \n",
    "    punct_tag=re.compile(r'[^\\w\\s]')\n",
    "    data=punct_tag.sub(r' ',data)\n",
    "    return data\n",
    "\n",
    "\n",
    "def remove_emoji(data):\n",
    "    ''' Функция удаляет эмоджи'''    \n",
    "    \n",
    "    emoji_clean= re.compile(\"[\"\n",
    "                           u\"\\U0001F600-\\U0001F64F\"  # emoticons\n",
    "                           u\"\\U0001F300-\\U0001F5FF\"  # symbols & pictographs\n",
    "                           u\"\\U0001F680-\\U0001F6FF\"  # transport & map symbols\n",
    "                           u\"\\U0001F1E0-\\U0001F1FF\"  # flags (iOS)\n",
    "                           u\"\\U00002702-\\U000027B0\"\n",
    "                           u\"\\U000024C2-\\U0001F251\"\n",
    "                           \"]+\", flags=re.UNICODE)\n",
    "    data=emoji_clean.sub(r'',data)\n",
    "    return data\n",
    "\n",
    "\n",
    "def remove_numbers(data):\n",
    "    ''' Функция удаляет цифры'''\n",
    "    \n",
    "    num_tag=re.compile(r'[\\d]')\n",
    "    data=num_tag.sub(r'',data)\n",
    "    return data\n",
    "\n",
    "def remove_latin_literals(data):\n",
    "    ''' Функция удаляет латиницу'''\n",
    "    \n",
    "    lit_tag=re.compile(r'[abcdefghijklmnopqrstuvwxyzABCDEFGHIJKLMNOPQRSTUVWXYZ]')\n",
    "    data=lit_tag.sub(r'',data)\n",
    "    return data\n",
    "\n",
    "# округление предсказаний\n",
    "def round_to(x, a):\n",
    "    ''' Функция округления до заданной величины'''\n",
    "    \n",
    "    return round(x / a) * a\n",
    "\n",
    "def round_ceil(x, a):\n",
    "    ''' Функция округления до заданной величины в большую сторону'''\n",
    "    \n",
    "    return np.ceil(x / a) * a\n",
    "    "
   ]
  },
  {
   "cell_type": "markdown",
   "id": "4ea2e23c",
   "metadata": {
    "papermill": {
     "duration": 0.024732,
     "end_time": "2022-06-30T07:43:35.972868",
     "exception": false,
     "start_time": "2022-06-30T07:43:35.948136",
     "status": "completed"
    },
    "tags": []
   },
   "source": [
    "## Анализ объединенного датасета"
   ]
  },
  {
   "cell_type": "code",
   "execution_count": 14,
   "id": "74512f56",
   "metadata": {
    "execution": {
     "iopub.execute_input": "2022-06-30T07:43:36.023127Z",
     "iopub.status.busy": "2022-06-30T07:43:36.022754Z",
     "iopub.status.idle": "2022-06-30T07:43:36.059290Z",
     "shell.execute_reply": "2022-06-30T07:43:36.058116Z"
    },
    "papermill": {
     "duration": 0.06495,
     "end_time": "2022-06-30T07:43:36.062671",
     "exception": false,
     "start_time": "2022-06-30T07:43:35.997721",
     "status": "completed"
    },
    "tags": []
   },
   "outputs": [
    {
     "name": "stdout",
     "output_type": "stream",
     "text": [
      "<class 'pandas.core.frame.DataFrame'>\n",
      "RangeIndex: 8353 entries, 0 to 8352\n",
      "Data columns (total 23 columns):\n",
      " #   Column                Non-Null Count  Dtype  \n",
      "---  ------                --------------  -----  \n",
      " 0   bodyType              8353 non-null   object \n",
      " 1   brand                 8353 non-null   object \n",
      " 2   color                 8353 non-null   object \n",
      " 3   description           8353 non-null   object \n",
      " 4   engineDisplacement    8353 non-null   object \n",
      " 5   enginePower           8353 non-null   object \n",
      " 6   fuelType              8353 non-null   object \n",
      " 7   mileage               8353 non-null   int64  \n",
      " 8   modelDate             8353 non-null   int64  \n",
      " 9   model_info            8353 non-null   object \n",
      " 10  name                  8353 non-null   object \n",
      " 11  numberOfDoors         8353 non-null   int64  \n",
      " 12  productionDate        8353 non-null   int64  \n",
      " 13  sell_id               8353 non-null   int64  \n",
      " 14  vehicleConfiguration  8353 non-null   object \n",
      " 15  vehicleTransmission   8353 non-null   object \n",
      " 16  Владельцы             8352 non-null   object \n",
      " 17  Владение              2935 non-null   object \n",
      " 18  ПТС                   8353 non-null   object \n",
      " 19  Привод                8353 non-null   object \n",
      " 20  Руль                  8353 non-null   object \n",
      " 21  sample                8353 non-null   int64  \n",
      " 22  price                 8353 non-null   float64\n",
      "dtypes: float64(1), int64(6), object(16)\n",
      "memory usage: 1.5+ MB\n"
     ]
    }
   ],
   "source": [
    "data.info()"
   ]
  },
  {
   "cell_type": "code",
   "execution_count": 15,
   "id": "0f49aec9",
   "metadata": {
    "execution": {
     "iopub.execute_input": "2022-06-30T07:43:36.112737Z",
     "iopub.status.busy": "2022-06-30T07:43:36.112378Z",
     "iopub.status.idle": "2022-06-30T07:43:36.139843Z",
     "shell.execute_reply": "2022-06-30T07:43:36.138526Z"
    },
    "papermill": {
     "duration": 0.056287,
     "end_time": "2022-06-30T07:43:36.143051",
     "exception": false,
     "start_time": "2022-06-30T07:43:36.086764",
     "status": "completed"
    },
    "tags": []
   },
   "outputs": [
    {
     "data": {
      "text/html": [
       "<div>\n",
       "<style scoped>\n",
       "    .dataframe tbody tr th:only-of-type {\n",
       "        vertical-align: middle;\n",
       "    }\n",
       "\n",
       "    .dataframe tbody tr th {\n",
       "        vertical-align: top;\n",
       "    }\n",
       "\n",
       "    .dataframe thead th {\n",
       "        text-align: right;\n",
       "    }\n",
       "</style>\n",
       "<table border=\"1\" class=\"dataframe\">\n",
       "  <thead>\n",
       "    <tr style=\"text-align: right;\">\n",
       "      <th></th>\n",
       "      <th>bodyType</th>\n",
       "      <th>brand</th>\n",
       "      <th>color</th>\n",
       "      <th>description</th>\n",
       "      <th>engineDisplacement</th>\n",
       "      <th>enginePower</th>\n",
       "      <th>fuelType</th>\n",
       "      <th>mileage</th>\n",
       "      <th>modelDate</th>\n",
       "      <th>model_info</th>\n",
       "      <th>name</th>\n",
       "      <th>numberOfDoors</th>\n",
       "      <th>productionDate</th>\n",
       "      <th>sell_id</th>\n",
       "      <th>vehicleConfiguration</th>\n",
       "      <th>vehicleTransmission</th>\n",
       "      <th>Владельцы</th>\n",
       "      <th>Владение</th>\n",
       "      <th>ПТС</th>\n",
       "      <th>Привод</th>\n",
       "      <th>Руль</th>\n",
       "      <th>sample</th>\n",
       "      <th>price</th>\n",
       "    </tr>\n",
       "  </thead>\n",
       "  <tbody>\n",
       "    <tr>\n",
       "      <th>0</th>\n",
       "      <td>универсал 5 дв.</td>\n",
       "      <td>MERCEDES</td>\n",
       "      <td>чёрный</td>\n",
       "      <td>Всем привет!\\n\\nПродам эксклюзивный проект 124...</td>\n",
       "      <td>3.0 LTR</td>\n",
       "      <td>220 N12</td>\n",
       "      <td>бензин</td>\n",
       "      <td>350000</td>\n",
       "      <td>1984</td>\n",
       "      <td>W124</td>\n",
       "      <td>300 3.0 AT (220 л.с.)</td>\n",
       "      <td>5</td>\n",
       "      <td>1991</td>\n",
       "      <td>1099427284</td>\n",
       "      <td>WAGON_5_DOORS AUTOMATIC 3.0</td>\n",
       "      <td>автоматическая</td>\n",
       "      <td>3 или более</td>\n",
       "      <td>6 лет и 3 месяца</td>\n",
       "      <td>Оригинал</td>\n",
       "      <td>задний</td>\n",
       "      <td>Левый</td>\n",
       "      <td>0</td>\n",
       "      <td>0.0</td>\n",
       "    </tr>\n",
       "    <tr>\n",
       "      <th>1</th>\n",
       "      <td>купе</td>\n",
       "      <td>BMW</td>\n",
       "      <td>белый</td>\n",
       "      <td>Продаю любимейшую тачилу.. Обвес и тюнинг Hamm...</td>\n",
       "      <td>3.0 LTR</td>\n",
       "      <td>313 N12</td>\n",
       "      <td>дизель</td>\n",
       "      <td>15000</td>\n",
       "      <td>2011</td>\n",
       "      <td>6ER</td>\n",
       "      <td>640d xDrive 3.0d AT (313 л.с.) 4WD</td>\n",
       "      <td>2</td>\n",
       "      <td>2013</td>\n",
       "      <td>1096405886</td>\n",
       "      <td>COUPE AUTOMATIC 3.0</td>\n",
       "      <td>автоматическая</td>\n",
       "      <td>1 владелец</td>\n",
       "      <td>6 лет и 6 месяцев</td>\n",
       "      <td>Оригинал</td>\n",
       "      <td>полный</td>\n",
       "      <td>Левый</td>\n",
       "      <td>0</td>\n",
       "      <td>0.0</td>\n",
       "    </tr>\n",
       "    <tr>\n",
       "      <th>2</th>\n",
       "      <td>купе</td>\n",
       "      <td>BMW</td>\n",
       "      <td>пурпурный</td>\n",
       "      <td>Машина тут продаётся не в первый раз, НО! Толь...</td>\n",
       "      <td>2.5 LTR</td>\n",
       "      <td>218 N12</td>\n",
       "      <td>бензин</td>\n",
       "      <td>166600</td>\n",
       "      <td>2005</td>\n",
       "      <td>3ER</td>\n",
       "      <td>325xi 2.5 AT (218 л.с.) 4WD</td>\n",
       "      <td>2</td>\n",
       "      <td>2008</td>\n",
       "      <td>1100195294</td>\n",
       "      <td>COUPE AUTOMATIC 2.5</td>\n",
       "      <td>автоматическая</td>\n",
       "      <td>3 или более</td>\n",
       "      <td>NaN</td>\n",
       "      <td>Оригинал</td>\n",
       "      <td>полный</td>\n",
       "      <td>Левый</td>\n",
       "      <td>0</td>\n",
       "      <td>0.0</td>\n",
       "    </tr>\n",
       "    <tr>\n",
       "      <th>3</th>\n",
       "      <td>седан</td>\n",
       "      <td>BMW</td>\n",
       "      <td>белый</td>\n",
       "      <td>Автомобиль в отличном состоянии, весь в родной...</td>\n",
       "      <td>2.0 LTR</td>\n",
       "      <td>136 N12</td>\n",
       "      <td>бензин</td>\n",
       "      <td>147000</td>\n",
       "      <td>2005</td>\n",
       "      <td>3ER</td>\n",
       "      <td>318i 2.0 AT (136 л.с.)</td>\n",
       "      <td>4</td>\n",
       "      <td>2007</td>\n",
       "      <td>1099827282</td>\n",
       "      <td>SEDAN AUTOMATIC 2.0</td>\n",
       "      <td>автоматическая</td>\n",
       "      <td>2 владельца</td>\n",
       "      <td>NaN</td>\n",
       "      <td>Оригинал</td>\n",
       "      <td>задний</td>\n",
       "      <td>Левый</td>\n",
       "      <td>0</td>\n",
       "      <td>0.0</td>\n",
       "    </tr>\n",
       "    <tr>\n",
       "      <th>4</th>\n",
       "      <td>седан</td>\n",
       "      <td>BMW</td>\n",
       "      <td>чёрный</td>\n",
       "      <td>Немка! с бесключивым доступом и камерой заднег...</td>\n",
       "      <td>2.0 LTR</td>\n",
       "      <td>190 N12</td>\n",
       "      <td>дизель</td>\n",
       "      <td>24000</td>\n",
       "      <td>2016</td>\n",
       "      <td>5ER</td>\n",
       "      <td>520d xDrive 2.0d AT (190 л.с.) 4WD</td>\n",
       "      <td>4</td>\n",
       "      <td>2019</td>\n",
       "      <td>1100076198</td>\n",
       "      <td>SEDAN AUTOMATIC 2.0</td>\n",
       "      <td>автоматическая</td>\n",
       "      <td>1 владелец</td>\n",
       "      <td>NaN</td>\n",
       "      <td>Оригинал</td>\n",
       "      <td>полный</td>\n",
       "      <td>Левый</td>\n",
       "      <td>0</td>\n",
       "      <td>0.0</td>\n",
       "    </tr>\n",
       "  </tbody>\n",
       "</table>\n",
       "</div>"
      ],
      "text/plain": [
       "          bodyType     brand      color  \\\n",
       "0  универсал 5 дв.  MERCEDES     чёрный   \n",
       "1             купе       BMW      белый   \n",
       "2             купе       BMW  пурпурный   \n",
       "3            седан       BMW      белый   \n",
       "4            седан       BMW     чёрный   \n",
       "\n",
       "                                         description engineDisplacement  \\\n",
       "0  Всем привет!\\n\\nПродам эксклюзивный проект 124...            3.0 LTR   \n",
       "1  Продаю любимейшую тачилу.. Обвес и тюнинг Hamm...            3.0 LTR   \n",
       "2  Машина тут продаётся не в первый раз, НО! Толь...            2.5 LTR   \n",
       "3  Автомобиль в отличном состоянии, весь в родной...            2.0 LTR   \n",
       "4  Немка! с бесключивым доступом и камерой заднег...            2.0 LTR   \n",
       "\n",
       "  enginePower fuelType  mileage  modelDate model_info  \\\n",
       "0     220 N12   бензин   350000       1984       W124   \n",
       "1     313 N12   дизель    15000       2011        6ER   \n",
       "2     218 N12   бензин   166600       2005        3ER   \n",
       "3     136 N12   бензин   147000       2005        3ER   \n",
       "4     190 N12   дизель    24000       2016        5ER   \n",
       "\n",
       "                                 name  numberOfDoors  productionDate  \\\n",
       "0               300 3.0 AT (220 л.с.)              5            1991   \n",
       "1  640d xDrive 3.0d AT (313 л.с.) 4WD              2            2013   \n",
       "2         325xi 2.5 AT (218 л.с.) 4WD              2            2008   \n",
       "3              318i 2.0 AT (136 л.с.)              4            2007   \n",
       "4  520d xDrive 2.0d AT (190 л.с.) 4WD              4            2019   \n",
       "\n",
       "      sell_id         vehicleConfiguration vehicleTransmission    Владельцы  \\\n",
       "0  1099427284  WAGON_5_DOORS AUTOMATIC 3.0      автоматическая  3 или более   \n",
       "1  1096405886          COUPE AUTOMATIC 3.0      автоматическая   1 владелец   \n",
       "2  1100195294          COUPE AUTOMATIC 2.5      автоматическая  3 или более   \n",
       "3  1099827282          SEDAN AUTOMATIC 2.0      автоматическая  2 владельца   \n",
       "4  1100076198          SEDAN AUTOMATIC 2.0      автоматическая   1 владелец   \n",
       "\n",
       "            Владение       ПТС  Привод   Руль  sample  price  \n",
       "0   6 лет и 3 месяца  Оригинал  задний  Левый       0    0.0  \n",
       "1  6 лет и 6 месяцев  Оригинал  полный  Левый       0    0.0  \n",
       "2                NaN  Оригинал  полный  Левый       0    0.0  \n",
       "3                NaN  Оригинал  задний  Левый       0    0.0  \n",
       "4                NaN  Оригинал  полный  Левый       0    0.0  "
      ]
     },
     "execution_count": 15,
     "metadata": {},
     "output_type": "execute_result"
    }
   ],
   "source": [
    "data.head()"
   ]
  },
  {
   "cell_type": "code",
   "execution_count": 16,
   "id": "ce2b295c",
   "metadata": {
    "execution": {
     "iopub.execute_input": "2022-06-30T07:43:36.195390Z",
     "iopub.status.busy": "2022-06-30T07:43:36.194666Z",
     "iopub.status.idle": "2022-06-30T07:43:36.202551Z",
     "shell.execute_reply": "2022-06-30T07:43:36.201606Z"
    },
    "papermill": {
     "duration": 0.036289,
     "end_time": "2022-06-30T07:43:36.204592",
     "exception": false,
     "start_time": "2022-06-30T07:43:36.168303",
     "status": "completed"
    },
    "tags": []
   },
   "outputs": [],
   "source": [
    "# В этой колонке дублируется информация из других колонок, так что удаляем\n",
    "data.drop('vehicleConfiguration', axis = 1, inplace=True)"
   ]
  },
  {
   "cell_type": "code",
   "execution_count": 17,
   "id": "e9db9911",
   "metadata": {
    "execution": {
     "iopub.execute_input": "2022-06-30T07:43:36.253079Z",
     "iopub.status.busy": "2022-06-30T07:43:36.252717Z",
     "iopub.status.idle": "2022-06-30T07:43:36.257242Z",
     "shell.execute_reply": "2022-06-30T07:43:36.256125Z"
    },
    "papermill": {
     "duration": 0.031517,
     "end_time": "2022-06-30T07:43:36.259377",
     "exception": false,
     "start_time": "2022-06-30T07:43:36.227860",
     "status": "completed"
    },
    "tags": []
   },
   "outputs": [],
   "source": [
    "# Быстрый EDA \n",
    "#profile = ProfileReport(data, title='Dataset Pandas Profiling Report', explorative = True)\n",
    "#profile"
   ]
  },
  {
   "cell_type": "markdown",
   "id": "b8c0a62e",
   "metadata": {
    "papermill": {
     "duration": 0.024086,
     "end_time": "2022-06-30T07:43:36.307343",
     "exception": false,
     "start_time": "2022-06-30T07:43:36.283257",
     "status": "completed"
    },
    "tags": []
   },
   "source": [
    "## Посмотрим на переменные нашего датасета\n"
   ]
  },
  {
   "cell_type": "markdown",
   "id": "18dafead",
   "metadata": {
    "papermill": {
     "duration": 0.023911,
     "end_time": "2022-06-30T07:43:36.355243",
     "exception": false,
     "start_time": "2022-06-30T07:43:36.331332",
     "status": "completed"
    },
    "tags": []
   },
   "source": [
    "#### bodyType - тип кузова\n",
    "17 разных значения из-за лишней информации в признаке (кол-во дверей). Пропусков нет. "
   ]
  },
  {
   "cell_type": "code",
   "execution_count": 18,
   "id": "4f172f85",
   "metadata": {
    "execution": {
     "iopub.execute_input": "2022-06-30T07:43:36.404458Z",
     "iopub.status.busy": "2022-06-30T07:43:36.403439Z",
     "iopub.status.idle": "2022-06-30T07:43:36.417809Z",
     "shell.execute_reply": "2022-06-30T07:43:36.416798Z"
    },
    "papermill": {
     "duration": 0.041559,
     "end_time": "2022-06-30T07:43:36.419984",
     "exception": false,
     "start_time": "2022-06-30T07:43:36.378425",
     "status": "completed"
    },
    "tags": []
   },
   "outputs": [
    {
     "data": {
      "text/plain": [
       "13"
      ]
     },
     "execution_count": 18,
     "metadata": {},
     "output_type": "execute_result"
    }
   ],
   "source": [
    "# В признаке \"тип кузова\" уберем лишнюю информацию\n",
    "data.bodyType = data.bodyType.apply(lambda x: x.split(' ')[0])\n",
    "\n",
    "data.bodyType.nunique()"
   ]
  },
  {
   "cell_type": "markdown",
   "id": "3a7c2a3a",
   "metadata": {
    "papermill": {
     "duration": 0.023533,
     "end_time": "2022-06-30T07:43:36.467649",
     "exception": false,
     "start_time": "2022-06-30T07:43:36.444116",
     "status": "completed"
    },
    "tags": []
   },
   "source": [
    "#### engineDisplacement - объем двигателя в литрах"
   ]
  },
  {
   "cell_type": "code",
   "execution_count": 19,
   "id": "c35c0f08",
   "metadata": {
    "execution": {
     "iopub.execute_input": "2022-06-30T07:43:36.515893Z",
     "iopub.status.busy": "2022-06-30T07:43:36.515544Z",
     "iopub.status.idle": "2022-06-30T07:43:36.526657Z",
     "shell.execute_reply": "2022-06-30T07:43:36.525626Z"
    },
    "papermill": {
     "duration": 0.037876,
     "end_time": "2022-06-30T07:43:36.528693",
     "exception": false,
     "start_time": "2022-06-30T07:43:36.490817",
     "status": "completed"
    },
    "tags": []
   },
   "outputs": [
    {
     "data": {
      "text/plain": [
       "электро    6\n",
       "Name: fuelType, dtype: int64"
      ]
     },
     "execution_count": 19,
     "metadata": {},
     "output_type": "execute_result"
    }
   ],
   "source": [
    "# значение undefined только у электрокаров => у них объем двигателя равен нулю\n",
    "data[data.engineDisplacement == 'undefined LTR'].fuelType.value_counts()"
   ]
  },
  {
   "cell_type": "code",
   "execution_count": 20,
   "id": "2b3f4675",
   "metadata": {
    "execution": {
     "iopub.execute_input": "2022-06-30T07:43:36.577971Z",
     "iopub.status.busy": "2022-06-30T07:43:36.576429Z",
     "iopub.status.idle": "2022-06-30T07:43:36.590405Z",
     "shell.execute_reply": "2022-06-30T07:43:36.589483Z"
    },
    "papermill": {
     "duration": 0.040725,
     "end_time": "2022-06-30T07:43:36.592735",
     "exception": false,
     "start_time": "2022-06-30T07:43:36.552010",
     "status": "completed"
    },
    "tags": []
   },
   "outputs": [],
   "source": [
    "data.engineDisplacement = data.engineDisplacement.apply(get_correct_engineDisplacement)"
   ]
  },
  {
   "cell_type": "markdown",
   "id": "02a7f10c",
   "metadata": {
    "papermill": {
     "duration": 0.023755,
     "end_time": "2022-06-30T07:43:36.639081",
     "exception": false,
     "start_time": "2022-06-30T07:43:36.615326",
     "status": "completed"
    },
    "tags": []
   },
   "source": [
    "#### enginePower - мощность двигателя"
   ]
  },
  {
   "cell_type": "code",
   "execution_count": 21,
   "id": "61df62fe",
   "metadata": {
    "execution": {
     "iopub.execute_input": "2022-06-30T07:43:36.686524Z",
     "iopub.status.busy": "2022-06-30T07:43:36.685949Z",
     "iopub.status.idle": "2022-06-30T07:43:36.699968Z",
     "shell.execute_reply": "2022-06-30T07:43:36.699015Z"
    },
    "papermill": {
     "duration": 0.040009,
     "end_time": "2022-06-30T07:43:36.701977",
     "exception": false,
     "start_time": "2022-06-30T07:43:36.661968",
     "status": "completed"
    },
    "tags": []
   },
   "outputs": [],
   "source": [
    "# приведем признак в тесте в типу данных int64 и уберем ' N12'\n",
    "data.enginePower = data.enginePower.apply(lambda x: int(x.split(' N12')[0]))"
   ]
  },
  {
   "cell_type": "markdown",
   "id": "bb364e93",
   "metadata": {
    "papermill": {
     "duration": 0.023252,
     "end_time": "2022-06-30T07:43:36.749299",
     "exception": false,
     "start_time": "2022-06-30T07:43:36.726047",
     "status": "completed"
    },
    "tags": []
   },
   "source": [
    "#### Владельцы\n",
    "В датасете представлены только подержаные машины - от одного и более предыдущих владельцев"
   ]
  },
  {
   "cell_type": "code",
   "execution_count": 22,
   "id": "5dc2a85c",
   "metadata": {
    "execution": {
     "iopub.execute_input": "2022-06-30T07:43:36.800603Z",
     "iopub.status.busy": "2022-06-30T07:43:36.799435Z",
     "iopub.status.idle": "2022-06-30T07:43:36.818278Z",
     "shell.execute_reply": "2022-06-30T07:43:36.817305Z"
    },
    "papermill": {
     "duration": 0.047334,
     "end_time": "2022-06-30T07:43:36.820691",
     "exception": false,
     "start_time": "2022-06-30T07:43:36.773357",
     "status": "completed"
    },
    "tags": []
   },
   "outputs": [],
   "source": [
    "# единственный пропуск заполним самым часто встречающимся значением\n",
    "data['Владельцы'].fillna(data['Владельцы'].value_counts().index[0], inplace=True)\n",
    "# оставим в этой колонке только число\n",
    "data['Владельцы'] = data['Владельцы'].apply(lambda x: int(x.split()[0]))"
   ]
  },
  {
   "cell_type": "markdown",
   "id": "c886cd56",
   "metadata": {
    "papermill": {
     "duration": 0.023966,
     "end_time": "2022-06-30T07:43:36.869308",
     "exception": false,
     "start_time": "2022-06-30T07:43:36.845342",
     "status": "completed"
    },
    "tags": []
   },
   "source": [
    "#### Владение - количество лет и месяцев владения машиной у последнего владельца"
   ]
  },
  {
   "cell_type": "code",
   "execution_count": 23,
   "id": "98d01f5c",
   "metadata": {
    "execution": {
     "iopub.execute_input": "2022-06-30T07:43:36.918915Z",
     "iopub.status.busy": "2022-06-30T07:43:36.918544Z",
     "iopub.status.idle": "2022-06-30T07:43:36.941977Z",
     "shell.execute_reply": "2022-06-30T07:43:36.940788Z"
    },
    "papermill": {
     "duration": 0.051698,
     "end_time": "2022-06-30T07:43:36.944519",
     "exception": false,
     "start_time": "2022-06-30T07:43:36.892821",
     "status": "completed"
    },
    "tags": []
   },
   "outputs": [
    {
     "data": {
      "text/plain": [
       "5418"
      ]
     },
     "execution_count": 23,
     "metadata": {},
     "output_type": "execute_result"
    }
   ],
   "source": [
    "#Переведем признак в числовой формат - количество месяцев\n",
    "data['Владение'] = data['Владение'].apply(num_of_months)\n",
    "#По-прежнему много пропусков\n",
    "data['Владение'].isna().sum()"
   ]
  },
  {
   "cell_type": "code",
   "execution_count": 24,
   "id": "4b7644bb",
   "metadata": {
    "execution": {
     "iopub.execute_input": "2022-06-30T07:43:36.998320Z",
     "iopub.status.busy": "2022-06-30T07:43:36.997703Z",
     "iopub.status.idle": "2022-06-30T07:43:37.463129Z",
     "shell.execute_reply": "2022-06-30T07:43:37.462032Z"
    },
    "papermill": {
     "duration": 0.49549,
     "end_time": "2022-06-30T07:43:37.466098",
     "exception": false,
     "start_time": "2022-06-30T07:43:36.970608",
     "status": "completed"
    },
    "tags": []
   },
   "outputs": [],
   "source": [
    "# Заполним отсутствующие значения медианой (группируем по количеству владельцев) \n",
    "ownership = data[data.Владение != 'NaN'].groupby('Владельцы').Владение.median()\n",
    "ownership_dict = ownership.to_dict()\n",
    "data[data.Владение.isna()]= data[data.Владение.isna()].apply(fill_na_ownership, axis=1)"
   ]
  },
  {
   "cell_type": "code",
   "execution_count": 25,
   "id": "96b4ceb9",
   "metadata": {
    "execution": {
     "iopub.execute_input": "2022-06-30T07:43:37.517729Z",
     "iopub.status.busy": "2022-06-30T07:43:37.516728Z",
     "iopub.status.idle": "2022-06-30T07:43:37.542627Z",
     "shell.execute_reply": "2022-06-30T07:43:37.541505Z"
    },
    "papermill": {
     "duration": 0.054247,
     "end_time": "2022-06-30T07:43:37.545054",
     "exception": false,
     "start_time": "2022-06-30T07:43:37.490807",
     "status": "completed"
    },
    "tags": []
   },
   "outputs": [],
   "source": [
    "# достанем признак 'xDrive' из колонки name\n",
    "data['xDrive'] = data['name'].apply(lambda x: 1 if 'xDrive' in x else 0)\n",
    "# в признаке name оставляем только комплектацию автомобиля\n",
    "data['name'] = data['name'].str.split().apply(lambda x: x[0])"
   ]
  },
  {
   "cell_type": "code",
   "execution_count": 26,
   "id": "61b4e68a",
   "metadata": {
    "execution": {
     "iopub.execute_input": "2022-06-30T07:43:37.595906Z",
     "iopub.status.busy": "2022-06-30T07:43:37.595285Z",
     "iopub.status.idle": "2022-06-30T07:43:37.604683Z",
     "shell.execute_reply": "2022-06-30T07:43:37.603439Z"
    },
    "papermill": {
     "duration": 0.037665,
     "end_time": "2022-06-30T07:43:37.606969",
     "exception": false,
     "start_time": "2022-06-30T07:43:37.569304",
     "status": "completed"
    },
    "tags": []
   },
   "outputs": [],
   "source": [
    "# датасет был собран в 2020 году, так что отсчет ведем с этого момента\n",
    "data['car_age'] = 2020 - data.productionDate\n",
    "# колонку удалим\n",
    "data.drop('productionDate', axis = 1, inplace=True)"
   ]
  },
  {
   "cell_type": "markdown",
   "id": "e8cc50c4",
   "metadata": {
    "papermill": {
     "duration": 0.024456,
     "end_time": "2022-06-30T07:43:37.655416",
     "exception": false,
     "start_time": "2022-06-30T07:43:37.630960",
     "status": "completed"
    },
    "tags": []
   },
   "source": [
    "### Анализ категориальных переменных"
   ]
  },
  {
   "cell_type": "code",
   "execution_count": 27,
   "id": "7096a8c7",
   "metadata": {
    "execution": {
     "iopub.execute_input": "2022-06-30T07:43:37.706205Z",
     "iopub.status.busy": "2022-06-30T07:43:37.705160Z",
     "iopub.status.idle": "2022-06-30T07:43:37.711186Z",
     "shell.execute_reply": "2022-06-30T07:43:37.710094Z"
    },
    "papermill": {
     "duration": 0.03374,
     "end_time": "2022-06-30T07:43:37.713343",
     "exception": false,
     "start_time": "2022-06-30T07:43:37.679603",
     "status": "completed"
    },
    "tags": []
   },
   "outputs": [],
   "source": [
    "bin_cols = ['ПТС', 'Руль','xDrive']\n",
    "cat_cols = ['bodyType', 'brand','color','fuelType', 'model_info', 'name','numberOfDoors', 'vehicleTransmission', 'Владельцы', 'Привод']\n",
    "num_cols = ['modelDate','engineDisplacement', 'enginePower','mileage', 'car_age', 'Владение']"
   ]
  },
  {
   "cell_type": "markdown",
   "id": "5f94343e",
   "metadata": {
    "papermill": {
     "duration": 0.023423,
     "end_time": "2022-06-30T07:43:37.762352",
     "exception": false,
     "start_time": "2022-06-30T07:43:37.738929",
     "status": "completed"
    },
    "tags": []
   },
   "source": [
    "### Дополнительная обработка категориальных переменных"
   ]
  },
  {
   "cell_type": "code",
   "execution_count": 28,
   "id": "f4d98446",
   "metadata": {
    "execution": {
     "iopub.execute_input": "2022-06-30T07:43:37.813714Z",
     "iopub.status.busy": "2022-06-30T07:43:37.812545Z",
     "iopub.status.idle": "2022-06-30T07:43:38.049221Z",
     "shell.execute_reply": "2022-06-30T07:43:38.048198Z"
    },
    "papermill": {
     "duration": 0.265411,
     "end_time": "2022-06-30T07:43:38.052127",
     "exception": false,
     "start_time": "2022-06-30T07:43:37.786716",
     "status": "completed"
    },
    "tags": []
   },
   "outputs": [
    {
     "name": "stdout",
     "output_type": "stream",
     "text": [
      "{0: 'Дубликат', 1: 'Оригинал'}\n",
      "{0: 'Левый', 1: 'Правый'}\n",
      "{0: 0, 1: 1}\n"
     ]
    }
   ],
   "source": [
    "# Перекодируем бинарные переменные с текстовыми значениями\n",
    "le = LabelEncoder()\n",
    "for column in bin_cols:\n",
    "    data[column] = le.fit_transform(data[column])\n",
    "    print(dict(enumerate(le.classes_)))\n",
    "\n",
    "    # Создадим фиктивные переменные на основе категориальных колонок\n",
    "ohe = OneHotEncoder(sparse = False, dtype='uint8')\n",
    "cat_cols_encoded = ohe.fit_transform(data[cat_cols].values)\n",
    "cat_cols_encoded_features = ohe.get_feature_names(cat_cols)\n",
    "data[cat_cols_encoded_features] = pd.DataFrame(cat_cols_encoded, columns=cat_cols_encoded_features)\n",
    "\n",
    "\n",
    "dummy_cols= list(cat_cols_encoded_features) + bin_cols"
   ]
  },
  {
   "cell_type": "markdown",
   "id": "d7d59779",
   "metadata": {
    "papermill": {
     "duration": 0.023638,
     "end_time": "2022-06-30T07:43:38.101009",
     "exception": false,
     "start_time": "2022-06-30T07:43:38.077371",
     "status": "completed"
    },
    "tags": []
   },
   "source": [
    "### Числовые переменные"
   ]
  },
  {
   "cell_type": "code",
   "execution_count": 29,
   "id": "480d92fb",
   "metadata": {
    "execution": {
     "iopub.execute_input": "2022-06-30T07:43:38.152749Z",
     "iopub.status.busy": "2022-06-30T07:43:38.151682Z",
     "iopub.status.idle": "2022-06-30T07:43:39.392093Z",
     "shell.execute_reply": "2022-06-30T07:43:39.390928Z"
    },
    "papermill": {
     "duration": 1.268768,
     "end_time": "2022-06-30T07:43:39.394609",
     "exception": false,
     "start_time": "2022-06-30T07:43:38.125841",
     "status": "completed"
    },
    "tags": []
   },
   "outputs": [
    {
     "data": {
      "image/png": "[encoded data removed]",
      "text/plain": [
       "<Figure size 460.8x316.8 with 1 Axes>"
      ]
     },
     "metadata": {
      "needs_background": "light"
     },
     "output_type": "display_data"
    },
    {
     "data": {
      "image/png": "[encoded data removed]",
      "text/plain": [
       "<Figure size 460.8x316.8 with 1 Axes>"
      ]
     },
     "metadata": {
      "needs_background": "light"
     },
     "output_type": "display_data"
    },
    {
     "data": {
      "image/png": "[encoded data removed]",
      "text/plain": [
       "<Figure size 460.8x316.8 with 1 Axes>"
      ]
     },
     "metadata": {
      "needs_background": "light"
     },
     "output_type": "display_data"
    },
    {
     "data": {
      "image/png": "[encoded data removed]",
      "text/plain": [
       "<Figure size 460.8x316.8 with 1 Axes>"
      ]
     },
     "metadata": {
      "needs_background": "light"
     },
     "output_type": "display_data"
    },
    {
     "data": {
      "image/png": "[encoded data removed]",
      "text/plain": [
       "<Figure size 460.8x316.8 with 1 Axes>"
      ]
     },
     "metadata": {
      "needs_background": "light"
     },
     "output_type": "display_data"
    },
    {
     "data": {
      "image/png": "[encoded data removed]",
      "text/plain": [
       "<Figure size 460.8x316.8 with 1 Axes>"
      ]
     },
     "metadata": {
      "needs_background": "light"
     },
     "output_type": "display_data"
    }
   ],
   "source": [
    "for col in num_cols:\n",
    "    plt.figure()\n",
    "    sns.boxplot(data[col])\n",
    "    plt.title(col)\n",
    "    plt.show()\n"
   ]
  },
  {
   "cell_type": "markdown",
   "id": "38dac24c",
   "metadata": {
    "papermill": {
     "duration": 0.02444,
     "end_time": "2022-06-30T07:43:39.446498",
     "exception": false,
     "start_time": "2022-06-30T07:43:39.422058",
     "status": "completed"
    },
    "tags": []
   },
   "source": [
    "Практически во всех числовых переменных есть выбросы, распределения имеют выраженные правые \"хвосты\"."
   ]
  },
  {
   "cell_type": "markdown",
   "id": "d52b7f27",
   "metadata": {
    "papermill": {
     "duration": 0.025951,
     "end_time": "2022-06-30T07:43:39.497385",
     "exception": false,
     "start_time": "2022-06-30T07:43:39.471434",
     "status": "completed"
    },
    "tags": []
   },
   "source": [
    "## Генерация признаков"
   ]
  },
  {
   "cell_type": "code",
   "execution_count": 30,
   "id": "076f5bef",
   "metadata": {
    "execution": {
     "iopub.execute_input": "2022-06-30T07:43:39.551381Z",
     "iopub.status.busy": "2022-06-30T07:43:39.550231Z",
     "iopub.status.idle": "2022-06-30T07:43:39.563222Z",
     "shell.execute_reply": "2022-06-30T07:43:39.562141Z"
    },
    "papermill": {
     "duration": 0.042691,
     "end_time": "2022-06-30T07:43:39.565430",
     "exception": false,
     "start_time": "2022-06-30T07:43:39.522739",
     "status": "completed"
    },
    "tags": []
   },
   "outputs": [],
   "source": [
    "# Добавим новый признак - длина описания в символах (мб лучше сделать длину в словах?)\n",
    "data['description_len'] = data['description'].apply(lambda x: len(x))\n",
    "num_cols.append('description_len')"
   ]
  },
  {
   "cell_type": "code",
   "execution_count": 31,
   "id": "fc438d67",
   "metadata": {
    "execution": {
     "iopub.execute_input": "2022-06-30T07:43:39.617420Z",
     "iopub.status.busy": "2022-06-30T07:43:39.616681Z",
     "iopub.status.idle": "2022-06-30T07:43:39.785557Z",
     "shell.execute_reply": "2022-06-30T07:43:39.784315Z"
    },
    "papermill": {
     "duration": 0.197899,
     "end_time": "2022-06-30T07:43:39.788656",
     "exception": false,
     "start_time": "2022-06-30T07:43:39.590757",
     "status": "completed"
    },
    "tags": []
   },
   "outputs": [
    {
     "data": {
      "text/plain": [
       "<AxesSubplot:xlabel='description_len'>"
      ]
     },
     "execution_count": 31,
     "metadata": {},
     "output_type": "execute_result"
    },
    {
     "data": {
      "image/png": "[encoded data removed]",
      "text/plain": [
       "<Figure size 460.8x316.8 with 1 Axes>"
      ]
     },
     "metadata": {
      "needs_background": "light"
     },
     "output_type": "display_data"
    }
   ],
   "source": [
    "sns.boxplot(data['description_len'])"
   ]
  },
  {
   "cell_type": "code",
   "execution_count": 32,
   "id": "1cf87fb8",
   "metadata": {
    "execution": {
     "iopub.execute_input": "2022-06-30T07:43:39.898648Z",
     "iopub.status.busy": "2022-06-30T07:43:39.898082Z",
     "iopub.status.idle": "2022-06-30T07:43:39.910726Z",
     "shell.execute_reply": "2022-06-30T07:43:39.909506Z"
    },
    "papermill": {
     "duration": 0.069618,
     "end_time": "2022-06-30T07:43:39.913386",
     "exception": false,
     "start_time": "2022-06-30T07:43:39.843768",
     "status": "completed"
    },
    "tags": []
   },
   "outputs": [],
   "source": [
    "# признак - километраж за год. \n",
    "# Прибавляем 1 к возрасту машины, чтобы километраж был посчитан для машин, которые были произведены в год сбора данных\n",
    "data['miles_per_year'] = data['mileage'] // (data['car_age'] + 1)\n",
    "data['miles_per_year'].astype(int)\n",
    "num_cols.append('miles_per_year')"
   ]
  },
  {
   "cell_type": "code",
   "execution_count": 33,
   "id": "48aa7650",
   "metadata": {
    "execution": {
     "iopub.execute_input": "2022-06-30T07:43:40.021430Z",
     "iopub.status.busy": "2022-06-30T07:43:40.020918Z",
     "iopub.status.idle": "2022-06-30T07:43:40.255591Z",
     "shell.execute_reply": "2022-06-30T07:43:40.254617Z"
    },
    "papermill": {
     "duration": 0.292544,
     "end_time": "2022-06-30T07:43:40.258865",
     "exception": false,
     "start_time": "2022-06-30T07:43:39.966321",
     "status": "completed"
    },
    "tags": []
   },
   "outputs": [
    {
     "data": {
      "text/plain": [
       "<AxesSubplot:xlabel='miles_per_year'>"
      ]
     },
     "execution_count": 33,
     "metadata": {},
     "output_type": "execute_result"
    },
    {
     "data": {
      "image/png": "[encoded data removed]",
      "text/plain": [
       "<Figure size 460.8x316.8 with 1 Axes>"
      ]
     },
     "metadata": {
      "needs_background": "light"
     },
     "output_type": "display_data"
    }
   ],
   "source": [
    "sns.boxplot(data['miles_per_year'])"
   ]
  },
  {
   "cell_type": "code",
   "execution_count": 34,
   "id": "6f0ac7fa",
   "metadata": {
    "execution": {
     "iopub.execute_input": "2022-06-30T07:43:40.352390Z",
     "iopub.status.busy": "2022-06-30T07:43:40.351214Z",
     "iopub.status.idle": "2022-06-30T07:43:40.374803Z",
     "shell.execute_reply": "2022-06-30T07:43:40.373693Z"
    },
    "papermill": {
     "duration": 0.072124,
     "end_time": "2022-06-30T07:43:40.377218",
     "exception": false,
     "start_time": "2022-06-30T07:43:40.305094",
     "status": "completed"
    },
    "tags": []
   },
   "outputs": [],
   "source": [
    "# введем новый признак \"tax\" (расчет годового налога):\n",
    "data['tax'] = data.enginePower.apply(lambda x: x*12 if x <= 100\n",
    "                                     else x*25 if x > 100 and x <= 125\n",
    "                                     else x*35 if x > 125 and x <= 150\n",
    "                                     else x*45 if x > 150 and x <= 175\n",
    "                                     else x*55 if x > 175 and x <= 200\n",
    "                                     else x*65 if x > 200 and x <= 225\n",
    "                                     else x*75 if x > 225 and x <= 250\n",
    "                                     else x*150)\n",
    "num_cols.append('tax')"
   ]
  },
  {
   "cell_type": "code",
   "execution_count": 35,
   "id": "c705866a",
   "metadata": {
    "execution": {
     "iopub.execute_input": "2022-06-30T07:43:40.455861Z",
     "iopub.status.busy": "2022-06-30T07:43:40.455235Z",
     "iopub.status.idle": "2022-06-30T07:43:40.610003Z",
     "shell.execute_reply": "2022-06-30T07:43:40.608659Z"
    },
    "papermill": {
     "duration": 0.188499,
     "end_time": "2022-06-30T07:43:40.612900",
     "exception": false,
     "start_time": "2022-06-30T07:43:40.424401",
     "status": "completed"
    },
    "tags": []
   },
   "outputs": [
    {
     "data": {
      "text/plain": [
       "<AxesSubplot:xlabel='tax'>"
      ]
     },
     "execution_count": 35,
     "metadata": {},
     "output_type": "execute_result"
    },
    {
     "data": {
      "image/png": "[encoded data removed]",
      "text/plain": [
       "<Figure size 460.8x316.8 with 1 Axes>"
      ]
     },
     "metadata": {
      "needs_background": "light"
     },
     "output_type": "display_data"
    }
   ],
   "source": [
    "sns.boxplot(data['tax'])"
   ]
  },
  {
   "cell_type": "markdown",
   "id": "93750914",
   "metadata": {
    "papermill": {
     "duration": 0.0273,
     "end_time": "2022-06-30T07:43:40.673711",
     "exception": false,
     "start_time": "2022-06-30T07:43:40.646411",
     "status": "completed"
    },
    "tags": []
   },
   "source": [
    "## Отбор признаков"
   ]
  },
  {
   "cell_type": "code",
   "execution_count": 36,
   "id": "8ee4ec67",
   "metadata": {
    "execution": {
     "iopub.execute_input": "2022-06-30T07:43:40.732088Z",
     "iopub.status.busy": "2022-06-30T07:43:40.731688Z",
     "iopub.status.idle": "2022-06-30T07:43:40.770411Z",
     "shell.execute_reply": "2022-06-30T07:43:40.769313Z"
    },
    "papermill": {
     "duration": 0.069792,
     "end_time": "2022-06-30T07:43:40.773034",
     "exception": false,
     "start_time": "2022-06-30T07:43:40.703242",
     "status": "completed"
    },
    "tags": []
   },
   "outputs": [],
   "source": [
    "target = 'price'\n",
    "train_index = data[data['sample'] == 1].index\n",
    "test_index = data[data['sample'] == 0].index"
   ]
  },
  {
   "cell_type": "markdown",
   "id": "30e92a26",
   "metadata": {
    "papermill": {
     "duration": 0.027352,
     "end_time": "2022-06-30T07:43:40.828718",
     "exception": false,
     "start_time": "2022-06-30T07:43:40.801366",
     "status": "completed"
    },
    "tags": []
   },
   "source": [
    "### Корреляционный анализ"
   ]
  },
  {
   "cell_type": "code",
   "execution_count": 37,
   "id": "da403c81",
   "metadata": {
    "execution": {
     "iopub.execute_input": "2022-06-30T07:43:40.884398Z",
     "iopub.status.busy": "2022-06-30T07:43:40.884019Z",
     "iopub.status.idle": "2022-06-30T07:43:41.609829Z",
     "shell.execute_reply": "2022-06-30T07:43:41.608807Z"
    },
    "papermill": {
     "duration": 0.756919,
     "end_time": "2022-06-30T07:43:41.612599",
     "exception": false,
     "start_time": "2022-06-30T07:43:40.855680",
     "status": "completed"
    },
    "tags": []
   },
   "outputs": [
    {
     "data": {
      "text/plain": [
       "(10.5, -0.5)"
      ]
     },
     "execution_count": 37,
     "metadata": {},
     "output_type": "execute_result"
    },
    {
     "data": {
      "image/png": "[encoded data removed]",
      "text/plain": [
       "<Figure size 1296x720 with 2 Axes>"
      ]
     },
     "metadata": {
      "needs_background": "light"
     },
     "output_type": "display_data"
    }
   ],
   "source": [
    "plt.figure(figsize=(18, 10))\n",
    "ax = sns.heatmap(data.loc[train_index][num_cols+[target]].corr().abs(), vmin=0, vmax=1, annot = True)\n",
    "i, k = ax.get_ylim()\n",
    "ax.set_ylim(i+0.5, k-0.5)\n"
   ]
  },
  {
   "cell_type": "code",
   "execution_count": 38,
   "id": "69eb1e5a",
   "metadata": {
    "execution": {
     "iopub.execute_input": "2022-06-30T07:43:41.670648Z",
     "iopub.status.busy": "2022-06-30T07:43:41.670247Z",
     "iopub.status.idle": "2022-06-30T07:43:41.684341Z",
     "shell.execute_reply": "2022-06-30T07:43:41.683158Z"
    },
    "papermill": {
     "duration": 0.046364,
     "end_time": "2022-06-30T07:43:41.687019",
     "exception": false,
     "start_time": "2022-06-30T07:43:41.640655",
     "status": "completed"
    },
    "tags": []
   },
   "outputs": [],
   "source": [
    "# числовые колонки логарифмируем,чтобы избавиться от правых хвостов распределений\n",
    "for col in num_cols:\n",
    "    data[col] = np.log(data[col] + 1)"
   ]
  },
  {
   "cell_type": "code",
   "execution_count": 39,
   "id": "b96c6e92",
   "metadata": {
    "execution": {
     "iopub.execute_input": "2022-06-30T07:43:41.746670Z",
     "iopub.status.busy": "2022-06-30T07:43:41.745418Z",
     "iopub.status.idle": "2022-06-30T07:43:41.752412Z",
     "shell.execute_reply": "2022-06-30T07:43:41.750965Z"
    },
    "papermill": {
     "duration": 0.038642,
     "end_time": "2022-06-30T07:43:41.754779",
     "exception": false,
     "start_time": "2022-06-30T07:43:41.716137",
     "status": "completed"
    },
    "tags": []
   },
   "outputs": [],
   "source": [
    "# логарифмируем цену\n",
    "data.price = np.log(data.price)"
   ]
  },
  {
   "cell_type": "markdown",
   "id": "1b82e657",
   "metadata": {
    "papermill": {
     "duration": 0.027404,
     "end_time": "2022-06-30T07:43:41.809825",
     "exception": false,
     "start_time": "2022-06-30T07:43:41.782421",
     "status": "completed"
    },
    "tags": []
   },
   "source": [
    "### Подготовка данных для машинного обучения"
   ]
  },
  {
   "cell_type": "code",
   "execution_count": 40,
   "id": "546abf2c",
   "metadata": {
    "execution": {
     "iopub.execute_input": "2022-06-30T07:43:41.866668Z",
     "iopub.status.busy": "2022-06-30T07:43:41.865788Z",
     "iopub.status.idle": "2022-06-30T07:43:41.892213Z",
     "shell.execute_reply": "2022-06-30T07:43:41.891172Z"
    },
    "papermill": {
     "duration": 0.057178,
     "end_time": "2022-06-30T07:43:41.894594",
     "exception": false,
     "start_time": "2022-06-30T07:43:41.837416",
     "status": "completed"
    },
    "tags": []
   },
   "outputs": [],
   "source": [
    "train_proc = data.loc[train_index]\n",
    "test_proc = data.loc[test_index]"
   ]
  },
  {
   "cell_type": "code",
   "execution_count": 41,
   "id": "a8d1085d",
   "metadata": {
    "execution": {
     "iopub.execute_input": "2022-06-30T07:43:41.952738Z",
     "iopub.status.busy": "2022-06-30T07:43:41.951492Z",
     "iopub.status.idle": "2022-06-30T07:43:41.959177Z",
     "shell.execute_reply": "2022-06-30T07:43:41.958136Z"
    },
    "papermill": {
     "duration": 0.039174,
     "end_time": "2022-06-30T07:43:41.961416",
     "exception": false,
     "start_time": "2022-06-30T07:43:41.922242",
     "status": "completed"
    },
    "tags": []
   },
   "outputs": [
    {
     "data": {
      "text/plain": [
       "((6682, 434), (1671, 434))"
      ]
     },
     "execution_count": 41,
     "metadata": {},
     "output_type": "execute_result"
    }
   ],
   "source": [
    "train_proc.shape, test_proc.shape"
   ]
  },
  {
   "cell_type": "code",
   "execution_count": 42,
   "id": "7a2e722c",
   "metadata": {
    "execution": {
     "iopub.execute_input": "2022-06-30T07:43:42.020420Z",
     "iopub.status.busy": "2022-06-30T07:43:42.019342Z",
     "iopub.status.idle": "2022-06-30T07:43:42.030533Z",
     "shell.execute_reply": "2022-06-30T07:43:42.029438Z"
    },
    "papermill": {
     "duration": 0.042341,
     "end_time": "2022-06-30T07:43:42.032813",
     "exception": false,
     "start_time": "2022-06-30T07:43:41.990472",
     "status": "completed"
    },
    "tags": []
   },
   "outputs": [],
   "source": [
    "X = train_proc[dummy_cols+ num_cols]\n",
    "X_sub = test_proc[dummy_cols+num_cols]\n",
    "\n",
    "y = train_proc['price'].values"
   ]
  },
  {
   "cell_type": "code",
   "execution_count": 43,
   "id": "0182434b",
   "metadata": {
    "execution": {
     "iopub.execute_input": "2022-06-30T07:43:42.090801Z",
     "iopub.status.busy": "2022-06-30T07:43:42.089824Z",
     "iopub.status.idle": "2022-06-30T07:43:42.108327Z",
     "shell.execute_reply": "2022-06-30T07:43:42.107286Z"
    },
    "papermill": {
     "duration": 0.050259,
     "end_time": "2022-06-30T07:43:42.110877",
     "exception": false,
     "start_time": "2022-06-30T07:43:42.060618",
     "status": "completed"
    },
    "tags": []
   },
   "outputs": [],
   "source": [
    "# стандартизация числовых признаков\n",
    "\n",
    "scaler = RobustScaler()\n",
    "X[num_cols]  = scaler.fit_transform(X[num_cols])\n",
    "X_sub[num_cols]  = scaler.transform(X_sub[num_cols])"
   ]
  },
  {
   "cell_type": "markdown",
   "id": "53ca9795",
   "metadata": {
    "papermill": {
     "duration": 0.028372,
     "end_time": "2022-06-30T07:43:42.169204",
     "exception": false,
     "start_time": "2022-06-30T07:43:42.140832",
     "status": "completed"
    },
    "tags": []
   },
   "source": [
    "## Модели машинного обучения"
   ]
  },
  {
   "cell_type": "code",
   "execution_count": 44,
   "id": "b5fafbed",
   "metadata": {
    "execution": {
     "iopub.execute_input": "2022-06-30T07:43:42.229587Z",
     "iopub.status.busy": "2022-06-30T07:43:42.229146Z",
     "iopub.status.idle": "2022-06-30T07:43:42.254188Z",
     "shell.execute_reply": "2022-06-30T07:43:42.253156Z"
    },
    "papermill": {
     "duration": 0.057619,
     "end_time": "2022-06-30T07:43:42.256733",
     "exception": false,
     "start_time": "2022-06-30T07:43:42.199114",
     "status": "completed"
    },
    "tags": []
   },
   "outputs": [],
   "source": [
    "X_train, X_test, y_train, y_test = train_test_split(X, y, test_size=VAL_SIZE, shuffle=True, random_state=RANDOM_SEED)"
   ]
  },
  {
   "cell_type": "code",
   "execution_count": 45,
   "id": "0fe4166f",
   "metadata": {
    "execution": {
     "iopub.execute_input": "2022-06-30T07:43:42.315313Z",
     "iopub.status.busy": "2022-06-30T07:43:42.314273Z",
     "iopub.status.idle": "2022-06-30T07:43:42.319517Z",
     "shell.execute_reply": "2022-06-30T07:43:42.318435Z"
    },
    "papermill": {
     "duration": 0.036697,
     "end_time": "2022-06-30T07:43:42.321807",
     "exception": false,
     "start_time": "2022-06-30T07:43:42.285110",
     "status": "completed"
    },
    "tags": []
   },
   "outputs": [],
   "source": [
    "# обратили внимание, что нейросеть лучше дает результат, если цена не логарифмирована.\n",
    "# соответственно, вернем цену к обычному формату"
   ]
  },
  {
   "cell_type": "markdown",
   "id": "db84ebd3",
   "metadata": {
    "papermill": {
     "duration": 0.027792,
     "end_time": "2022-06-30T07:43:42.378336",
     "exception": false,
     "start_time": "2022-06-30T07:43:42.350544",
     "status": "completed"
    },
    "tags": []
   },
   "source": [
    "## NLP сеть"
   ]
  },
  {
   "cell_type": "markdown",
   "id": "3270726f",
   "metadata": {
    "papermill": {
     "duration": 0.028052,
     "end_time": "2022-06-30T07:43:42.433849",
     "exception": false,
     "start_time": "2022-06-30T07:43:42.405797",
     "status": "completed"
    },
    "tags": []
   },
   "source": [
    "Попробуем извлечь дополнительную информацию из колонки с описанием автомобиля со стороны продавца."
   ]
  },
  {
   "cell_type": "code",
   "execution_count": 46,
   "id": "32b57995",
   "metadata": {
    "execution": {
     "iopub.execute_input": "2022-06-30T07:43:42.490879Z",
     "iopub.status.busy": "2022-06-30T07:43:42.490530Z",
     "iopub.status.idle": "2022-06-30T07:43:42.569732Z",
     "shell.execute_reply": "2022-06-30T07:43:42.568712Z"
    },
    "papermill": {
     "duration": 0.110514,
     "end_time": "2022-06-30T07:43:42.572038",
     "exception": false,
     "start_time": "2022-06-30T07:43:42.461524",
     "status": "completed"
    },
    "tags": []
   },
   "outputs": [],
   "source": [
    "data['description_len_words'] = data['description'].apply(lambda x: len(x.split(' ')))"
   ]
  },
  {
   "cell_type": "code",
   "execution_count": 47,
   "id": "669daa07",
   "metadata": {
    "execution": {
     "iopub.execute_input": "2022-06-30T07:43:42.627498Z",
     "iopub.status.busy": "2022-06-30T07:43:42.627158Z",
     "iopub.status.idle": "2022-06-30T07:43:42.796176Z",
     "shell.execute_reply": "2022-06-30T07:43:42.795000Z"
    },
    "papermill": {
     "duration": 0.199854,
     "end_time": "2022-06-30T07:43:42.799085",
     "exception": false,
     "start_time": "2022-06-30T07:43:42.599231",
     "status": "completed"
    },
    "tags": []
   },
   "outputs": [
    {
     "data": {
      "text/plain": [
       "<AxesSubplot:xlabel='description_len_words'>"
      ]
     },
     "execution_count": 47,
     "metadata": {},
     "output_type": "execute_result"
    },
    {
     "data": {
      "image/png": "[encoded data removed]",
      "text/plain": [
       "<Figure size 460.8x316.8 with 1 Axes>"
      ]
     },
     "metadata": {
      "needs_background": "light"
     },
     "output_type": "display_data"
    }
   ],
   "source": [
    "sns.boxplot(data['description_len_words'])"
   ]
  },
  {
   "cell_type": "markdown",
   "id": "de1a3042",
   "metadata": {
    "papermill": {
     "duration": 0.027344,
     "end_time": "2022-06-30T07:43:42.854710",
     "exception": false,
     "start_time": "2022-06-30T07:43:42.827366",
     "status": "completed"
    },
    "tags": []
   },
   "source": [
    "Мы видим, что 75% отзывов укладываются примерно в 300 слов"
   ]
  },
  {
   "cell_type": "code",
   "execution_count": 48,
   "id": "81c7a48e",
   "metadata": {
    "execution": {
     "iopub.execute_input": "2022-06-30T07:43:42.914936Z",
     "iopub.status.busy": "2022-06-30T07:43:42.913051Z",
     "iopub.status.idle": "2022-06-30T07:43:42.920370Z",
     "shell.execute_reply": "2022-06-30T07:43:42.919324Z"
    },
    "papermill": {
     "duration": 0.041035,
     "end_time": "2022-06-30T07:43:42.924196",
     "exception": false,
     "start_time": "2022-06-30T07:43:42.883161",
     "status": "completed"
    },
    "tags": []
   },
   "outputs": [
    {
     "name": "stdout",
     "output_type": "stream",
     "text": [
      "Описание 0\n",
      "\n",
      "Всем привет!\n",
      "\n",
      "Продам эксклюзивный проект 124 универсал 300TE-24 SportLine\n",
      "\n",
      "Модель 124.091 300 TE-24\n",
      "Двигатель 104.980\n",
      "Трансмиссия 722.359\n",
      "Цвет кузова 040 (черный)\n",
      "Отделка салона 271 (Кожа черная / \"антрацит\")\n",
      "\n",
      "Опции:\n",
      "211 Автоматическая блокировка дифференциала (ASD)\n",
      "240 Индикатор внешней температуры\n",
      "244 Спортивные сиденья спереди\n",
      "281 Спортивное рулевое колесо с отделкой из кожи (диаметр 390 мм) и кожаный рычаг КПП\n",
      "291 Подушка безопасности для водителя и переднего пассажира\n",
      "300 Дополнительный бардачок в вещевом отсеке спереди\n",
      "412 Люк с электроприводом и устройством подъёма\n",
      "420 Автоматическая коробка передач, напольное исполнение\n",
      "440 Темпомат (круиз-контроль)\n",
      "538 Автоматическая антенна\n",
      "541 Двойные занавески для багажного пространства и пасажирского отсека (сетка/шторка)\n",
      "570 Складной подлокотник спереди\n",
      "586 Кондиционер Behr и электрические стеклоподъемники передних и задних дверей\n",
      "598 Атермальные боковые и заднее стекла, заднее стекло с подогревом (ESG)\n",
      "650 Спортивная подвеска\n",
      "673 АКБ увеличенной мощности\n",
      "812 Установленные сзади динамики\n",
      "873 Электрообогрев передних кресел\n",
      "951 Исполнение Sportline, коды 650, 244, 281\n",
      "\n",
      "Дополнительно установленные опции:\n",
      "249 Внутреннее салонное зеркало с автоматическим изменением затемнения (противобликовое)\n",
      "260 Исключение из комплектации таблички с обозначением типа на крышке багажника\n",
      "506 Обогреваемые правое и левое наружные зеркала (электрически регулируемые)\n",
      "543 Солнечный козырек с освещаемыми зеркалами слева и справа\n",
      "600 Устройство очистки фар\n",
      "611 Фонари освещения выхода для передних и задних дверей\n",
      "658 Легкосплавные колеса EVO II (E500 Limited)\n",
      "814 Активные сабвуферы\n",
      "\n",
      "\n",
      "\n",
      "3л рядная бензиновая атмосферная двухвальная \"шестерка\". 4ст автомат. Задний привод. Блокировка дифференциала с завода. Подвеска, выхлоп - все тюн. Распорка передних стоек. Составные тормоза Brembo GT. Безкатализаторная версия 231лс. Все обслужено. Все оригинал. Антикор. Керамика. Салон натуральная телячья кожа Nappa, Alcantara, Recaro, MOMO, NARDI, рояльный лак, все новое. Саунд Ferrari, 4 динамика, 2 сабвуфера, усилитель, CD чейнджер, все в штатных местах. 2 комплекта колес, 2 комплекта ковриков, оригинальный чехол для хранения авто.\n",
      "\n",
      "Юридически чистая, любые проверки. Вся история владения на Д2.\n",
      "Описание 1\n",
      "\n",
      "Продаю любимейшую тачилу.. Обвес и тюнинг Hamman. Потому что совсем на ней не езжу, а она должна резвиться и служить. Авто с хорошей кармой. С хорошим звуком и вообще приятнейшая. \n",
      "\n",
      "Из-за частых командировок машиной не пользовалась, отсюда и такой маленький пробег. Были 2 мелких аварии (не увидела столбик во дворе и ещё раз не увидела, но сделала ремонт и все части поврежденные отремонтировала).\n",
      "\n",
      "На фото летняя резина на родных дисках, а у меня есть ещё зимняя резина на супер красивых дисках! Отдам вместе с машиной бонусом. Если купит девушка - то с меня патчи и блеск для губ ❤️\n",
      "Описание 2\n",
      "\n",
      "Машина тут продаётся не в первый раз, НО! Только что:\n",
      " Перебран двигатель с заменой колец, колпаков, ванос, цепь, проклади и др.  \n",
      "Покрашена вся, кроме багажника и крыши (причина покраски - потёртости и сколы, не битая)\n",
      "Сделаны работы по ходовой (рычаги, амортизаторы и др) \n",
      "\n",
      "Поменяно масло АКПП и Раздатка \n",
      "\n",
      "Вырезаны катализаторы (немного рычит) \n",
      "\n",
      "Куча мелких работ, обновление прошивки. \n",
      "\n",
      "Для тех, кто не хочет вкладывать деньги! Общая стоимость  за эти работы составила больше 300 000 рублей.   Есть документы от сервиса. \n",
      "\n",
      "Хорошая для этого года комплектация :  кожа, полный привод!, датчик дождя и света, помощь при спуске с горки. Установлена штатная медиасистема с экраном +камера заднего вида. \n",
      "\n",
      "Минусы : рычит на низах, после удаления катов( легко исправить, многим так больше нравится) \n",
      "\n",
      "Ошибка по корректору фар (нужно поменять датчики, сами фары работают) \n",
      "\n",
      "Машина без подвоха! Идеальный внешний вид и прекрасное техническое состояние! \n",
      "\n",
      "Торг минимальный. \n",
      "\n",
      "Описание 3\n",
      "\n",
      "Автомобиль в отличном состоянии, весь в родной краске ( красился бампер и крыло - есть фото из за чего),два комплекта колёс,птс оригинал готов на любые проверки, если телефон недоступен звонить на ватс ап.\n",
      "Описание 4\n",
      "\n",
      "Немка! с бесключивым доступом и камерой заднего вида.\n",
      "Автомобиль в пленке Santek - зоны риска, морда, на лобовом стекле так же защитная пленка, трехслойная керамика - поверх пленки, диски от 530 - 19 радиус - разноширокие - 150 тысяч рублей, приборная панель, NBT EVO professional, большая шайба, мозги и усилитель от Harman/Kardon - 100 тысяч рублей (заводское лежит все в гараже, меняется 1 час в мастерской), машина не чипована, на гарантии, все ТО у оффициалов, вся история есть, последнее сделал 12.08 - на 40 тысяч рублей ( масло, все фильтра вкл топливный, диагностика, передние колодки поменял так по рекомендации - денег не жалел). Причина продажи -  купил 530D. Идеальное состояние, на идеальном ходу, сейчас уезжаю в Старый Оскол и буду до сентября находится там, поэтому место осмотра пока там, потом мск. \n"
     ]
    }
   ],
   "source": [
    "for i in range(5):\n",
    "    print(f'Описание {i}\\n')\n",
    "    print(data['description'][i])"
   ]
  },
  {
   "cell_type": "markdown",
   "id": "8d51c82b",
   "metadata": {
    "papermill": {
     "duration": 0.029872,
     "end_time": "2022-06-30T07:43:42.984225",
     "exception": false,
     "start_time": "2022-06-30T07:43:42.954353",
     "status": "completed"
    },
    "tags": []
   },
   "source": [
    "Что видим здесь:\n",
    "* большие буквы сохраняются - нужно привести все к нижнему регистру\n",
    "* поскольку модель русскоязычная, текст на латинице не распознает - нужно по возможности убрать англоязычный текст\n",
    "* в качестве токенов выделяются запятые, точки, тире, восклицательные знаки - скорее всего, они не несут полезной информации"
   ]
  },
  {
   "cell_type": "code",
   "execution_count": 49,
   "id": "0821c717",
   "metadata": {
    "execution": {
     "iopub.execute_input": "2022-06-30T07:43:43.046634Z",
     "iopub.status.busy": "2022-06-30T07:43:43.046203Z",
     "iopub.status.idle": "2022-06-30T07:43:43.088366Z",
     "shell.execute_reply": "2022-06-30T07:43:43.087308Z"
    },
    "papermill": {
     "duration": 0.076269,
     "end_time": "2022-06-30T07:43:43.090883",
     "exception": false,
     "start_time": "2022-06-30T07:43:43.014614",
     "status": "completed"
    },
    "tags": []
   },
   "outputs": [],
   "source": [
    "data['description'] = data['description'].apply(lambda x: x.lower())"
   ]
  },
  {
   "cell_type": "code",
   "execution_count": 50,
   "id": "bcdce4b0",
   "metadata": {
    "execution": {
     "iopub.execute_input": "2022-06-30T07:43:43.153591Z",
     "iopub.status.busy": "2022-06-30T07:43:43.152085Z",
     "iopub.status.idle": "2022-06-30T07:43:43.160022Z",
     "shell.execute_reply": "2022-06-30T07:43:43.158991Z"
    },
    "papermill": {
     "duration": 0.041223,
     "end_time": "2022-06-30T07:43:43.162361",
     "exception": false,
     "start_time": "2022-06-30T07:43:43.121138",
     "status": "completed"
    },
    "tags": []
   },
   "outputs": [],
   "source": [
    "# split данных\n",
    "text_train = data.description.iloc[X_train.index]\n",
    "text_test = data.description.iloc[X_test.index]\n",
    "text_sub = data.description.iloc[X_sub.index]"
   ]
  },
  {
   "cell_type": "markdown",
   "id": "077418ac",
   "metadata": {
    "papermill": {
     "duration": 0.029752,
     "end_time": "2022-06-30T07:43:43.221838",
     "exception": false,
     "start_time": "2022-06-30T07:43:43.192086",
     "status": "completed"
    },
    "tags": []
   },
   "source": [
    "### Очистка и лемматизация"
   ]
  },
  {
   "cell_type": "code",
   "execution_count": 51,
   "id": "13025389",
   "metadata": {
    "execution": {
     "iopub.execute_input": "2022-06-30T07:43:43.282380Z",
     "iopub.status.busy": "2022-06-30T07:43:43.281977Z",
     "iopub.status.idle": "2022-06-30T07:43:44.590372Z",
     "shell.execute_reply": "2022-06-30T07:43:44.589317Z"
    },
    "papermill": {
     "duration": 1.34167,
     "end_time": "2022-06-30T07:43:44.593000",
     "exception": false,
     "start_time": "2022-06-30T07:43:43.251330",
     "status": "completed"
    },
    "tags": []
   },
   "outputs": [],
   "source": [
    "data['description']=data['description'].apply(lambda x: remove_punctuations(x))\n",
    "data['description']=data['description'].apply(lambda x: remove_emoji(x))\n",
    "data['description']=data['description'].apply(lambda x: remove_numbers(x))\n",
    "data['description']=data['description'].apply(lambda x: remove_latin_literals(x))"
   ]
  },
  {
   "cell_type": "code",
   "execution_count": 52,
   "id": "548909dd",
   "metadata": {
    "execution": {
     "iopub.execute_input": "2022-06-30T07:43:44.650629Z",
     "iopub.status.busy": "2022-06-30T07:43:44.650227Z",
     "iopub.status.idle": "2022-06-30T07:43:44.659658Z",
     "shell.execute_reply": "2022-06-30T07:43:44.658329Z"
    },
    "papermill": {
     "duration": 0.039975,
     "end_time": "2022-06-30T07:43:44.661926",
     "exception": false,
     "start_time": "2022-06-30T07:43:44.621951",
     "status": "completed"
    },
    "tags": []
   },
   "outputs": [
    {
     "name": "stdout",
     "output_type": "stream",
     "text": [
      "['и', 'в', 'во', 'не', 'что', 'он', 'на', 'я', 'с', 'со', 'как', 'а', 'то', 'все', 'она', 'так', 'его', 'но', 'да', 'ты', 'к', 'у', 'же', 'вы', 'за', 'бы', 'по', 'только', 'ее', 'мне', 'было', 'вот', 'от', 'меня', 'еще', 'нет', 'о', 'из', 'ему', 'теперь', 'когда', 'даже', 'ну', 'вдруг', 'ли', 'если', 'уже', 'или', 'ни', 'быть', 'был', 'него', 'до', 'вас', 'нибудь', 'опять', 'уж', 'вам', 'ведь', 'там', 'потом', 'себя', 'ничего', 'ей', 'может', 'они', 'тут', 'где', 'есть', 'надо', 'ней', 'для', 'мы', 'тебя', 'их', 'чем', 'была', 'сам', 'чтоб', 'без', 'будто', 'чего', 'раз', 'тоже', 'себе', 'под', 'будет', 'ж', 'тогда', 'кто', 'этот', 'того', 'потому', 'этого', 'какой', 'совсем', 'ним', 'здесь', 'этом', 'один', 'почти', 'мой', 'тем', 'чтобы', 'нее', 'сейчас', 'были', 'куда', 'зачем', 'всех', 'никогда', 'можно', 'при', 'наконец', 'два', 'об', 'другой', 'хоть', 'после', 'над', 'больше', 'тот', 'через', 'эти', 'нас', 'про', 'всего', 'них', 'какая', 'много', 'разве', 'три', 'эту', 'моя', 'впрочем', 'хорошо', 'свою', 'этой', 'перед', 'иногда', 'лучше', 'чуть', 'том', 'нельзя', 'такой', 'им', 'более', 'всегда', 'конечно', 'всю', 'между', 'км', 'мм', 'рублей', 'а', 'б', 'в', 'г', 'д', 'е', 'ё', 'ж', 'з', 'и', 'й', 'к', 'л', 'м', 'н', 'о', 'п', 'р', 'с', 'т', 'у', 'ф', 'х', 'ц', 'ч', 'ш', 'щ', 'ъ', 'ы', 'ь', 'э', 'ю', 'я', 'А', 'Б', 'В', 'Г', 'Д', 'Е', 'Ё', 'Ж', 'З', 'И', 'Й', 'К', 'Л', 'М', 'Н', 'О', 'П', 'Р', 'С', 'Т', 'У', 'Ф', 'Х', 'Ц', 'Ч', 'Ш', 'Щ', 'Ъ', 'Ы', 'Ь', 'Э', 'Ю', 'Я']\n"
     ]
    }
   ],
   "source": [
    "# удаляем ненужные (неинформативные) слова\n",
    "stop = stopwords.words('russian')\n",
    "add_stop = ['км','мм', 'рублей'] + list('абвгдеёжзийклмнопрстуфхцчшщъыьэюяАБВГДЕЁЖЗИЙКЛМНОПРСТУФХЦЧШЩЪЫЬЭЮЯ')\n",
    "new_stop = stop + add_stop\n",
    "print(new_stop)"
   ]
  },
  {
   "cell_type": "code",
   "execution_count": 53,
   "id": "e2fbe4f4",
   "metadata": {
    "execution": {
     "iopub.execute_input": "2022-06-30T07:43:44.721309Z",
     "iopub.status.busy": "2022-06-30T07:43:44.720239Z",
     "iopub.status.idle": "2022-06-30T07:43:46.341242Z",
     "shell.execute_reply": "2022-06-30T07:43:46.340276Z"
    },
    "papermill": {
     "duration": 1.653292,
     "end_time": "2022-06-30T07:43:46.343364",
     "exception": false,
     "start_time": "2022-06-30T07:43:44.690072",
     "status": "completed"
    },
    "tags": []
   },
   "outputs": [
    {
     "data": {
      "text/plain": [
       "0    всем привет продам эксклюзивный проект универс...\n",
       "1    продаю любимейшую тачилу обвес тюнинг езжу дол...\n",
       "2    машина продаётся первый перебран двигатель зам...\n",
       "3    автомобиль отличном состоянии весь родной крас...\n",
       "4    немка бесключивым доступом камерой заднего вид...\n",
       "Name: description, dtype: object"
      ]
     },
     "execution_count": 53,
     "metadata": {},
     "output_type": "execute_result"
    }
   ],
   "source": [
    "data['description']=data['description'].apply(lambda x: ' '.join([word for word in x.split() if word not in (new_stop)]))\n",
    "data['description'].head()"
   ]
  },
  {
   "cell_type": "code",
   "execution_count": 54,
   "id": "9eeb248a",
   "metadata": {
    "execution": {
     "iopub.execute_input": "2022-06-30T07:43:46.405443Z",
     "iopub.status.busy": "2022-06-30T07:43:46.405041Z",
     "iopub.status.idle": "2022-06-30T07:46:20.487324Z",
     "shell.execute_reply": "2022-06-30T07:46:20.486218Z"
    },
    "papermill": {
     "duration": 154.147005,
     "end_time": "2022-06-30T07:46:20.519235",
     "exception": false,
     "start_time": "2022-06-30T07:43:46.372230",
     "status": "completed"
    },
    "tags": []
   },
   "outputs": [
    {
     "name": "stdout",
     "output_type": "stream",
     "text": [
      "CPU times: user 2min 33s, sys: 184 ms, total: 2min 33s\n",
      "Wall time: 2min 34s\n"
     ]
    },
    {
     "data": {
      "text/plain": [
       "0       весь привет продать эксклюзивный проект универ...\n",
       "1       продавать любимый тачил обвес тюнинг ездить до...\n",
       "2       машина продаваться первый перебрать двигатель ...\n",
       "3       автомобиль отличный состояние весь родный крас...\n",
       "4       немка бесключивый доступ камера задний вид авт...\n",
       "                              ...                        \n",
       "8348    продаваться любимый автомобиль год эксплуатаци...\n",
       "8349    купить официальный дилер третий владелец владе...\n",
       "8350    торг место работать сборка немецкий резина лет...\n",
       "8351    автомобиль отличный состояние авто семья обслу...\n",
       "8352    удлинённый заводский база вообще правильно зав...\n",
       "Name: description, Length: 8353, dtype: object"
      ]
     },
     "execution_count": 54,
     "metadata": {},
     "output_type": "execute_result"
    }
   ],
   "source": [
    "%%time\n",
    "\n",
    "morph = pymorphy2.MorphAnalyzer()\n",
    "\n",
    "\n",
    "def filter_str(str):\n",
    "    split_str = str.split()\n",
    "    filtered_str = ' '.join(\n",
    "        (map(lambda s: morph.parse(s)[0].normal_form, split_str)))\n",
    "    return filtered_str\n",
    "\n",
    "\n",
    "data['description'] = data['description'].apply(filter_str)\n",
    "data['description']"
   ]
  },
  {
   "cell_type": "code",
   "execution_count": 55,
   "id": "47a2bcfb",
   "metadata": {
    "execution": {
     "iopub.execute_input": "2022-06-30T07:46:20.581511Z",
     "iopub.status.busy": "2022-06-30T07:46:20.580433Z",
     "iopub.status.idle": "2022-06-30T07:46:20.587576Z",
     "shell.execute_reply": "2022-06-30T07:46:20.586320Z"
    },
    "papermill": {
     "duration": 0.043276,
     "end_time": "2022-06-30T07:46:20.592412",
     "exception": false,
     "start_time": "2022-06-30T07:46:20.549136",
     "status": "completed"
    },
    "tags": []
   },
   "outputs": [
    {
     "name": "stdout",
     "output_type": "stream",
     "text": [
      "Описание 0\n",
      "\n",
      "весь привет продать эксклюзивный проект универсал модель двигатель трансмиссия цвет кузов чёрный отделка салон кожа чёрный антрацит опция автоматический блокировка дифференциал индикатор внешний температура спортивный сидение спереди спортивный рулевой колесо отделка кожа диаметр кожаный рычаг кпп подушка безопасность водитель передний пассажир дополнительный бардачок вещевой отсек спереди люк электропривод устройство подъём автоматический коробка передача напольный исполнение темпомат круиз контроль автоматический антенна двойной занавеска багажный пространство пасажирский отсек сетка шторка складный подлокотник спереди кондиционер электрический стеклоподъёмник передний задний дверь атермальный боковой задний стекло задний стекло подогрев спортивный подвеска акб увеличить мощность установленный сзади динамика электрообогрев передний кресло исполнение код дополнительно установленный опция внутренний салонный зеркало автоматический изменение затемнение противобликовый исключение комплектация табличка обозначение тип крышка багажник обогревать правый левый наружное зеркало электрически регулировать солнечный козырёк освещать зеркало слева справа устройство очистка фара фонарь освещение выход передний задний дверь легкосплавной колесо активный сабвуфер рядный бензиновый атмосферный двухвальный шестёрка ст автомат задний привод блокировка дифференциал завод подвеска выхлоп тюн распорка передний стойка составной тормоз безкатализаторный версия лс обслужить оригинал антикор керамика салон натуральный телячий кожа рояльный лак новый саунд динамика сабвуфер усилитель чейнджер штатный место комплект колесо комплект коврик оригинальный чехол хранение авто юридически чистый любой проверка весь история владение\n",
      "Описание 1\n",
      "\n",
      "продавать любимый тачил обвес тюнинг ездить должный резвиться служить авто хороший карма хороший звук вообще приятный частый командировка машина пользоваться отсюда маленький пробег мелкий авария увидеть столбик двор ещё увидеть сделать ремонт часть повредить отремонтировать фото летний резина родный диск ещё зимний резина супер красивый диск отдать вместе машина бонус купить девушка патч блеск губа\n",
      "Описание 2\n",
      "\n",
      "машина продаваться первый перебрать двигатель замена кольцо колпаков ванос цепь прокладь др покрасить весь кроме багажник крыша причина покраска потёртость скол битый сделать работа ходовой рычаг амортизатор др поменять масло акпп раздатка вырезать катализатор немного рычать куча мелкий работа обновление прошивка тот хотеть вкладывать деньга общий стоимость работа составить документ сервис хороший год комплектация кожа полный привод датчик дождь свет помощь спуск горка установить штатный медиасистема экран камера задний вид минус рычать низ удаление кат легко исправить многий нравиться ошибка корректор фара нужно поменять датчик сам фара работать машина подвох идеальный внешний вид прекрасный технический состояние торг минимальный\n"
     ]
    }
   ],
   "source": [
    "for i in range(3):\n",
    "    print(f'Описание {i}\\n')\n",
    "    print(data['description'][i])"
   ]
  },
  {
   "cell_type": "markdown",
   "id": "9ab785c1",
   "metadata": {
    "papermill": {
     "duration": 0.028939,
     "end_time": "2022-06-30T07:46:20.651853",
     "exception": false,
     "start_time": "2022-06-30T07:46:20.622914",
     "status": "completed"
    },
    "tags": []
   },
   "source": [
    "### Tokenizer"
   ]
  },
  {
   "cell_type": "code",
   "execution_count": 56,
   "id": "c000742e",
   "metadata": {
    "execution": {
     "iopub.execute_input": "2022-06-30T07:46:20.712125Z",
     "iopub.status.busy": "2022-06-30T07:46:20.711750Z",
     "iopub.status.idle": "2022-06-30T07:46:42.300580Z",
     "shell.execute_reply": "2022-06-30T07:46:42.299019Z"
    },
    "papermill": {
     "duration": 21.622934,
     "end_time": "2022-06-30T07:46:42.304350",
     "exception": false,
     "start_time": "2022-06-30T07:46:20.681416",
     "status": "completed"
    },
    "tags": []
   },
   "outputs": [
    {
     "data": {
      "application/vnd.jupyter.widget-view+json": {
       "model_id": "3d8b4bcd88d1458d9ff31e685e516847",
       "version_major": 2,
       "version_minor": 0
      },
      "text/plain": [
       "Downloading:   0%|          | 0.00/653 [00:00<?, ?B/s]"
      ]
     },
     "metadata": {},
     "output_type": "display_data"
    },
    {
     "data": {
      "application/vnd.jupyter.widget-view+json": {
       "model_id": "941c0bcb9a2b49fa971f1d9a8f9172db",
       "version_major": 2,
       "version_minor": 0
      },
      "text/plain": [
       "Downloading:   0%|          | 0.00/408M [00:00<?, ?B/s]"
      ]
     },
     "metadata": {},
     "output_type": "display_data"
    },
    {
     "name": "stderr",
     "output_type": "stream",
     "text": [
      "2022-06-30 07:46:31.711291: I tensorflow/stream_executor/cuda/cuda_gpu_executor.cc:937] successful NUMA node read from SysFS had negative value (-1), but there must be at least one NUMA node, so returning NUMA node zero\n",
      "2022-06-30 07:46:31.712717: I tensorflow/stream_executor/cuda/cuda_gpu_executor.cc:937] successful NUMA node read from SysFS had negative value (-1), but there must be at least one NUMA node, so returning NUMA node zero\n",
      "2022-06-30 07:46:31.713571: I tensorflow/stream_executor/cuda/cuda_gpu_executor.cc:937] successful NUMA node read from SysFS had negative value (-1), but there must be at least one NUMA node, so returning NUMA node zero\n",
      "2022-06-30 07:46:31.714658: I tensorflow/core/platform/cpu_feature_guard.cc:142] This TensorFlow binary is optimized with oneAPI Deep Neural Network Library (oneDNN) to use the following CPU instructions in performance-critical operations:  AVX2 AVX512F FMA\n",
      "To enable them in other operations, rebuild TensorFlow with the appropriate compiler flags.\n",
      "2022-06-30 07:46:31.715029: I tensorflow/stream_executor/cuda/cuda_gpu_executor.cc:937] successful NUMA node read from SysFS had negative value (-1), but there must be at least one NUMA node, so returning NUMA node zero\n",
      "2022-06-30 07:46:31.715826: I tensorflow/stream_executor/cuda/cuda_gpu_executor.cc:937] successful NUMA node read from SysFS had negative value (-1), but there must be at least one NUMA node, so returning NUMA node zero\n",
      "2022-06-30 07:46:31.716589: I tensorflow/stream_executor/cuda/cuda_gpu_executor.cc:937] successful NUMA node read from SysFS had negative value (-1), but there must be at least one NUMA node, so returning NUMA node zero\n",
      "2022-06-30 07:46:37.925072: I tensorflow/stream_executor/cuda/cuda_gpu_executor.cc:937] successful NUMA node read from SysFS had negative value (-1), but there must be at least one NUMA node, so returning NUMA node zero\n",
      "2022-06-30 07:46:37.925996: I tensorflow/stream_executor/cuda/cuda_gpu_executor.cc:937] successful NUMA node read from SysFS had negative value (-1), but there must be at least one NUMA node, so returning NUMA node zero\n",
      "2022-06-30 07:46:37.926747: I tensorflow/stream_executor/cuda/cuda_gpu_executor.cc:937] successful NUMA node read from SysFS had negative value (-1), but there must be at least one NUMA node, so returning NUMA node zero\n",
      "2022-06-30 07:46:37.927407: I tensorflow/core/common_runtime/gpu/gpu_device.cc:1510] Created device /job:localhost/replica:0/task:0/device:GPU:0 with 15047 MB memory:  -> device: 0, name: Tesla P100-PCIE-16GB, pci bus id: 0000:00:04.0, compute capability: 6.0\n",
      "All model checkpoint layers were used when initializing TFBertForSequenceClassification.\n",
      "\n",
      "Some layers of TFBertForSequenceClassification were not initialized from the model checkpoint at promobot/labse-ru and are newly initialized: ['classifier']\n",
      "You should probably TRAIN this model on a down-stream task to be able to use it for predictions and inference.\n"
     ]
    },
    {
     "data": {
      "application/vnd.jupyter.widget-view+json": {
       "model_id": "19c88c676eee4005b91186f19e9ec38e",
       "version_major": 2,
       "version_minor": 0
      },
      "text/plain": [
       "Downloading:   0%|          | 0.00/49.0 [00:00<?, ?B/s]"
      ]
     },
     "metadata": {},
     "output_type": "display_data"
    },
    {
     "data": {
      "application/vnd.jupyter.widget-view+json": {
       "model_id": "ecb24aab63024f479aa26e5b8fc29d04",
       "version_major": 2,
       "version_minor": 0
      },
      "text/plain": [
       "Downloading:   0%|          | 0.00/328k [00:00<?, ?B/s]"
      ]
     },
     "metadata": {},
     "output_type": "display_data"
    },
    {
     "data": {
      "application/vnd.jupyter.widget-view+json": {
       "model_id": "7a06b667caab4cdab670f05a3444fa8a",
       "version_major": 2,
       "version_minor": 0
      },
      "text/plain": [
       "Downloading:   0%|          | 0.00/744k [00:00<?, ?B/s]"
      ]
     },
     "metadata": {},
     "output_type": "display_data"
    },
    {
     "data": {
      "application/vnd.jupyter.widget-view+json": {
       "model_id": "b5d732650b06454a8f5373ade96d08a9",
       "version_major": 2,
       "version_minor": 0
      },
      "text/plain": [
       "Downloading:   0%|          | 0.00/112 [00:00<?, ?B/s]"
      ]
     },
     "metadata": {},
     "output_type": "display_data"
    }
   ],
   "source": [
    "max_length_test = 256\n",
    "\n",
    "bert_layer = TFAutoModelForSequenceClassification.from_pretrained(\"promobot/labse-ru\", num_labels=1)\n",
    "tokenizer = AutoTokenizer.from_pretrained(\"promobot/labse-ru\")"
   ]
  },
  {
   "cell_type": "code",
   "execution_count": 57,
   "id": "a6708c73",
   "metadata": {
    "execution": {
     "iopub.execute_input": "2022-06-30T07:46:42.426487Z",
     "iopub.status.busy": "2022-06-30T07:46:42.425868Z",
     "iopub.status.idle": "2022-06-30T07:46:42.437253Z",
     "shell.execute_reply": "2022-06-30T07:46:42.436234Z"
    },
    "papermill": {
     "duration": 0.070406,
     "end_time": "2022-06-30T07:46:42.440216",
     "exception": false,
     "start_time": "2022-06-30T07:46:42.369810",
     "status": "completed"
    },
    "tags": []
   },
   "outputs": [
    {
     "data": {
      "text/plain": [
       "True"
      ]
     },
     "execution_count": 57,
     "metadata": {},
     "output_type": "execute_result"
    }
   ],
   "source": [
    "tokenizer.is_fast"
   ]
  },
  {
   "cell_type": "code",
   "execution_count": 58,
   "id": "6e94cbf7",
   "metadata": {
    "execution": {
     "iopub.execute_input": "2022-06-30T07:46:42.540084Z",
     "iopub.status.busy": "2022-06-30T07:46:42.539452Z",
     "iopub.status.idle": "2022-06-30T07:46:42.548265Z",
     "shell.execute_reply": "2022-06-30T07:46:42.547326Z"
    },
    "papermill": {
     "duration": 0.062985,
     "end_time": "2022-06-30T07:46:42.551244",
     "exception": false,
     "start_time": "2022-06-30T07:46:42.488259",
     "status": "completed"
    },
    "tags": []
   },
   "outputs": [],
   "source": [
    "# можно натренировать токенизатор на своем корпусе текстов\n",
    "batch_size = 500\n",
    "\n",
    "def batch_iterator():\n",
    "    for i in range(0, len(data.description), batch_size):\n",
    "        yield data.description[i : i + batch_size]"
   ]
  },
  {
   "cell_type": "code",
   "execution_count": 59,
   "id": "194d64c3",
   "metadata": {
    "execution": {
     "iopub.execute_input": "2022-06-30T07:46:42.649956Z",
     "iopub.status.busy": "2022-06-30T07:46:42.649350Z",
     "iopub.status.idle": "2022-06-30T07:46:46.113256Z",
     "shell.execute_reply": "2022-06-30T07:46:46.110960Z"
    },
    "papermill": {
     "duration": 3.515755,
     "end_time": "2022-06-30T07:46:46.115812",
     "exception": false,
     "start_time": "2022-06-30T07:46:42.600057",
     "status": "completed"
    },
    "tags": []
   },
   "outputs": [
    {
     "name": "stdout",
     "output_type": "stream",
     "text": [
      "\n",
      "\n",
      "\n"
     ]
    }
   ],
   "source": [
    "# натренировали свой токенизатор\n",
    "new_tokenizer = tokenizer.train_new_from_iterator(batch_iterator(), vocab_size=25000)"
   ]
  },
  {
   "cell_type": "code",
   "execution_count": 60,
   "id": "b42d868a",
   "metadata": {
    "execution": {
     "iopub.execute_input": "2022-06-30T07:46:46.178621Z",
     "iopub.status.busy": "2022-06-30T07:46:46.178234Z",
     "iopub.status.idle": "2022-06-30T07:46:46.185602Z",
     "shell.execute_reply": "2022-06-30T07:46:46.184080Z"
    },
    "papermill": {
     "duration": 0.041461,
     "end_time": "2022-06-30T07:46:46.188282",
     "exception": false,
     "start_time": "2022-06-30T07:46:46.146821",
     "status": "completed"
    },
    "tags": []
   },
   "outputs": [
    {
     "name": "stdout",
     "output_type": "stream",
     "text": [
      "['[CLS]', 'продавать', 'любимый', 'та', '##чил', 'об', '##вес', 'т', '##юн', '##инг', 'ездить', 'должны', '##й', 'ре', '##зв', '##иться', 'служить', 'авто', 'хороший', 'кар', '##ма', 'хороший', 'звук', 'вообще', 'приятный', 'част', '##ый', 'командир', '##овка', 'машина', 'пользоваться', 'отсюда', 'маленький', 'проб', '##ег', 'ме', '##лки', '##й', 'авария', 'увидеть', 'столб', '##ик', 'двор', 'ещё', 'увидеть', 'сделать', 'ремонт', 'часть', 'повреди', '##ть', 'от', '##рем', '##онт', '##ировать', 'фото', 'летний', 'ре', '##зина', 'род', '##ный', 'диск', 'ещё', 'зимний', 'ре', '##зина', 'супер', 'красивый', 'диск', 'отдать', 'вместе', 'машина', 'бонус', 'купить', 'девушка', 'пат', '##ч', 'блеск', 'губ', '##а', '[SEP]']\n"
     ]
    }
   ],
   "source": [
    "encoding = tokenizer(data['description'][1], add_special_tokens = True)\n",
    "print(tokenizer.convert_ids_to_tokens(encoding['input_ids']))"
   ]
  },
  {
   "cell_type": "code",
   "execution_count": 61,
   "id": "80d27c69",
   "metadata": {
    "execution": {
     "iopub.execute_input": "2022-06-30T07:46:46.253311Z",
     "iopub.status.busy": "2022-06-30T07:46:46.252915Z",
     "iopub.status.idle": "2022-06-30T07:46:46.259912Z",
     "shell.execute_reply": "2022-06-30T07:46:46.258646Z"
    },
    "papermill": {
     "duration": 0.042799,
     "end_time": "2022-06-30T07:46:46.262926",
     "exception": false,
     "start_time": "2022-06-30T07:46:46.220127",
     "status": "completed"
    },
    "tags": []
   },
   "outputs": [
    {
     "name": "stdout",
     "output_type": "stream",
     "text": [
      "['[CLS]', 'продавать', 'любимый', 'тачил', 'обвес', 'тюнинг', 'ездить', 'должный', 'резвиться', 'служить', 'авто', 'хороший', 'карма', 'хороший', 'звук', 'вообще', 'приятный', 'частый', 'командировка', 'машина', 'пользоваться', 'отсюда', 'маленький', 'пробег', 'мелкий', 'авария', 'увидеть', 'столбик', 'двор', 'ещё', 'увидеть', 'сделать', 'ремонт', 'часть', 'повредить', 'отремонтировать', 'фото', 'летний', 'резина', 'родный', 'диск', 'ещё', 'зимний', 'резина', 'супер', 'красивый', 'диск', 'отдать', 'вместе', 'машина', 'бонус', 'купить', 'девушка', 'патч', 'блеск', 'губа', '[SEP]']\n"
     ]
    }
   ],
   "source": [
    "# есть ощущение, что свой токенизатор чуть лучше разбивает текст => будем применять его\n",
    "encoding2 = new_tokenizer(data['description'][1], add_special_tokens = True)\n",
    "print(new_tokenizer.convert_ids_to_tokens(encoding2['input_ids']))"
   ]
  },
  {
   "cell_type": "code",
   "execution_count": 62,
   "id": "2450e38d",
   "metadata": {
    "execution": {
     "iopub.execute_input": "2022-06-30T07:46:46.329344Z",
     "iopub.status.busy": "2022-06-30T07:46:46.328389Z",
     "iopub.status.idle": "2022-06-30T07:46:51.868004Z",
     "shell.execute_reply": "2022-06-30T07:46:51.866641Z"
    },
    "papermill": {
     "duration": 5.575951,
     "end_time": "2022-06-30T07:46:51.870899",
     "exception": false,
     "start_time": "2022-06-30T07:46:46.294948",
     "status": "completed"
    },
    "tags": []
   },
   "outputs": [],
   "source": [
    "text_train_sequences = new_tokenizer(text=text_train.to_list(), add_special_tokens = True,\n",
    "    max_length = max_length_test, \n",
    "    truncation = True,\n",
    "    padding = True, \n",
    "    return_tensors = 'tf',\n",
    "    return_attention_mask = True,\n",
    "    verbose = True)\n",
    "\n",
    "text_test_sequences = new_tokenizer(text=text_test.to_list(), add_special_tokens = True,\n",
    "    max_length = max_length_test, \n",
    "    truncation = True,\n",
    "    padding = True, \n",
    "    return_tensors = 'tf',\n",
    "    return_attention_mask = True,\n",
    "    verbose = True)\n",
    "\n",
    "text_sub_sequences = new_tokenizer(text=text_sub.to_list(), add_special_tokens = True,\n",
    "    max_length = max_length_test, \n",
    "    truncation = True,\n",
    "    padding = True, \n",
    "    return_tensors = 'tf',\n",
    "    return_attention_mask = True,\n",
    "    verbose = True)\n"
   ]
  },
  {
   "cell_type": "code",
   "execution_count": 63,
   "id": "91dc3292",
   "metadata": {
    "execution": {
     "iopub.execute_input": "2022-06-30T07:46:51.935101Z",
     "iopub.status.busy": "2022-06-30T07:46:51.933898Z",
     "iopub.status.idle": "2022-06-30T07:46:51.942074Z",
     "shell.execute_reply": "2022-06-30T07:46:51.940686Z"
    },
    "papermill": {
     "duration": 0.043747,
     "end_time": "2022-06-30T07:46:51.945797",
     "exception": false,
     "start_time": "2022-06-30T07:46:51.902050",
     "status": "completed"
    },
    "tags": []
   },
   "outputs": [
    {
     "name": "stdout",
     "output_type": "stream",
     "text": [
      "(5679, 256)\n",
      "(5679, 256)\n",
      "(5679, 256)\n",
      "(1003, 256)\n",
      "(1003, 256)\n",
      "(1003, 256)\n"
     ]
    }
   ],
   "source": [
    "print(text_train_sequences['input_ids'].shape)\n",
    "print(text_train_sequences['attention_mask'].shape)\n",
    "print(text_train_sequences['token_type_ids'].shape)\n",
    "\n",
    "print(text_test_sequences['input_ids'].shape)\n",
    "print(text_test_sequences['attention_mask'].shape)\n",
    "print(text_test_sequences['token_type_ids'].shape)\n"
   ]
  },
  {
   "cell_type": "markdown",
   "id": "a9f8f838",
   "metadata": {
    "papermill": {
     "duration": 0.031162,
     "end_time": "2022-06-30T07:46:52.009710",
     "exception": false,
     "start_time": "2022-06-30T07:46:51.978548",
     "status": "completed"
    },
    "tags": []
   },
   "source": [
    "### Transformer"
   ]
  },
  {
   "cell_type": "code",
   "execution_count": 64,
   "id": "658b2396",
   "metadata": {
    "execution": {
     "iopub.execute_input": "2022-06-30T07:46:52.075826Z",
     "iopub.status.busy": "2022-06-30T07:46:52.075431Z",
     "iopub.status.idle": "2022-06-30T07:46:52.087919Z",
     "shell.execute_reply": "2022-06-30T07:46:52.086918Z"
    },
    "papermill": {
     "duration": 0.048679,
     "end_time": "2022-06-30T07:46:52.090559",
     "exception": false,
     "start_time": "2022-06-30T07:46:52.041880",
     "status": "completed"
    },
    "tags": []
   },
   "outputs": [],
   "source": [
    "K.clear_session()"
   ]
  },
  {
   "cell_type": "code",
   "execution_count": 65,
   "id": "69855c7f",
   "metadata": {
    "execution": {
     "iopub.execute_input": "2022-06-30T07:46:52.154343Z",
     "iopub.status.busy": "2022-06-30T07:46:52.153334Z",
     "iopub.status.idle": "2022-06-30T07:46:59.842803Z",
     "shell.execute_reply": "2022-06-30T07:46:59.841542Z"
    },
    "papermill": {
     "duration": 7.724137,
     "end_time": "2022-06-30T07:46:59.845907",
     "exception": false,
     "start_time": "2022-06-30T07:46:52.121770",
     "status": "completed"
    },
    "tags": []
   },
   "outputs": [],
   "source": [
    "input_ids = L.Input(shape=(max_length_test,), dtype=tf.int32, name = 'input_ids')\n",
    "attention_mask = L.Input(shape=(max_length_test,), dtype=tf.int32, name = 'attention_mask')\n",
    "\n",
    "embeddings = bert_layer(input_ids = input_ids, attention_mask = attention_mask)[0]\n",
    "layer = L.Dropout(0.2)(embeddings)\n",
    "layer = L.Dense(1024, activation = 'relu')(layer)\n",
    "last_layer = L.Flatten()(layer)\n",
    "    \n",
    "model_transformer = tf.keras.Model(inputs = [input_ids, attention_mask], outputs = last_layer)"
   ]
  },
  {
   "cell_type": "code",
   "execution_count": 66,
   "id": "db1906dc",
   "metadata": {
    "execution": {
     "iopub.execute_input": "2022-06-30T07:46:59.912104Z",
     "iopub.status.busy": "2022-06-30T07:46:59.911468Z",
     "iopub.status.idle": "2022-06-30T07:46:59.918745Z",
     "shell.execute_reply": "2022-06-30T07:46:59.917741Z"
    },
    "papermill": {
     "duration": 0.042469,
     "end_time": "2022-06-30T07:46:59.921632",
     "exception": false,
     "start_time": "2022-06-30T07:46:59.879163",
     "status": "completed"
    },
    "tags": []
   },
   "outputs": [
    {
     "data": {
      "text/plain": [
       "[<KerasTensor: shape=(None, 256) dtype=int32 (created by layer 'input_ids')>,\n",
       " <KerasTensor: shape=(None, 256) dtype=int32 (created by layer 'attention_mask')>]"
      ]
     },
     "execution_count": 66,
     "metadata": {},
     "output_type": "execute_result"
    }
   ],
   "source": [
    "model_transformer.inputs"
   ]
  },
  {
   "cell_type": "markdown",
   "id": "41177ca0",
   "metadata": {
    "papermill": {
     "duration": 0.03347,
     "end_time": "2022-06-30T07:46:59.987413",
     "exception": false,
     "start_time": "2022-06-30T07:46:59.953943",
     "status": "completed"
    },
    "tags": []
   },
   "source": [
    "### MLP"
   ]
  },
  {
   "cell_type": "code",
   "execution_count": 67,
   "id": "5a696e58",
   "metadata": {
    "execution": {
     "iopub.execute_input": "2022-06-30T07:47:00.052976Z",
     "iopub.status.busy": "2022-06-30T07:47:00.052606Z",
     "iopub.status.idle": "2022-06-30T07:47:00.082181Z",
     "shell.execute_reply": "2022-06-30T07:47:00.081071Z"
    },
    "papermill": {
     "duration": 0.065374,
     "end_time": "2022-06-30T07:47:00.084800",
     "exception": false,
     "start_time": "2022-06-30T07:47:00.019426",
     "status": "completed"
    },
    "tags": []
   },
   "outputs": [],
   "source": [
    "model_mlp = Sequential()\n",
    "model_mlp.add(L.Dense(512, input_dim=X_train.shape[1], activation=\"sigmoid\"))\n",
    "model_mlp.add(L.Dropout(0.5))\n",
    "model_mlp.add(L.Dense(256, activation=\"relu\"))"
   ]
  },
  {
   "cell_type": "markdown",
   "id": "d6de94ea",
   "metadata": {
    "papermill": {
     "duration": 0.03202,
     "end_time": "2022-06-30T07:47:00.148967",
     "exception": false,
     "start_time": "2022-06-30T07:47:00.116947",
     "status": "completed"
    },
    "tags": []
   },
   "source": [
    "### Multiple Inputs NN"
   ]
  },
  {
   "cell_type": "code",
   "execution_count": 68,
   "id": "ebdcd4c3",
   "metadata": {
    "execution": {
     "iopub.execute_input": "2022-06-30T07:47:00.216327Z",
     "iopub.status.busy": "2022-06-30T07:47:00.215904Z",
     "iopub.status.idle": "2022-06-30T07:47:00.248013Z",
     "shell.execute_reply": "2022-06-30T07:47:00.246941Z"
    },
    "papermill": {
     "duration": 0.069617,
     "end_time": "2022-06-30T07:47:00.250721",
     "exception": false,
     "start_time": "2022-06-30T07:47:00.181104",
     "status": "completed"
    },
    "tags": []
   },
   "outputs": [],
   "source": [
    "combinedInput = L.concatenate([model_transformer.output, model_mlp.output])\n",
    "# being our regression head\n",
    "layer = L.Dense(256, activation=\"relu\")(combinedInput)\n",
    "layer = L.Dropout(0.5)(layer)\n",
    "head = L.Dense(1, activation=\"linear\")(layer)\n",
    "\n",
    "\n",
    "model = Model(inputs=[model_transformer.input, model_mlp.input], outputs=head)"
   ]
  },
  {
   "cell_type": "code",
   "execution_count": 69,
   "id": "b7fd827b",
   "metadata": {
    "execution": {
     "iopub.execute_input": "2022-06-30T07:47:00.319087Z",
     "iopub.status.busy": "2022-06-30T07:47:00.318714Z",
     "iopub.status.idle": "2022-06-30T07:47:00.339480Z",
     "shell.execute_reply": "2022-06-30T07:47:00.338476Z"
    },
    "papermill": {
     "duration": 0.056522,
     "end_time": "2022-06-30T07:47:00.342054",
     "exception": false,
     "start_time": "2022-06-30T07:47:00.285532",
     "status": "completed"
    },
    "tags": []
   },
   "outputs": [],
   "source": [
    "optimizer = tf.keras.optimizers.Adam(0.001)\n",
    "model.compile(loss='MAPE',optimizer=optimizer, metrics=['MAPE'])"
   ]
  },
  {
   "cell_type": "code",
   "execution_count": 70,
   "id": "21b8af37",
   "metadata": {
    "execution": {
     "iopub.execute_input": "2022-06-30T07:47:00.406960Z",
     "iopub.status.busy": "2022-06-30T07:47:00.406569Z",
     "iopub.status.idle": "2022-06-30T07:47:00.413293Z",
     "shell.execute_reply": "2022-06-30T07:47:00.412176Z"
    },
    "papermill": {
     "duration": 0.041915,
     "end_time": "2022-06-30T07:47:00.415549",
     "exception": false,
     "start_time": "2022-06-30T07:47:00.373634",
     "status": "completed"
    },
    "tags": []
   },
   "outputs": [],
   "source": [
    "checkpoint = ModelCheckpoint('../working/best_model.hdf5', monitor='val_MAPE',\n",
    "                    save_best_only=True, verbose=0, mode='min')\n",
    "earlystop = EarlyStopping(monitor='val_MAPE', patience=10, restore_best_weights=True)\n",
    "reduce_lr = ReduceLROnPlateau(monitor='val_MAPE',\n",
    "                              factor=0.25,\n",
    "                              patience=4,\n",
    "                              min_lr = 0,\n",
    "                              verbose=1,\n",
    "                              mode='auto')\n",
    "callbacks_list = [checkpoint, earlystop,reduce_lr]"
   ]
  },
  {
   "cell_type": "code",
   "execution_count": 71,
   "id": "adca8339",
   "metadata": {
    "execution": {
     "iopub.execute_input": "2022-06-30T07:47:00.482521Z",
     "iopub.status.busy": "2022-06-30T07:47:00.480586Z",
     "iopub.status.idle": "2022-06-30T10:05:38.771216Z",
     "shell.execute_reply": "2022-06-30T10:05:38.769243Z"
    },
    "papermill": {
     "duration": 8318.326371,
     "end_time": "2022-06-30T10:05:38.773791",
     "exception": false,
     "start_time": "2022-06-30T07:47:00.447420",
     "status": "completed"
    },
    "tags": []
   },
   "outputs": [
    {
     "name": "stderr",
     "output_type": "stream",
     "text": [
      "2022-06-30 07:47:00.678561: I tensorflow/compiler/mlir/mlir_graph_optimization_pass.cc:185] None of the MLIR Optimization Passes are enabled (registered 2)\n"
     ]
    },
    {
     "name": "stdout",
     "output_type": "stream",
     "text": [
      "Epoch 1/100\n",
      "355/355 [==============================] - 211s 547ms/step - loss: 69.5955 - MAPE: 69.5955 - val_loss: 48.9984 - val_MAPE: 48.9984\n",
      "Epoch 2/100\n",
      "355/355 [==============================] - 191s 539ms/step - loss: 40.8773 - MAPE: 40.8773 - val_loss: 29.8912 - val_MAPE: 29.8912\n",
      "Epoch 3/100\n",
      "355/355 [==============================] - 191s 539ms/step - loss: 28.6958 - MAPE: 28.6958 - val_loss: 23.1467 - val_MAPE: 23.1467\n",
      "Epoch 4/100\n",
      "355/355 [==============================] - 191s 539ms/step - loss: 23.7532 - MAPE: 23.7532 - val_loss: 19.6711 - val_MAPE: 19.6711\n",
      "Epoch 5/100\n",
      "355/355 [==============================] - 191s 539ms/step - loss: 21.0801 - MAPE: 21.0801 - val_loss: 17.6083 - val_MAPE: 17.6083\n",
      "Epoch 6/100\n",
      "355/355 [==============================] - 191s 539ms/step - loss: 19.6958 - MAPE: 19.6958 - val_loss: 16.5123 - val_MAPE: 16.5123\n",
      "Epoch 7/100\n",
      "355/355 [==============================] - 191s 539ms/step - loss: 18.9521 - MAPE: 18.9521 - val_loss: 15.7669 - val_MAPE: 15.7669\n",
      "Epoch 8/100\n",
      "355/355 [==============================] - 191s 538ms/step - loss: 17.9877 - MAPE: 17.9877 - val_loss: 15.4306 - val_MAPE: 15.4306\n",
      "Epoch 9/100\n",
      "355/355 [==============================] - 191s 537ms/step - loss: 17.6682 - MAPE: 17.6682 - val_loss: 14.8063 - val_MAPE: 14.8063\n",
      "Epoch 10/100\n",
      "355/355 [==============================] - 190s 536ms/step - loss: 17.1301 - MAPE: 17.1301 - val_loss: 14.4861 - val_MAPE: 14.4861\n",
      "Epoch 11/100\n",
      "355/355 [==============================] - 190s 536ms/step - loss: 16.8642 - MAPE: 16.8642 - val_loss: 14.1007 - val_MAPE: 14.1007\n",
      "Epoch 12/100\n",
      "355/355 [==============================] - 190s 536ms/step - loss: 16.6222 - MAPE: 16.6222 - val_loss: 14.2137 - val_MAPE: 14.2137\n",
      "Epoch 13/100\n",
      "355/355 [==============================] - 191s 537ms/step - loss: 16.2912 - MAPE: 16.2912 - val_loss: 13.5518 - val_MAPE: 13.5518\n",
      "Epoch 14/100\n",
      "355/355 [==============================] - 191s 538ms/step - loss: 16.0534 - MAPE: 16.0534 - val_loss: 13.4825 - val_MAPE: 13.4825\n",
      "Epoch 15/100\n",
      "355/355 [==============================] - 191s 538ms/step - loss: 15.8451 - MAPE: 15.8451 - val_loss: 13.6724 - val_MAPE: 13.6724\n",
      "Epoch 16/100\n",
      "355/355 [==============================] - 191s 538ms/step - loss: 15.5508 - MAPE: 15.5508 - val_loss: 12.8851 - val_MAPE: 12.8851\n",
      "Epoch 17/100\n",
      "355/355 [==============================] - 191s 538ms/step - loss: 15.5173 - MAPE: 15.5173 - val_loss: 12.6659 - val_MAPE: 12.6659\n",
      "Epoch 18/100\n",
      "355/355 [==============================] - 192s 540ms/step - loss: 15.2547 - MAPE: 15.2547 - val_loss: 12.5231 - val_MAPE: 12.5231\n",
      "Epoch 19/100\n",
      "355/355 [==============================] - 192s 541ms/step - loss: 15.3117 - MAPE: 15.3117 - val_loss: 12.3859 - val_MAPE: 12.3859\n",
      "Epoch 20/100\n",
      "355/355 [==============================] - 191s 539ms/step - loss: 15.0012 - MAPE: 15.0012 - val_loss: 12.5127 - val_MAPE: 12.5127\n",
      "Epoch 21/100\n",
      "355/355 [==============================] - 191s 539ms/step - loss: 14.8724 - MAPE: 14.8724 - val_loss: 12.2537 - val_MAPE: 12.2537\n",
      "Epoch 22/100\n",
      "355/355 [==============================] - 191s 538ms/step - loss: 14.9659 - MAPE: 14.9659 - val_loss: 12.3598 - val_MAPE: 12.3598\n",
      "Epoch 23/100\n",
      "355/355 [==============================] - 191s 539ms/step - loss: 14.8818 - MAPE: 14.8818 - val_loss: 12.0094 - val_MAPE: 12.0094\n",
      "Epoch 24/100\n",
      "355/355 [==============================] - 190s 536ms/step - loss: 14.7261 - MAPE: 14.7261 - val_loss: 12.0268 - val_MAPE: 12.0268\n",
      "Epoch 25/100\n",
      "355/355 [==============================] - 191s 538ms/step - loss: 14.7589 - MAPE: 14.7589 - val_loss: 12.0707 - val_MAPE: 12.0707\n",
      "Epoch 26/100\n",
      "355/355 [==============================] - 190s 536ms/step - loss: 14.2146 - MAPE: 14.2146 - val_loss: 12.0497 - val_MAPE: 12.0497\n",
      "Epoch 27/100\n",
      "355/355 [==============================] - 190s 536ms/step - loss: 14.5372 - MAPE: 14.5372 - val_loss: 11.8090 - val_MAPE: 11.8090\n",
      "Epoch 28/100\n",
      "355/355 [==============================] - 191s 538ms/step - loss: 14.3347 - MAPE: 14.3347 - val_loss: 11.9840 - val_MAPE: 11.9840\n",
      "Epoch 29/100\n",
      "355/355 [==============================] - 191s 537ms/step - loss: 14.4103 - MAPE: 14.4103 - val_loss: 12.4144 - val_MAPE: 12.4144\n",
      "Epoch 30/100\n",
      "355/355 [==============================] - 191s 539ms/step - loss: 14.3779 - MAPE: 14.3779 - val_loss: 12.2325 - val_MAPE: 12.2325\n",
      "Epoch 31/100\n",
      "355/355 [==============================] - 191s 539ms/step - loss: 14.3050 - MAPE: 14.3050 - val_loss: 11.8904 - val_MAPE: 11.8904\n",
      "\n",
      "Epoch 00031: ReduceLROnPlateau reducing learning rate to 0.0002500000118743628.\n",
      "Epoch 32/100\n",
      "355/355 [==============================] - 191s 539ms/step - loss: 14.0063 - MAPE: 14.0063 - val_loss: 11.7684 - val_MAPE: 11.7684\n",
      "Epoch 33/100\n",
      "355/355 [==============================] - 191s 537ms/step - loss: 14.1108 - MAPE: 14.1108 - val_loss: 11.6798 - val_MAPE: 11.6798\n",
      "Epoch 34/100\n",
      "355/355 [==============================] - 191s 538ms/step - loss: 14.2278 - MAPE: 14.2278 - val_loss: 11.7338 - val_MAPE: 11.7338\n",
      "Epoch 35/100\n",
      "355/355 [==============================] - 191s 538ms/step - loss: 14.1228 - MAPE: 14.1228 - val_loss: 11.8122 - val_MAPE: 11.8122\n",
      "Epoch 36/100\n",
      "355/355 [==============================] - 191s 538ms/step - loss: 14.0899 - MAPE: 14.0899 - val_loss: 11.7837 - val_MAPE: 11.7837\n",
      "Epoch 37/100\n",
      "355/355 [==============================] - 191s 538ms/step - loss: 14.0142 - MAPE: 14.0142 - val_loss: 11.7476 - val_MAPE: 11.7476\n",
      "\n",
      "Epoch 00037: ReduceLROnPlateau reducing learning rate to 6.25000029685907e-05.\n",
      "Epoch 38/100\n",
      "355/355 [==============================] - 191s 539ms/step - loss: 13.8425 - MAPE: 13.8425 - val_loss: 11.7174 - val_MAPE: 11.7174\n",
      "Epoch 39/100\n",
      "355/355 [==============================] - 191s 538ms/step - loss: 14.0530 - MAPE: 14.0530 - val_loss: 11.7101 - val_MAPE: 11.7101\n",
      "Epoch 40/100\n",
      "355/355 [==============================] - 191s 538ms/step - loss: 14.1301 - MAPE: 14.1301 - val_loss: 11.7007 - val_MAPE: 11.7007\n",
      "Epoch 41/100\n",
      "355/355 [==============================] - 191s 538ms/step - loss: 14.0083 - MAPE: 14.0083 - val_loss: 11.7101 - val_MAPE: 11.7101\n",
      "\n",
      "Epoch 00041: ReduceLROnPlateau reducing learning rate to 1.5625000742147677e-05.\n",
      "Epoch 42/100\n",
      "355/355 [==============================] - 191s 538ms/step - loss: 13.9087 - MAPE: 13.9087 - val_loss: 11.7254 - val_MAPE: 11.7254\n",
      "Epoch 43/100\n",
      "355/355 [==============================] - 191s 539ms/step - loss: 13.8908 - MAPE: 13.8908 - val_loss: 11.7284 - val_MAPE: 11.7284\n"
     ]
    }
   ],
   "source": [
    "history = model.fit([text_train_sequences['input_ids'],text_train_sequences['attention_mask'] , X_train], np.exp(y_train),\n",
    "                    batch_size=16,\n",
    "                    epochs=100, # фактически мы обучаем пока EarlyStopping не остановит обучение\n",
    "                    validation_data=([text_test_sequences['input_ids'],text_test_sequences['attention_mask'], X_test], np.exp(y_test)),\n",
    "                    callbacks=callbacks_list\n",
    "                   )"
   ]
  },
  {
   "cell_type": "code",
   "execution_count": 72,
   "id": "dba1bc7d",
   "metadata": {
    "execution": {
     "iopub.execute_input": "2022-06-30T10:05:41.058362Z",
     "iopub.status.busy": "2022-06-30T10:05:41.056732Z",
     "iopub.status.idle": "2022-06-30T10:06:39.521291Z",
     "shell.execute_reply": "2022-06-30T10:06:39.520246Z"
    },
    "papermill": {
     "duration": 60.977013,
     "end_time": "2022-06-30T10:06:40.875110",
     "exception": false,
     "start_time": "2022-06-30T10:05:39.898097",
     "status": "completed"
    },
    "tags": []
   },
   "outputs": [
    {
     "data": {
      "image/png": "[encoded data removed]",
      "text/plain": [
       "<Figure size 460.8x316.8 with 1 Axes>"
      ]
     },
     "metadata": {
      "needs_background": "light"
     },
     "output_type": "display_data"
    }
   ],
   "source": [
    "plt.title('Loss')\n",
    "plt.plot(history.history['MAPE'], label='train')\n",
    "plt.plot(history.history['val_MAPE'], label='test')\n",
    "plt.show();"
   ]
  },
  {
   "cell_type": "code",
   "execution_count": 73,
   "id": "6fa3b136",
   "metadata": {
    "execution": {
     "iopub.execute_input": "2022-06-30T10:06:43.059042Z",
     "iopub.status.busy": "2022-06-30T10:06:43.058488Z",
     "iopub.status.idle": "2022-06-30T10:06:46.072802Z",
     "shell.execute_reply": "2022-06-30T10:06:46.071666Z"
    },
    "papermill": {
     "duration": 4.065972,
     "end_time": "2022-06-30T10:06:46.076119",
     "exception": false,
     "start_time": "2022-06-30T10:06:42.010147",
     "status": "completed"
    },
    "tags": []
   },
   "outputs": [],
   "source": [
    "model.load_weights('../working/best_model.hdf5')\n",
    "model.save('../working/nn_mlp_transformer.hdf5')"
   ]
  },
  {
   "cell_type": "code",
   "execution_count": 74,
   "id": "43db182e",
   "metadata": {
    "execution": {
     "iopub.execute_input": "2022-06-30T10:06:48.729211Z",
     "iopub.status.busy": "2022-06-30T10:06:48.728116Z",
     "iopub.status.idle": "2022-06-30T10:07:01.935104Z",
     "shell.execute_reply": "2022-06-30T10:07:01.933528Z"
    },
    "papermill": {
     "duration": 14.523662,
     "end_time": "2022-06-30T10:07:01.938680",
     "exception": false,
     "start_time": "2022-06-30T10:06:47.415018",
     "status": "completed"
    },
    "tags": []
   },
   "outputs": [
    {
     "name": "stdout",
     "output_type": "stream",
     "text": [
      "TEST mape: 11.68%\n"
     ]
    }
   ],
   "source": [
    "predict_nn_transformer = model.predict([text_test_sequences['input_ids'],text_test_sequences['attention_mask'], X_test])\n",
    "print(f\"TEST mape: {(mape(np.exp(y_test), predict_nn_transformer[:,0]))*100:0.2f}%\")\n",
    "\n",
    "#TEST mape: 11.68%"
   ]
  },
  {
   "cell_type": "code",
   "execution_count": 75,
   "id": "406c3e3a",
   "metadata": {
    "execution": {
     "iopub.execute_input": "2022-06-30T10:07:04.351448Z",
     "iopub.status.busy": "2022-06-30T10:07:04.350946Z",
     "iopub.status.idle": "2022-06-30T10:07:21.120295Z",
     "shell.execute_reply": "2022-06-30T10:07:21.119136Z"
    },
    "papermill": {
     "duration": 17.892319,
     "end_time": "2022-06-30T10:07:21.123117",
     "exception": false,
     "start_time": "2022-06-30T10:07:03.230798",
     "status": "completed"
    },
    "tags": []
   },
   "outputs": [],
   "source": [
    "sub_predict_nn_transformer = model.predict([text_sub_sequences['input_ids'],text_sub_sequences['attention_mask'], X_sub])\n",
    "sample_submission['price'] = sub_predict_nn_transformer[:, 0]\n",
    "sample_submission['price'] = round_to(sample_submission['price'], 1000)\n",
    "sample_submission.to_csv('nn_transformer_submission_round.csv', index=False)"
   ]
  },
  {
   "cell_type": "markdown",
   "metadata": {
    "papermill": {
     "duration": 1.054695,
     "end_time": "2022-06-30T10:07:23.328415",
     "exception": false,
     "start_time": "2022-06-30T10:07:22.273720",
     "status": "completed"
    },
    "tags": []
   },
   "source": [
    "#### Результат модели на Kaggle - 12.43951"
   ]
  },
  {
   "cell_type": "markdown",
   "metadata": {},
   "source": [
    "В целом модель показала достаточно скромные результаты. Возможно, стоило все-таки уменьшить темп обучения (но тут возникала проблема нехватки времени и квоты на графический процессор...). Скорее всего, при существенном увеличении количества данных модель также была бы более результативной. "
   ]
  },
  {
   "cell_type": "code",
   "execution_count": null,
   "metadata": {},
   "outputs": [],
   "source": []
  }
 ],
 "metadata": {
  "kernelspec": {
   "display_name": "Python 3",
   "language": "python",
   "name": "python3"
  },
  "language_info": {
   "codemirror_mode": {
    "name": "ipython",
    "version": 3
   },
   "file_extension": ".py",
   "mimetype": "text/x-python",
   "name": "python",
   "nbconvert_exporter": "python",
   "pygments_lexer": "ipython3",
   "version": "3.8.5"
  },
  "papermill": {
   "default_parameters": {},
   "duration": 8681.72163,
   "end_time": "2022-06-30T10:07:28.331746",
   "environment_variables": {},
   "exception": null,
   "input_path": "__notebook__.ipynb",
   "output_path": "__notebook__.ipynb",
   "parameters": {},
   "start_time": "2022-06-30T07:42:46.610116",
   "version": "2.3.4"
  },
  "widgets": {
   "application/vnd.jupyter.widget-state+json": {
    "state": {
     "08fa24a900794635869d4d1478b200d5": {
      "model_module": "@jupyter-widgets/base",
      "model_module_version": "1.2.0",
      "model_name": "LayoutModel",
      "state": {
       "_model_module": "@jupyter-widgets/base",
       "_model_module_version": "1.2.0",
       "_model_name": "LayoutModel",
       "_view_count": null,
       "_view_module": "@jupyter-widgets/base",
       "_view_module_version": "1.2.0",
       "_view_name": "LayoutView",
       "align_content": null,
       "align_items": null,
       "align_self": null,
       "border": null,
       "bottom": null,
       "display": null,
       "flex": null,
       "flex_flow": null,
       "grid_area": null,
       "grid_auto_columns": null,
       "grid_auto_flow": null,
       "grid_auto_rows": null,
       "grid_column": null,
       "grid_gap": null,
       "grid_row": null,
       "grid_template_areas": null,
       "grid_template_columns": null,
       "grid_template_rows": null,
       "height": null,
       "justify_content": null,
       "justify_items": null,
       "left": null,
       "margin": null,
       "max_height": null,
       "max_width": null,
       "min_height": null,
       "min_width": null,
       "object_fit": null,
       "object_position": null,
       "order": null,
       "overflow": null,
       "overflow_x": null,
       "overflow_y": null,
       "padding": null,
       "right": null,
       "top": null,
       "visibility": null,
       "width": null
      }
     },
     "0d1198bfaad346d793255bee6700a5cc": {
      "model_module": "@jupyter-widgets/base",
      "model_module_version": "1.2.0",
      "model_name": "LayoutModel",
      "state": {
       "_model_module": "@jupyter-widgets/base",
       "_model_module_version": "1.2.0",
       "_model_name": "LayoutModel",
       "_view_count": null,
       "_view_module": "@jupyter-widgets/base",
       "_view_module_version": "1.2.0",
       "_view_name": "LayoutView",
       "align_content": null,
       "align_items": null,
       "align_self": null,
       "border": null,
       "bottom": null,
       "display": null,
       "flex": null,
       "flex_flow": null,
       "grid_area": null,
       "grid_auto_columns": null,
       "grid_auto_flow": null,
       "grid_auto_rows": null,
       "grid_column": null,
       "grid_gap": null,
       "grid_row": null,
       "grid_template_areas": null,
       "grid_template_columns": null,
       "grid_template_rows": null,
       "height": null,
       "justify_content": null,
       "justify_items": null,
       "left": null,
       "margin": null,
       "max_height": null,
       "max_width": null,
       "min_height": null,
       "min_width": null,
       "object_fit": null,
       "object_position": null,
       "order": null,
       "overflow": null,
       "overflow_x": null,
       "overflow_y": null,
       "padding": null,
       "right": null,
       "top": null,
       "visibility": null,
       "width": null
      }
     },
     "0f822cbab8ff494bb16d9ddfa0ae83fd": {
      "model_module": "@jupyter-widgets/controls",
      "model_module_version": "1.5.0",
      "model_name": "FloatProgressModel",
      "state": {
       "_dom_classes": [],
       "_model_module": "@jupyter-widgets/controls",
       "_model_module_version": "1.5.0",
       "_model_name": "FloatProgressModel",
       "_view_count": null,
       "_view_module": "@jupyter-widgets/controls",
       "_view_module_version": "1.5.0",
       "_view_name": "ProgressView",
       "bar_style": "success",
       "description": "",
       "description_tooltip": null,
       "layout": "IPY_MODEL_534e50057d594bb287610947519fa963",
       "max": 112,
       "min": 0,
       "orientation": "horizontal",
       "style": "IPY_MODEL_a88634c5bf91433ca6d373e911028238",
       "value": 112
      }
     },
     "11073bc8cc0f4364bfc8134467543f52": {
      "model_module": "@jupyter-widgets/controls",
      "model_module_version": "1.5.0",
      "model_name": "HTMLModel",
      "state": {
       "_dom_classes": [],
       "_model_module": "@jupyter-widgets/controls",
       "_model_module_version": "1.5.0",
       "_model_name": "HTMLModel",
       "_view_count": null,
       "_view_module": "@jupyter-widgets/controls",
       "_view_module_version": "1.5.0",
       "_view_name": "HTMLView",
       "description": "",
       "description_tooltip": null,
       "layout": "IPY_MODEL_2de2d9e9223f4f7d8e2dbf9674c7561e",
       "placeholder": "​",
       "style": "IPY_MODEL_50984728621c4522812ea56a1c13c162",
       "value": "Downloading: 100%"
      }
     },
     "16912e0b30d043ec9f009369503fdf6b": {
      "model_module": "@jupyter-widgets/base",
      "model_module_version": "1.2.0",
      "model_name": "LayoutModel",
      "state": {
       "_model_module": "@jupyter-widgets/base",
       "_model_module_version": "1.2.0",
       "_model_name": "LayoutModel",
       "_view_count": null,
       "_view_module": "@jupyter-widgets/base",
       "_view_module_version": "1.2.0",
       "_view_name": "LayoutView",
       "align_content": null,
       "align_items": null,
       "align_self": null,
       "border": null,
       "bottom": null,
       "display": null,
       "flex": null,
       "flex_flow": null,
       "grid_area": null,
       "grid_auto_columns": null,
       "grid_auto_flow": null,
       "grid_auto_rows": null,
       "grid_column": null,
       "grid_gap": null,
       "grid_row": null,
       "grid_template_areas": null,
       "grid_template_columns": null,
       "grid_template_rows": null,
       "height": null,
       "justify_content": null,
       "justify_items": null,
       "left": null,
       "margin": null,
       "max_height": null,
       "max_width": null,
       "min_height": null,
       "min_width": null,
       "object_fit": null,
       "object_position": null,
       "order": null,
       "overflow": null,
       "overflow_x": null,
       "overflow_y": null,
       "padding": null,
       "right": null,
       "top": null,
       "visibility": null,
       "width": null
      }
     },
     "19a6ee5fcc224fecbb5a8ba0579b7292": {
      "model_module": "@jupyter-widgets/base",
      "model_module_version": "1.2.0",
      "model_name": "LayoutModel",
      "state": {
       "_model_module": "@jupyter-widgets/base",
       "_model_module_version": "1.2.0",
       "_model_name": "LayoutModel",
       "_view_count": null,
       "_view_module": "@jupyter-widgets/base",
       "_view_module_version": "1.2.0",
       "_view_name": "LayoutView",
       "align_content": null,
       "align_items": null,
       "align_self": null,
       "border": null,
       "bottom": null,
       "display": null,
       "flex": null,
       "flex_flow": null,
       "grid_area": null,
       "grid_auto_columns": null,
       "grid_auto_flow": null,
       "grid_auto_rows": null,
       "grid_column": null,
       "grid_gap": null,
       "grid_row": null,
       "grid_template_areas": null,
       "grid_template_columns": null,
       "grid_template_rows": null,
       "height": null,
       "justify_content": null,
       "justify_items": null,
       "left": null,
       "margin": null,
       "max_height": null,
       "max_width": null,
       "min_height": null,
       "min_width": null,
       "object_fit": null,
       "object_position": null,
       "order": null,
       "overflow": null,
       "overflow_x": null,
       "overflow_y": null,
       "padding": null,
       "right": null,
       "top": null,
       "visibility": null,
       "width": null
      }
     },
     "19c88c676eee4005b91186f19e9ec38e": {
      "model_module": "@jupyter-widgets/controls",
      "model_module_version": "1.5.0",
      "model_name": "HBoxModel",
      "state": {
       "_dom_classes": [],
       "_model_module": "@jupyter-widgets/controls",
       "_model_module_version": "1.5.0",
       "_model_name": "HBoxModel",
       "_view_count": null,
       "_view_module": "@jupyter-widgets/controls",
       "_view_module_version": "1.5.0",
       "_view_name": "HBoxView",
       "box_style": "",
       "children": [
        "IPY_MODEL_abda55e3ad2f444b97ce7943aabae2a2",
        "IPY_MODEL_cca82c9b25d941249858cfc05d196d70",
        "IPY_MODEL_7f23d766bedc494a91a0e9c17b27ce04"
       ],
       "layout": "IPY_MODEL_6de2dc77455e41c98e521bc65ce6407f"
      }
     },
     "1a94afa15e024ab9a167a0d2552d633d": {
      "model_module": "@jupyter-widgets/base",
      "model_module_version": "1.2.0",
      "model_name": "LayoutModel",
      "state": {
       "_model_module": "@jupyter-widgets/base",
       "_model_module_version": "1.2.0",
       "_model_name": "LayoutModel",
       "_view_count": null,
       "_view_module": "@jupyter-widgets/base",
       "_view_module_version": "1.2.0",
       "_view_name": "LayoutView",
       "align_content": null,
       "align_items": null,
       "align_self": null,
       "border": null,
       "bottom": null,
       "display": null,
       "flex": null,
       "flex_flow": null,
       "grid_area": null,
       "grid_auto_columns": null,
       "grid_auto_flow": null,
       "grid_auto_rows": null,
       "grid_column": null,
       "grid_gap": null,
       "grid_row": null,
       "grid_template_areas": null,
       "grid_template_columns": null,
       "grid_template_rows": null,
       "height": null,
       "justify_content": null,
       "justify_items": null,
       "left": null,
       "margin": null,
       "max_height": null,
       "max_width": null,
       "min_height": null,
       "min_width": null,
       "object_fit": null,
       "object_position": null,
       "order": null,
       "overflow": null,
       "overflow_x": null,
       "overflow_y": null,
       "padding": null,
       "right": null,
       "top": null,
       "visibility": null,
       "width": null
      }
     },
     "21fb3fb17d9c4eed9cf4d37b23f4beaa": {
      "model_module": "@jupyter-widgets/controls",
      "model_module_version": "1.5.0",
      "model_name": "HTMLModel",
      "state": {
       "_dom_classes": [],
       "_model_module": "@jupyter-widgets/controls",
       "_model_module_version": "1.5.0",
       "_model_name": "HTMLModel",
       "_view_count": null,
       "_view_module": "@jupyter-widgets/controls",
       "_view_module_version": "1.5.0",
       "_view_name": "HTMLView",
       "description": "",
       "description_tooltip": null,
       "layout": "IPY_MODEL_4abd94329cd14f9e87fad196fd011ad0",
       "placeholder": "​",
       "style": "IPY_MODEL_ab6158679fc94e5f98e9bc2e99eb570e",
       "value": " 408M/408M [00:10&lt;00:00, 35.1MB/s]"
      }
     },
     "2de2d9e9223f4f7d8e2dbf9674c7561e": {
      "model_module": "@jupyter-widgets/base",
      "model_module_version": "1.2.0",
      "model_name": "LayoutModel",
      "state": {
       "_model_module": "@jupyter-widgets/base",
       "_model_module_version": "1.2.0",
       "_model_name": "LayoutModel",
       "_view_count": null,
       "_view_module": "@jupyter-widgets/base",
       "_view_module_version": "1.2.0",
       "_view_name": "LayoutView",
       "align_content": null,
       "align_items": null,
       "align_self": null,
       "border": null,
       "bottom": null,
       "display": null,
       "flex": null,
       "flex_flow": null,
       "grid_area": null,
       "grid_auto_columns": null,
       "grid_auto_flow": null,
       "grid_auto_rows": null,
       "grid_column": null,
       "grid_gap": null,
       "grid_row": null,
       "grid_template_areas": null,
       "grid_template_columns": null,
       "grid_template_rows": null,
       "height": null,
       "justify_content": null,
       "justify_items": null,
       "left": null,
       "margin": null,
       "max_height": null,
       "max_width": null,
       "min_height": null,
       "min_width": null,
       "object_fit": null,
       "object_position": null,
       "order": null,
       "overflow": null,
       "overflow_x": null,
       "overflow_y": null,
       "padding": null,
       "right": null,
       "top": null,
       "visibility": null,
       "width": null
      }
     },
     "2ff5643e5b7640b3a208674eacadd579": {
      "model_module": "@jupyter-widgets/controls",
      "model_module_version": "1.5.0",
      "model_name": "HTMLModel",
      "state": {
       "_dom_classes": [],
       "_model_module": "@jupyter-widgets/controls",
       "_model_module_version": "1.5.0",
       "_model_name": "HTMLModel",
       "_view_count": null,
       "_view_module": "@jupyter-widgets/controls",
       "_view_module_version": "1.5.0",
       "_view_name": "HTMLView",
       "description": "",
       "description_tooltip": null,
       "layout": "IPY_MODEL_beda2836c9604e1bb68501a57bcdbfc0",
       "placeholder": "​",
       "style": "IPY_MODEL_b40f04e8afc343e697e2b961435401fe",
       "value": " 653/653 [00:00&lt;00:00, 18.7kB/s]"
      }
     },
     "3d8b4bcd88d1458d9ff31e685e516847": {
      "model_module": "@jupyter-widgets/controls",
      "model_module_version": "1.5.0",
      "model_name": "HBoxModel",
      "state": {
       "_dom_classes": [],
       "_model_module": "@jupyter-widgets/controls",
       "_model_module_version": "1.5.0",
       "_model_name": "HBoxModel",
       "_view_count": null,
       "_view_module": "@jupyter-widgets/controls",
       "_view_module_version": "1.5.0",
       "_view_name": "HBoxView",
       "box_style": "",
       "children": [
        "IPY_MODEL_11073bc8cc0f4364bfc8134467543f52",
        "IPY_MODEL_b5a8dc99e55b4a4f9b5be6fa6bc279bd",
        "IPY_MODEL_2ff5643e5b7640b3a208674eacadd579"
       ],
       "layout": "IPY_MODEL_767f9fcb56f24cb0803a6f8c4e2bda6e"
      }
     },
     "43c59c75a6724caaa35e881564bd111a": {
      "model_module": "@jupyter-widgets/controls",
      "model_module_version": "1.5.0",
      "model_name": "HTMLModel",
      "state": {
       "_dom_classes": [],
       "_model_module": "@jupyter-widgets/controls",
       "_model_module_version": "1.5.0",
       "_model_name": "HTMLModel",
       "_view_count": null,
       "_view_module": "@jupyter-widgets/controls",
       "_view_module_version": "1.5.0",
       "_view_name": "HTMLView",
       "description": "",
       "description_tooltip": null,
       "layout": "IPY_MODEL_c8b9b5ebaa5b4026a48adc3a960aff9e",
       "placeholder": "​",
       "style": "IPY_MODEL_e4a472395e354725b09b75868e3dd8b0",
       "value": "Downloading: 100%"
      }
     },
     "43feb2e2e66a4cf5b711c57a9f5b7a90": {
      "model_module": "@jupyter-widgets/base",
      "model_module_version": "1.2.0",
      "model_name": "LayoutModel",
      "state": {
       "_model_module": "@jupyter-widgets/base",
       "_model_module_version": "1.2.0",
       "_model_name": "LayoutModel",
       "_view_count": null,
       "_view_module": "@jupyter-widgets/base",
       "_view_module_version": "1.2.0",
       "_view_name": "LayoutView",
       "align_content": null,
       "align_items": null,
       "align_self": null,
       "border": null,
       "bottom": null,
       "display": null,
       "flex": null,
       "flex_flow": null,
       "grid_area": null,
       "grid_auto_columns": null,
       "grid_auto_flow": null,
       "grid_auto_rows": null,
       "grid_column": null,
       "grid_gap": null,
       "grid_row": null,
       "grid_template_areas": null,
       "grid_template_columns": null,
       "grid_template_rows": null,
       "height": null,
       "justify_content": null,
       "justify_items": null,
       "left": null,
       "margin": null,
       "max_height": null,
       "max_width": null,
       "min_height": null,
       "min_width": null,
       "object_fit": null,
       "object_position": null,
       "order": null,
       "overflow": null,
       "overflow_x": null,
       "overflow_y": null,
       "padding": null,
       "right": null,
       "top": null,
       "visibility": null,
       "width": null
      }
     },
     "450fc3f3ab3c4277b85638b8b0a87823": {
      "model_module": "@jupyter-widgets/controls",
      "model_module_version": "1.5.0",
      "model_name": "HTMLModel",
      "state": {
       "_dom_classes": [],
       "_model_module": "@jupyter-widgets/controls",
       "_model_module_version": "1.5.0",
       "_model_name": "HTMLModel",
       "_view_count": null,
       "_view_module": "@jupyter-widgets/controls",
       "_view_module_version": "1.5.0",
       "_view_name": "HTMLView",
       "description": "",
       "description_tooltip": null,
       "layout": "IPY_MODEL_08fa24a900794635869d4d1478b200d5",
       "placeholder": "​",
       "style": "IPY_MODEL_d0471e6b44094994bdb374c4f067f286",
       "value": "Downloading: 100%"
      }
     },
     "4abd94329cd14f9e87fad196fd011ad0": {
      "model_module": "@jupyter-widgets/base",
      "model_module_version": "1.2.0",
      "model_name": "LayoutModel",
      "state": {
       "_model_module": "@jupyter-widgets/base",
       "_model_module_version": "1.2.0",
       "_model_name": "LayoutModel",
       "_view_count": null,
       "_view_module": "@jupyter-widgets/base",
       "_view_module_version": "1.2.0",
       "_view_name": "LayoutView",
       "align_content": null,
       "align_items": null,
       "align_self": null,
       "border": null,
       "bottom": null,
       "display": null,
       "flex": null,
       "flex_flow": null,
       "grid_area": null,
       "grid_auto_columns": null,
       "grid_auto_flow": null,
       "grid_auto_rows": null,
       "grid_column": null,
       "grid_gap": null,
       "grid_row": null,
       "grid_template_areas": null,
       "grid_template_columns": null,
       "grid_template_rows": null,
       "height": null,
       "justify_content": null,
       "justify_items": null,
       "left": null,
       "margin": null,
       "max_height": null,
       "max_width": null,
       "min_height": null,
       "min_width": null,
       "object_fit": null,
       "object_position": null,
       "order": null,
       "overflow": null,
       "overflow_x": null,
       "overflow_y": null,
       "padding": null,
       "right": null,
       "top": null,
       "visibility": null,
       "width": null
      }
     },
     "50984728621c4522812ea56a1c13c162": {
      "model_module": "@jupyter-widgets/controls",
      "model_module_version": "1.5.0",
      "model_name": "DescriptionStyleModel",
      "state": {
       "_model_module": "@jupyter-widgets/controls",
       "_model_module_version": "1.5.0",
       "_model_name": "DescriptionStyleModel",
       "_view_count": null,
       "_view_module": "@jupyter-widgets/base",
       "_view_module_version": "1.2.0",
       "_view_name": "StyleView",
       "description_width": ""
      }
     },
     "5326cd3b21d64458bb69626dc00fc503": {
      "model_module": "@jupyter-widgets/controls",
      "model_module_version": "1.5.0",
      "model_name": "FloatProgressModel",
      "state": {
       "_dom_classes": [],
       "_model_module": "@jupyter-widgets/controls",
       "_model_module_version": "1.5.0",
       "_model_name": "FloatProgressModel",
       "_view_count": null,
       "_view_module": "@jupyter-widgets/controls",
       "_view_module_version": "1.5.0",
       "_view_name": "ProgressView",
       "bar_style": "success",
       "description": "",
       "description_tooltip": null,
       "layout": "IPY_MODEL_af9df1beff184d73b6a63bfca231567c",
       "max": 427850520,
       "min": 0,
       "orientation": "horizontal",
       "style": "IPY_MODEL_a9a577834ac14df6be6a7de6fefcc0a1",
       "value": 427850520
      }
     },
     "534e50057d594bb287610947519fa963": {
      "model_module": "@jupyter-widgets/base",
      "model_module_version": "1.2.0",
      "model_name": "LayoutModel",
      "state": {
       "_model_module": "@jupyter-widgets/base",
       "_model_module_version": "1.2.0",
       "_model_name": "LayoutModel",
       "_view_count": null,
       "_view_module": "@jupyter-widgets/base",
       "_view_module_version": "1.2.0",
       "_view_name": "LayoutView",
       "align_content": null,
       "align_items": null,
       "align_self": null,
       "border": null,
       "bottom": null,
       "display": null,
       "flex": null,
       "flex_flow": null,
       "grid_area": null,
       "grid_auto_columns": null,
       "grid_auto_flow": null,
       "grid_auto_rows": null,
       "grid_column": null,
       "grid_gap": null,
       "grid_row": null,
       "grid_template_areas": null,
       "grid_template_columns": null,
       "grid_template_rows": null,
       "height": null,
       "justify_content": null,
       "justify_items": null,
       "left": null,
       "margin": null,
       "max_height": null,
       "max_width": null,
       "min_height": null,
       "min_width": null,
       "object_fit": null,
       "object_position": null,
       "order": null,
       "overflow": null,
       "overflow_x": null,
       "overflow_y": null,
       "padding": null,
       "right": null,
       "top": null,
       "visibility": null,
       "width": null
      }
     },
     "5fdb92d29027407f9b76d9535a602481": {
      "model_module": "@jupyter-widgets/controls",
      "model_module_version": "1.5.0",
      "model_name": "FloatProgressModel",
      "state": {
       "_dom_classes": [],
       "_model_module": "@jupyter-widgets/controls",
       "_model_module_version": "1.5.0",
       "_model_name": "FloatProgressModel",
       "_view_count": null,
       "_view_module": "@jupyter-widgets/controls",
       "_view_module_version": "1.5.0",
       "_view_name": "ProgressView",
       "bar_style": "success",
       "description": "",
       "description_tooltip": null,
       "layout": "IPY_MODEL_19a6ee5fcc224fecbb5a8ba0579b7292",
       "max": 336020,
       "min": 0,
       "orientation": "horizontal",
       "style": "IPY_MODEL_7f6990bd39a64c169bcede522797d656",
       "value": 336020
      }
     },
     "6aacf9f84af44dcc950c2e28c2c108f4": {
      "model_module": "@jupyter-widgets/controls",
      "model_module_version": "1.5.0",
      "model_name": "ProgressStyleModel",
      "state": {
       "_model_module": "@jupyter-widgets/controls",
       "_model_module_version": "1.5.0",
       "_model_name": "ProgressStyleModel",
       "_view_count": null,
       "_view_module": "@jupyter-widgets/base",
       "_view_module_version": "1.2.0",
       "_view_name": "StyleView",
       "bar_color": null,
       "description_width": ""
      }
     },
     "6de2dc77455e41c98e521bc65ce6407f": {
      "model_module": "@jupyter-widgets/base",
      "model_module_version": "1.2.0",
      "model_name": "LayoutModel",
      "state": {
       "_model_module": "@jupyter-widgets/base",
       "_model_module_version": "1.2.0",
       "_model_name": "LayoutModel",
       "_view_count": null,
       "_view_module": "@jupyter-widgets/base",
       "_view_module_version": "1.2.0",
       "_view_name": "LayoutView",
       "align_content": null,
       "align_items": null,
       "align_self": null,
       "border": null,
       "bottom": null,
       "display": null,
       "flex": null,
       "flex_flow": null,
       "grid_area": null,
       "grid_auto_columns": null,
       "grid_auto_flow": null,
       "grid_auto_rows": null,
       "grid_column": null,
       "grid_gap": null,
       "grid_row": null,
       "grid_template_areas": null,
       "grid_template_columns": null,
       "grid_template_rows": null,
       "height": null,
       "justify_content": null,
       "justify_items": null,
       "left": null,
       "margin": null,
       "max_height": null,
       "max_width": null,
       "min_height": null,
       "min_width": null,
       "object_fit": null,
       "object_position": null,
       "order": null,
       "overflow": null,
       "overflow_x": null,
       "overflow_y": null,
       "padding": null,
       "right": null,
       "top": null,
       "visibility": null,
       "width": null
      }
     },
     "6f9d3829f773409aa7c294291eb51874": {
      "model_module": "@jupyter-widgets/base",
      "model_module_version": "1.2.0",
      "model_name": "LayoutModel",
      "state": {
       "_model_module": "@jupyter-widgets/base",
       "_model_module_version": "1.2.0",
       "_model_name": "LayoutModel",
       "_view_count": null,
       "_view_module": "@jupyter-widgets/base",
       "_view_module_version": "1.2.0",
       "_view_name": "LayoutView",
       "align_content": null,
       "align_items": null,
       "align_self": null,
       "border": null,
       "bottom": null,
       "display": null,
       "flex": null,
       "flex_flow": null,
       "grid_area": null,
       "grid_auto_columns": null,
       "grid_auto_flow": null,
       "grid_auto_rows": null,
       "grid_column": null,
       "grid_gap": null,
       "grid_row": null,
       "grid_template_areas": null,
       "grid_template_columns": null,
       "grid_template_rows": null,
       "height": null,
       "justify_content": null,
       "justify_items": null,
       "left": null,
       "margin": null,
       "max_height": null,
       "max_width": null,
       "min_height": null,
       "min_width": null,
       "object_fit": null,
       "object_position": null,
       "order": null,
       "overflow": null,
       "overflow_x": null,
       "overflow_y": null,
       "padding": null,
       "right": null,
       "top": null,
       "visibility": null,
       "width": null
      }
     },
     "6fded0c70d094bf3bd2ec0a6a1300069": {
      "model_module": "@jupyter-widgets/controls",
      "model_module_version": "1.5.0",
      "model_name": "DescriptionStyleModel",
      "state": {
       "_model_module": "@jupyter-widgets/controls",
       "_model_module_version": "1.5.0",
       "_model_name": "DescriptionStyleModel",
       "_view_count": null,
       "_view_module": "@jupyter-widgets/base",
       "_view_module_version": "1.2.0",
       "_view_name": "StyleView",
       "description_width": ""
      }
     },
     "729545552a4f477ba5fd987136dc0623": {
      "model_module": "@jupyter-widgets/controls",
      "model_module_version": "1.5.0",
      "model_name": "ProgressStyleModel",
      "state": {
       "_model_module": "@jupyter-widgets/controls",
       "_model_module_version": "1.5.0",
       "_model_name": "ProgressStyleModel",
       "_view_count": null,
       "_view_module": "@jupyter-widgets/base",
       "_view_module_version": "1.2.0",
       "_view_name": "StyleView",
       "bar_color": null,
       "description_width": ""
      }
     },
     "755f1a2f215a425282ccfcadba9fcecb": {
      "model_module": "@jupyter-widgets/controls",
      "model_module_version": "1.5.0",
      "model_name": "ProgressStyleModel",
      "state": {
       "_model_module": "@jupyter-widgets/controls",
       "_model_module_version": "1.5.0",
       "_model_name": "ProgressStyleModel",
       "_view_count": null,
       "_view_module": "@jupyter-widgets/base",
       "_view_module_version": "1.2.0",
       "_view_name": "StyleView",
       "bar_color": null,
       "description_width": ""
      }
     },
     "767f9fcb56f24cb0803a6f8c4e2bda6e": {
      "model_module": "@jupyter-widgets/base",
      "model_module_version": "1.2.0",
      "model_name": "LayoutModel",
      "state": {
       "_model_module": "@jupyter-widgets/base",
       "_model_module_version": "1.2.0",
       "_model_name": "LayoutModel",
       "_view_count": null,
       "_view_module": "@jupyter-widgets/base",
       "_view_module_version": "1.2.0",
       "_view_name": "LayoutView",
       "align_content": null,
       "align_items": null,
       "align_self": null,
       "border": null,
       "bottom": null,
       "display": null,
       "flex": null,
       "flex_flow": null,
       "grid_area": null,
       "grid_auto_columns": null,
       "grid_auto_flow": null,
       "grid_auto_rows": null,
       "grid_column": null,
       "grid_gap": null,
       "grid_row": null,
       "grid_template_areas": null,
       "grid_template_columns": null,
       "grid_template_rows": null,
       "height": null,
       "justify_content": null,
       "justify_items": null,
       "left": null,
       "margin": null,
       "max_height": null,
       "max_width": null,
       "min_height": null,
       "min_width": null,
       "object_fit": null,
       "object_position": null,
       "order": null,
       "overflow": null,
       "overflow_x": null,
       "overflow_y": null,
       "padding": null,
       "right": null,
       "top": null,
       "visibility": null,
       "width": null
      }
     },
     "7a06b667caab4cdab670f05a3444fa8a": {
      "model_module": "@jupyter-widgets/controls",
      "model_module_version": "1.5.0",
      "model_name": "HBoxModel",
      "state": {
       "_dom_classes": [],
       "_model_module": "@jupyter-widgets/controls",
       "_model_module_version": "1.5.0",
       "_model_name": "HBoxModel",
       "_view_count": null,
       "_view_module": "@jupyter-widgets/controls",
       "_view_module_version": "1.5.0",
       "_view_name": "HBoxView",
       "box_style": "",
       "children": [
        "IPY_MODEL_43c59c75a6724caaa35e881564bd111a",
        "IPY_MODEL_d95fd13764b84d539a446cd97c155bd8",
        "IPY_MODEL_d133b2f9b8f3492c9c6a011c27cbfee4"
       ],
       "layout": "IPY_MODEL_0d1198bfaad346d793255bee6700a5cc"
      }
     },
     "7de678b32840449a900b5a3ce94dfc45": {
      "model_module": "@jupyter-widgets/base",
      "model_module_version": "1.2.0",
      "model_name": "LayoutModel",
      "state": {
       "_model_module": "@jupyter-widgets/base",
       "_model_module_version": "1.2.0",
       "_model_name": "LayoutModel",
       "_view_count": null,
       "_view_module": "@jupyter-widgets/base",
       "_view_module_version": "1.2.0",
       "_view_name": "LayoutView",
       "align_content": null,
       "align_items": null,
       "align_self": null,
       "border": null,
       "bottom": null,
       "display": null,
       "flex": null,
       "flex_flow": null,
       "grid_area": null,
       "grid_auto_columns": null,
       "grid_auto_flow": null,
       "grid_auto_rows": null,
       "grid_column": null,
       "grid_gap": null,
       "grid_row": null,
       "grid_template_areas": null,
       "grid_template_columns": null,
       "grid_template_rows": null,
       "height": null,
       "justify_content": null,
       "justify_items": null,
       "left": null,
       "margin": null,
       "max_height": null,
       "max_width": null,
       "min_height": null,
       "min_width": null,
       "object_fit": null,
       "object_position": null,
       "order": null,
       "overflow": null,
       "overflow_x": null,
       "overflow_y": null,
       "padding": null,
       "right": null,
       "top": null,
       "visibility": null,
       "width": null
      }
     },
     "7f23d766bedc494a91a0e9c17b27ce04": {
      "model_module": "@jupyter-widgets/controls",
      "model_module_version": "1.5.0",
      "model_name": "HTMLModel",
      "state": {
       "_dom_classes": [],
       "_model_module": "@jupyter-widgets/controls",
       "_model_module_version": "1.5.0",
       "_model_name": "HTMLModel",
       "_view_count": null,
       "_view_module": "@jupyter-widgets/controls",
       "_view_module_version": "1.5.0",
       "_view_name": "HTMLView",
       "description": "",
       "description_tooltip": null,
       "layout": "IPY_MODEL_a9a272ece8364eae820e6fc7231e76f2",
       "placeholder": "​",
       "style": "IPY_MODEL_6fded0c70d094bf3bd2ec0a6a1300069",
       "value": " 49.0/49.0 [00:00&lt;00:00, 1.61kB/s]"
      }
     },
     "7f6990bd39a64c169bcede522797d656": {
      "model_module": "@jupyter-widgets/controls",
      "model_module_version": "1.5.0",
      "model_name": "ProgressStyleModel",
      "state": {
       "_model_module": "@jupyter-widgets/controls",
       "_model_module_version": "1.5.0",
       "_model_name": "ProgressStyleModel",
       "_view_count": null,
       "_view_module": "@jupyter-widgets/base",
       "_view_module_version": "1.2.0",
       "_view_name": "StyleView",
       "bar_color": null,
       "description_width": ""
      }
     },
     "815c17e51de54e61bc43a83df3a27633": {
      "model_module": "@jupyter-widgets/base",
      "model_module_version": "1.2.0",
      "model_name": "LayoutModel",
      "state": {
       "_model_module": "@jupyter-widgets/base",
       "_model_module_version": "1.2.0",
       "_model_name": "LayoutModel",
       "_view_count": null,
       "_view_module": "@jupyter-widgets/base",
       "_view_module_version": "1.2.0",
       "_view_name": "LayoutView",
       "align_content": null,
       "align_items": null,
       "align_self": null,
       "border": null,
       "bottom": null,
       "display": null,
       "flex": null,
       "flex_flow": null,
       "grid_area": null,
       "grid_auto_columns": null,
       "grid_auto_flow": null,
       "grid_auto_rows": null,
       "grid_column": null,
       "grid_gap": null,
       "grid_row": null,
       "grid_template_areas": null,
       "grid_template_columns": null,
       "grid_template_rows": null,
       "height": null,
       "justify_content": null,
       "justify_items": null,
       "left": null,
       "margin": null,
       "max_height": null,
       "max_width": null,
       "min_height": null,
       "min_width": null,
       "object_fit": null,
       "object_position": null,
       "order": null,
       "overflow": null,
       "overflow_x": null,
       "overflow_y": null,
       "padding": null,
       "right": null,
       "top": null,
       "visibility": null,
       "width": null
      }
     },
     "923b411eef484e9db316c0c233375b8f": {
      "model_module": "@jupyter-widgets/controls",
      "model_module_version": "1.5.0",
      "model_name": "HTMLModel",
      "state": {
       "_dom_classes": [],
       "_model_module": "@jupyter-widgets/controls",
       "_model_module_version": "1.5.0",
       "_model_name": "HTMLModel",
       "_view_count": null,
       "_view_module": "@jupyter-widgets/controls",
       "_view_module_version": "1.5.0",
       "_view_name": "HTMLView",
       "description": "",
       "description_tooltip": null,
       "layout": "IPY_MODEL_815c17e51de54e61bc43a83df3a27633",
       "placeholder": "​",
       "style": "IPY_MODEL_ee723b1693394c42b827ea39773dff74",
       "value": "Downloading: 100%"
      }
     },
     "941c0bcb9a2b49fa971f1d9a8f9172db": {
      "model_module": "@jupyter-widgets/controls",
      "model_module_version": "1.5.0",
      "model_name": "HBoxModel",
      "state": {
       "_dom_classes": [],
       "_model_module": "@jupyter-widgets/controls",
       "_model_module_version": "1.5.0",
       "_model_name": "HBoxModel",
       "_view_count": null,
       "_view_module": "@jupyter-widgets/controls",
       "_view_module_version": "1.5.0",
       "_view_name": "HBoxView",
       "box_style": "",
       "children": [
        "IPY_MODEL_450fc3f3ab3c4277b85638b8b0a87823",
        "IPY_MODEL_5326cd3b21d64458bb69626dc00fc503",
        "IPY_MODEL_21fb3fb17d9c4eed9cf4d37b23f4beaa"
       ],
       "layout": "IPY_MODEL_9c3dcb3d7546420f8fa1b96e7250739d"
      }
     },
     "9c3dcb3d7546420f8fa1b96e7250739d": {
      "model_module": "@jupyter-widgets/base",
      "model_module_version": "1.2.0",
      "model_name": "LayoutModel",
      "state": {
       "_model_module": "@jupyter-widgets/base",
       "_model_module_version": "1.2.0",
       "_model_name": "LayoutModel",
       "_view_count": null,
       "_view_module": "@jupyter-widgets/base",
       "_view_module_version": "1.2.0",
       "_view_name": "LayoutView",
       "align_content": null,
       "align_items": null,
       "align_self": null,
       "border": null,
       "bottom": null,
       "display": null,
       "flex": null,
       "flex_flow": null,
       "grid_area": null,
       "grid_auto_columns": null,
       "grid_auto_flow": null,
       "grid_auto_rows": null,
       "grid_column": null,
       "grid_gap": null,
       "grid_row": null,
       "grid_template_areas": null,
       "grid_template_columns": null,
       "grid_template_rows": null,
       "height": null,
       "justify_content": null,
       "justify_items": null,
       "left": null,
       "margin": null,
       "max_height": null,
       "max_width": null,
       "min_height": null,
       "min_width": null,
       "object_fit": null,
       "object_position": null,
       "order": null,
       "overflow": null,
       "overflow_x": null,
       "overflow_y": null,
       "padding": null,
       "right": null,
       "top": null,
       "visibility": null,
       "width": null
      }
     },
     "9e5d73532a6d49cf8b0694087cb04b1c": {
      "model_module": "@jupyter-widgets/base",
      "model_module_version": "1.2.0",
      "model_name": "LayoutModel",
      "state": {
       "_model_module": "@jupyter-widgets/base",
       "_model_module_version": "1.2.0",
       "_model_name": "LayoutModel",
       "_view_count": null,
       "_view_module": "@jupyter-widgets/base",
       "_view_module_version": "1.2.0",
       "_view_name": "LayoutView",
       "align_content": null,
       "align_items": null,
       "align_self": null,
       "border": null,
       "bottom": null,
       "display": null,
       "flex": null,
       "flex_flow": null,
       "grid_area": null,
       "grid_auto_columns": null,
       "grid_auto_flow": null,
       "grid_auto_rows": null,
       "grid_column": null,
       "grid_gap": null,
       "grid_row": null,
       "grid_template_areas": null,
       "grid_template_columns": null,
       "grid_template_rows": null,
       "height": null,
       "justify_content": null,
       "justify_items": null,
       "left": null,
       "margin": null,
       "max_height": null,
       "max_width": null,
       "min_height": null,
       "min_width": null,
       "object_fit": null,
       "object_position": null,
       "order": null,
       "overflow": null,
       "overflow_x": null,
       "overflow_y": null,
       "padding": null,
       "right": null,
       "top": null,
       "visibility": null,
       "width": null
      }
     },
     "a22030f7e02c4a8093d47b1d65a16292": {
      "model_module": "@jupyter-widgets/base",
      "model_module_version": "1.2.0",
      "model_name": "LayoutModel",
      "state": {
       "_model_module": "@jupyter-widgets/base",
       "_model_module_version": "1.2.0",
       "_model_name": "LayoutModel",
       "_view_count": null,
       "_view_module": "@jupyter-widgets/base",
       "_view_module_version": "1.2.0",
       "_view_name": "LayoutView",
       "align_content": null,
       "align_items": null,
       "align_self": null,
       "border": null,
       "bottom": null,
       "display": null,
       "flex": null,
       "flex_flow": null,
       "grid_area": null,
       "grid_auto_columns": null,
       "grid_auto_flow": null,
       "grid_auto_rows": null,
       "grid_column": null,
       "grid_gap": null,
       "grid_row": null,
       "grid_template_areas": null,
       "grid_template_columns": null,
       "grid_template_rows": null,
       "height": null,
       "justify_content": null,
       "justify_items": null,
       "left": null,
       "margin": null,
       "max_height": null,
       "max_width": null,
       "min_height": null,
       "min_width": null,
       "object_fit": null,
       "object_position": null,
       "order": null,
       "overflow": null,
       "overflow_x": null,
       "overflow_y": null,
       "padding": null,
       "right": null,
       "top": null,
       "visibility": null,
       "width": null
      }
     },
     "a88634c5bf91433ca6d373e911028238": {
      "model_module": "@jupyter-widgets/controls",
      "model_module_version": "1.5.0",
      "model_name": "ProgressStyleModel",
      "state": {
       "_model_module": "@jupyter-widgets/controls",
       "_model_module_version": "1.5.0",
       "_model_name": "ProgressStyleModel",
       "_view_count": null,
       "_view_module": "@jupyter-widgets/base",
       "_view_module_version": "1.2.0",
       "_view_name": "StyleView",
       "bar_color": null,
       "description_width": ""
      }
     },
     "a9a272ece8364eae820e6fc7231e76f2": {
      "model_module": "@jupyter-widgets/base",
      "model_module_version": "1.2.0",
      "model_name": "LayoutModel",
      "state": {
       "_model_module": "@jupyter-widgets/base",
       "_model_module_version": "1.2.0",
       "_model_name": "LayoutModel",
       "_view_count": null,
       "_view_module": "@jupyter-widgets/base",
       "_view_module_version": "1.2.0",
       "_view_name": "LayoutView",
       "align_content": null,
       "align_items": null,
       "align_self": null,
       "border": null,
       "bottom": null,
       "display": null,
       "flex": null,
       "flex_flow": null,
       "grid_area": null,
       "grid_auto_columns": null,
       "grid_auto_flow": null,
       "grid_auto_rows": null,
       "grid_column": null,
       "grid_gap": null,
       "grid_row": null,
       "grid_template_areas": null,
       "grid_template_columns": null,
       "grid_template_rows": null,
       "height": null,
       "justify_content": null,
       "justify_items": null,
       "left": null,
       "margin": null,
       "max_height": null,
       "max_width": null,
       "min_height": null,
       "min_width": null,
       "object_fit": null,
       "object_position": null,
       "order": null,
       "overflow": null,
       "overflow_x": null,
       "overflow_y": null,
       "padding": null,
       "right": null,
       "top": null,
       "visibility": null,
       "width": null
      }
     },
     "a9a577834ac14df6be6a7de6fefcc0a1": {
      "model_module": "@jupyter-widgets/controls",
      "model_module_version": "1.5.0",
      "model_name": "ProgressStyleModel",
      "state": {
       "_model_module": "@jupyter-widgets/controls",
       "_model_module_version": "1.5.0",
       "_model_name": "ProgressStyleModel",
       "_view_count": null,
       "_view_module": "@jupyter-widgets/base",
       "_view_module_version": "1.2.0",
       "_view_name": "StyleView",
       "bar_color": null,
       "description_width": ""
      }
     },
     "ab6158679fc94e5f98e9bc2e99eb570e": {
      "model_module": "@jupyter-widgets/controls",
      "model_module_version": "1.5.0",
      "model_name": "DescriptionStyleModel",
      "state": {
       "_model_module": "@jupyter-widgets/controls",
       "_model_module_version": "1.5.0",
       "_model_name": "DescriptionStyleModel",
       "_view_count": null,
       "_view_module": "@jupyter-widgets/base",
       "_view_module_version": "1.2.0",
       "_view_name": "StyleView",
       "description_width": ""
      }
     },
     "abda55e3ad2f444b97ce7943aabae2a2": {
      "model_module": "@jupyter-widgets/controls",
      "model_module_version": "1.5.0",
      "model_name": "HTMLModel",
      "state": {
       "_dom_classes": [],
       "_model_module": "@jupyter-widgets/controls",
       "_model_module_version": "1.5.0",
       "_model_name": "HTMLModel",
       "_view_count": null,
       "_view_module": "@jupyter-widgets/controls",
       "_view_module_version": "1.5.0",
       "_view_name": "HTMLView",
       "description": "",
       "description_tooltip": null,
       "layout": "IPY_MODEL_9e5d73532a6d49cf8b0694087cb04b1c",
       "placeholder": "​",
       "style": "IPY_MODEL_fd53ac981b9143abbda0062f5ce768b8",
       "value": "Downloading: 100%"
      }
     },
     "aed4b01944744a94a0920dac7901d3df": {
      "model_module": "@jupyter-widgets/base",
      "model_module_version": "1.2.0",
      "model_name": "LayoutModel",
      "state": {
       "_model_module": "@jupyter-widgets/base",
       "_model_module_version": "1.2.0",
       "_model_name": "LayoutModel",
       "_view_count": null,
       "_view_module": "@jupyter-widgets/base",
       "_view_module_version": "1.2.0",
       "_view_name": "LayoutView",
       "align_content": null,
       "align_items": null,
       "align_self": null,
       "border": null,
       "bottom": null,
       "display": null,
       "flex": null,
       "flex_flow": null,
       "grid_area": null,
       "grid_auto_columns": null,
       "grid_auto_flow": null,
       "grid_auto_rows": null,
       "grid_column": null,
       "grid_gap": null,
       "grid_row": null,
       "grid_template_areas": null,
       "grid_template_columns": null,
       "grid_template_rows": null,
       "height": null,
       "justify_content": null,
       "justify_items": null,
       "left": null,
       "margin": null,
       "max_height": null,
       "max_width": null,
       "min_height": null,
       "min_width": null,
       "object_fit": null,
       "object_position": null,
       "order": null,
       "overflow": null,
       "overflow_x": null,
       "overflow_y": null,
       "padding": null,
       "right": null,
       "top": null,
       "visibility": null,
       "width": null
      }
     },
     "af9df1beff184d73b6a63bfca231567c": {
      "model_module": "@jupyter-widgets/base",
      "model_module_version": "1.2.0",
      "model_name": "LayoutModel",
      "state": {
       "_model_module": "@jupyter-widgets/base",
       "_model_module_version": "1.2.0",
       "_model_name": "LayoutModel",
       "_view_count": null,
       "_view_module": "@jupyter-widgets/base",
       "_view_module_version": "1.2.0",
       "_view_name": "LayoutView",
       "align_content": null,
       "align_items": null,
       "align_self": null,
       "border": null,
       "bottom": null,
       "display": null,
       "flex": null,
       "flex_flow": null,
       "grid_area": null,
       "grid_auto_columns": null,
       "grid_auto_flow": null,
       "grid_auto_rows": null,
       "grid_column": null,
       "grid_gap": null,
       "grid_row": null,
       "grid_template_areas": null,
       "grid_template_columns": null,
       "grid_template_rows": null,
       "height": null,
       "justify_content": null,
       "justify_items": null,
       "left": null,
       "margin": null,
       "max_height": null,
       "max_width": null,
       "min_height": null,
       "min_width": null,
       "object_fit": null,
       "object_position": null,
       "order": null,
       "overflow": null,
       "overflow_x": null,
       "overflow_y": null,
       "padding": null,
       "right": null,
       "top": null,
       "visibility": null,
       "width": null
      }
     },
     "afd5d3eb559b4764aacc98f442fba6db": {
      "model_module": "@jupyter-widgets/controls",
      "model_module_version": "1.5.0",
      "model_name": "DescriptionStyleModel",
      "state": {
       "_model_module": "@jupyter-widgets/controls",
       "_model_module_version": "1.5.0",
       "_model_name": "DescriptionStyleModel",
       "_view_count": null,
       "_view_module": "@jupyter-widgets/base",
       "_view_module_version": "1.2.0",
       "_view_name": "StyleView",
       "description_width": ""
      }
     },
     "b40f04e8afc343e697e2b961435401fe": {
      "model_module": "@jupyter-widgets/controls",
      "model_module_version": "1.5.0",
      "model_name": "DescriptionStyleModel",
      "state": {
       "_model_module": "@jupyter-widgets/controls",
       "_model_module_version": "1.5.0",
       "_model_name": "DescriptionStyleModel",
       "_view_count": null,
       "_view_module": "@jupyter-widgets/base",
       "_view_module_version": "1.2.0",
       "_view_name": "StyleView",
       "description_width": ""
      }
     },
     "b4c312b88006403d93e2216d937a6425": {
      "model_module": "@jupyter-widgets/controls",
      "model_module_version": "1.5.0",
      "model_name": "DescriptionStyleModel",
      "state": {
       "_model_module": "@jupyter-widgets/controls",
       "_model_module_version": "1.5.0",
       "_model_name": "DescriptionStyleModel",
       "_view_count": null,
       "_view_module": "@jupyter-widgets/base",
       "_view_module_version": "1.2.0",
       "_view_name": "StyleView",
       "description_width": ""
      }
     },
     "b5a8dc99e55b4a4f9b5be6fa6bc279bd": {
      "model_module": "@jupyter-widgets/controls",
      "model_module_version": "1.5.0",
      "model_name": "FloatProgressModel",
      "state": {
       "_dom_classes": [],
       "_model_module": "@jupyter-widgets/controls",
       "_model_module_version": "1.5.0",
       "_model_name": "FloatProgressModel",
       "_view_count": null,
       "_view_module": "@jupyter-widgets/controls",
       "_view_module_version": "1.5.0",
       "_view_name": "ProgressView",
       "bar_style": "success",
       "description": "",
       "description_tooltip": null,
       "layout": "IPY_MODEL_c9d27276510048df81fb836652abc0e7",
       "max": 653,
       "min": 0,
       "orientation": "horizontal",
       "style": "IPY_MODEL_6aacf9f84af44dcc950c2e28c2c108f4",
       "value": 653
      }
     },
     "b5d732650b06454a8f5373ade96d08a9": {
      "model_module": "@jupyter-widgets/controls",
      "model_module_version": "1.5.0",
      "model_name": "HBoxModel",
      "state": {
       "_dom_classes": [],
       "_model_module": "@jupyter-widgets/controls",
       "_model_module_version": "1.5.0",
       "_model_name": "HBoxModel",
       "_view_count": null,
       "_view_module": "@jupyter-widgets/controls",
       "_view_module_version": "1.5.0",
       "_view_name": "HBoxView",
       "box_style": "",
       "children": [
        "IPY_MODEL_923b411eef484e9db316c0c233375b8f",
        "IPY_MODEL_0f822cbab8ff494bb16d9ddfa0ae83fd",
        "IPY_MODEL_d6761b0f3f904753a7ef21f6991720ee"
       ],
       "layout": "IPY_MODEL_16912e0b30d043ec9f009369503fdf6b"
      }
     },
     "b63af2a531af46df84226c49ae73da9b": {
      "model_module": "@jupyter-widgets/controls",
      "model_module_version": "1.5.0",
      "model_name": "DescriptionStyleModel",
      "state": {
       "_model_module": "@jupyter-widgets/controls",
       "_model_module_version": "1.5.0",
       "_model_name": "DescriptionStyleModel",
       "_view_count": null,
       "_view_module": "@jupyter-widgets/base",
       "_view_module_version": "1.2.0",
       "_view_name": "StyleView",
       "description_width": ""
      }
     },
     "b920a470c11e4cfaa67a0633c4f56a0d": {
      "model_module": "@jupyter-widgets/controls",
      "model_module_version": "1.5.0",
      "model_name": "DescriptionStyleModel",
      "state": {
       "_model_module": "@jupyter-widgets/controls",
       "_model_module_version": "1.5.0",
       "_model_name": "DescriptionStyleModel",
       "_view_count": null,
       "_view_module": "@jupyter-widgets/base",
       "_view_module_version": "1.2.0",
       "_view_name": "StyleView",
       "description_width": ""
      }
     },
     "beda2836c9604e1bb68501a57bcdbfc0": {
      "model_module": "@jupyter-widgets/base",
      "model_module_version": "1.2.0",
      "model_name": "LayoutModel",
      "state": {
       "_model_module": "@jupyter-widgets/base",
       "_model_module_version": "1.2.0",
       "_model_name": "LayoutModel",
       "_view_count": null,
       "_view_module": "@jupyter-widgets/base",
       "_view_module_version": "1.2.0",
       "_view_name": "LayoutView",
       "align_content": null,
       "align_items": null,
       "align_self": null,
       "border": null,
       "bottom": null,
       "display": null,
       "flex": null,
       "flex_flow": null,
       "grid_area": null,
       "grid_auto_columns": null,
       "grid_auto_flow": null,
       "grid_auto_rows": null,
       "grid_column": null,
       "grid_gap": null,
       "grid_row": null,
       "grid_template_areas": null,
       "grid_template_columns": null,
       "grid_template_rows": null,
       "height": null,
       "justify_content": null,
       "justify_items": null,
       "left": null,
       "margin": null,
       "max_height": null,
       "max_width": null,
       "min_height": null,
       "min_width": null,
       "object_fit": null,
       "object_position": null,
       "order": null,
       "overflow": null,
       "overflow_x": null,
       "overflow_y": null,
       "padding": null,
       "right": null,
       "top": null,
       "visibility": null,
       "width": null
      }
     },
     "c8b9b5ebaa5b4026a48adc3a960aff9e": {
      "model_module": "@jupyter-widgets/base",
      "model_module_version": "1.2.0",
      "model_name": "LayoutModel",
      "state": {
       "_model_module": "@jupyter-widgets/base",
       "_model_module_version": "1.2.0",
       "_model_name": "LayoutModel",
       "_view_count": null,
       "_view_module": "@jupyter-widgets/base",
       "_view_module_version": "1.2.0",
       "_view_name": "LayoutView",
       "align_content": null,
       "align_items": null,
       "align_self": null,
       "border": null,
       "bottom": null,
       "display": null,
       "flex": null,
       "flex_flow": null,
       "grid_area": null,
       "grid_auto_columns": null,
       "grid_auto_flow": null,
       "grid_auto_rows": null,
       "grid_column": null,
       "grid_gap": null,
       "grid_row": null,
       "grid_template_areas": null,
       "grid_template_columns": null,
       "grid_template_rows": null,
       "height": null,
       "justify_content": null,
       "justify_items": null,
       "left": null,
       "margin": null,
       "max_height": null,
       "max_width": null,
       "min_height": null,
       "min_width": null,
       "object_fit": null,
       "object_position": null,
       "order": null,
       "overflow": null,
       "overflow_x": null,
       "overflow_y": null,
       "padding": null,
       "right": null,
       "top": null,
       "visibility": null,
       "width": null
      }
     },
     "c9d27276510048df81fb836652abc0e7": {
      "model_module": "@jupyter-widgets/base",
      "model_module_version": "1.2.0",
      "model_name": "LayoutModel",
      "state": {
       "_model_module": "@jupyter-widgets/base",
       "_model_module_version": "1.2.0",
       "_model_name": "LayoutModel",
       "_view_count": null,
       "_view_module": "@jupyter-widgets/base",
       "_view_module_version": "1.2.0",
       "_view_name": "LayoutView",
       "align_content": null,
       "align_items": null,
       "align_self": null,
       "border": null,
       "bottom": null,
       "display": null,
       "flex": null,
       "flex_flow": null,
       "grid_area": null,
       "grid_auto_columns": null,
       "grid_auto_flow": null,
       "grid_auto_rows": null,
       "grid_column": null,
       "grid_gap": null,
       "grid_row": null,
       "grid_template_areas": null,
       "grid_template_columns": null,
       "grid_template_rows": null,
       "height": null,
       "justify_content": null,
       "justify_items": null,
       "left": null,
       "margin": null,
       "max_height": null,
       "max_width": null,
       "min_height": null,
       "min_width": null,
       "object_fit": null,
       "object_position": null,
       "order": null,
       "overflow": null,
       "overflow_x": null,
       "overflow_y": null,
       "padding": null,
       "right": null,
       "top": null,
       "visibility": null,
       "width": null
      }
     },
     "cca82c9b25d941249858cfc05d196d70": {
      "model_module": "@jupyter-widgets/controls",
      "model_module_version": "1.5.0",
      "model_name": "FloatProgressModel",
      "state": {
       "_dom_classes": [],
       "_model_module": "@jupyter-widgets/controls",
       "_model_module_version": "1.5.0",
       "_model_name": "FloatProgressModel",
       "_view_count": null,
       "_view_module": "@jupyter-widgets/controls",
       "_view_module_version": "1.5.0",
       "_view_name": "ProgressView",
       "bar_style": "success",
       "description": "",
       "description_tooltip": null,
       "layout": "IPY_MODEL_e5055030294b47c09a01c87101bc4b9a",
       "max": 49,
       "min": 0,
       "orientation": "horizontal",
       "style": "IPY_MODEL_755f1a2f215a425282ccfcadba9fcecb",
       "value": 49
      }
     },
     "d0471e6b44094994bdb374c4f067f286": {
      "model_module": "@jupyter-widgets/controls",
      "model_module_version": "1.5.0",
      "model_name": "DescriptionStyleModel",
      "state": {
       "_model_module": "@jupyter-widgets/controls",
       "_model_module_version": "1.5.0",
       "_model_name": "DescriptionStyleModel",
       "_view_count": null,
       "_view_module": "@jupyter-widgets/base",
       "_view_module_version": "1.2.0",
       "_view_name": "StyleView",
       "description_width": ""
      }
     },
     "d133b2f9b8f3492c9c6a011c27cbfee4": {
      "model_module": "@jupyter-widgets/controls",
      "model_module_version": "1.5.0",
      "model_name": "HTMLModel",
      "state": {
       "_dom_classes": [],
       "_model_module": "@jupyter-widgets/controls",
       "_model_module_version": "1.5.0",
       "_model_name": "HTMLModel",
       "_view_count": null,
       "_view_module": "@jupyter-widgets/controls",
       "_view_module_version": "1.5.0",
       "_view_name": "HTMLView",
       "description": "",
       "description_tooltip": null,
       "layout": "IPY_MODEL_6f9d3829f773409aa7c294291eb51874",
       "placeholder": "​",
       "style": "IPY_MODEL_b920a470c11e4cfaa67a0633c4f56a0d",
       "value": " 744k/744k [00:00&lt;00:00, 3.66MB/s]"
      }
     },
     "d6761b0f3f904753a7ef21f6991720ee": {
      "model_module": "@jupyter-widgets/controls",
      "model_module_version": "1.5.0",
      "model_name": "HTMLModel",
      "state": {
       "_dom_classes": [],
       "_model_module": "@jupyter-widgets/controls",
       "_model_module_version": "1.5.0",
       "_model_name": "HTMLModel",
       "_view_count": null,
       "_view_module": "@jupyter-widgets/controls",
       "_view_module_version": "1.5.0",
       "_view_name": "HTMLView",
       "description": "",
       "description_tooltip": null,
       "layout": "IPY_MODEL_1a94afa15e024ab9a167a0d2552d633d",
       "placeholder": "​",
       "style": "IPY_MODEL_b4c312b88006403d93e2216d937a6425",
       "value": " 112/112 [00:00&lt;00:00, 3.58kB/s]"
      }
     },
     "d95fd13764b84d539a446cd97c155bd8": {
      "model_module": "@jupyter-widgets/controls",
      "model_module_version": "1.5.0",
      "model_name": "FloatProgressModel",
      "state": {
       "_dom_classes": [],
       "_model_module": "@jupyter-widgets/controls",
       "_model_module_version": "1.5.0",
       "_model_name": "FloatProgressModel",
       "_view_count": null,
       "_view_module": "@jupyter-widgets/controls",
       "_view_module_version": "1.5.0",
       "_view_name": "ProgressView",
       "bar_style": "success",
       "description": "",
       "description_tooltip": null,
       "layout": "IPY_MODEL_a22030f7e02c4a8093d47b1d65a16292",
       "max": 762039,
       "min": 0,
       "orientation": "horizontal",
       "style": "IPY_MODEL_729545552a4f477ba5fd987136dc0623",
       "value": 762039
      }
     },
     "e4a472395e354725b09b75868e3dd8b0": {
      "model_module": "@jupyter-widgets/controls",
      "model_module_version": "1.5.0",
      "model_name": "DescriptionStyleModel",
      "state": {
       "_model_module": "@jupyter-widgets/controls",
       "_model_module_version": "1.5.0",
       "_model_name": "DescriptionStyleModel",
       "_view_count": null,
       "_view_module": "@jupyter-widgets/base",
       "_view_module_version": "1.2.0",
       "_view_name": "StyleView",
       "description_width": ""
      }
     },
     "e5055030294b47c09a01c87101bc4b9a": {
      "model_module": "@jupyter-widgets/base",
      "model_module_version": "1.2.0",
      "model_name": "LayoutModel",
      "state": {
       "_model_module": "@jupyter-widgets/base",
       "_model_module_version": "1.2.0",
       "_model_name": "LayoutModel",
       "_view_count": null,
       "_view_module": "@jupyter-widgets/base",
       "_view_module_version": "1.2.0",
       "_view_name": "LayoutView",
       "align_content": null,
       "align_items": null,
       "align_self": null,
       "border": null,
       "bottom": null,
       "display": null,
       "flex": null,
       "flex_flow": null,
       "grid_area": null,
       "grid_auto_columns": null,
       "grid_auto_flow": null,
       "grid_auto_rows": null,
       "grid_column": null,
       "grid_gap": null,
       "grid_row": null,
       "grid_template_areas": null,
       "grid_template_columns": null,
       "grid_template_rows": null,
       "height": null,
       "justify_content": null,
       "justify_items": null,
       "left": null,
       "margin": null,
       "max_height": null,
       "max_width": null,
       "min_height": null,
       "min_width": null,
       "object_fit": null,
       "object_position": null,
       "order": null,
       "overflow": null,
       "overflow_x": null,
       "overflow_y": null,
       "padding": null,
       "right": null,
       "top": null,
       "visibility": null,
       "width": null
      }
     },
     "ecb24aab63024f479aa26e5b8fc29d04": {
      "model_module": "@jupyter-widgets/controls",
      "model_module_version": "1.5.0",
      "model_name": "HBoxModel",
      "state": {
       "_dom_classes": [],
       "_model_module": "@jupyter-widgets/controls",
       "_model_module_version": "1.5.0",
       "_model_name": "HBoxModel",
       "_view_count": null,
       "_view_module": "@jupyter-widgets/controls",
       "_view_module_version": "1.5.0",
       "_view_name": "HBoxView",
       "box_style": "",
       "children": [
        "IPY_MODEL_f83622350a454ccd8ebc07c4d110fba3",
        "IPY_MODEL_5fdb92d29027407f9b76d9535a602481",
        "IPY_MODEL_f3e6cc043693445c8bfba4d984a29813"
       ],
       "layout": "IPY_MODEL_43feb2e2e66a4cf5b711c57a9f5b7a90"
      }
     },
     "ee723b1693394c42b827ea39773dff74": {
      "model_module": "@jupyter-widgets/controls",
      "model_module_version": "1.5.0",
      "model_name": "DescriptionStyleModel",
      "state": {
       "_model_module": "@jupyter-widgets/controls",
       "_model_module_version": "1.5.0",
       "_model_name": "DescriptionStyleModel",
       "_view_count": null,
       "_view_module": "@jupyter-widgets/base",
       "_view_module_version": "1.2.0",
       "_view_name": "StyleView",
       "description_width": ""
      }
     },
     "f3e6cc043693445c8bfba4d984a29813": {
      "model_module": "@jupyter-widgets/controls",
      "model_module_version": "1.5.0",
      "model_name": "HTMLModel",
      "state": {
       "_dom_classes": [],
       "_model_module": "@jupyter-widgets/controls",
       "_model_module_version": "1.5.0",
       "_model_name": "HTMLModel",
       "_view_count": null,
       "_view_module": "@jupyter-widgets/controls",
       "_view_module_version": "1.5.0",
       "_view_name": "HTMLView",
       "description": "",
       "description_tooltip": null,
       "layout": "IPY_MODEL_7de678b32840449a900b5a3ce94dfc45",
       "placeholder": "​",
       "style": "IPY_MODEL_b63af2a531af46df84226c49ae73da9b",
       "value": " 328k/328k [00:00&lt;00:00, 4.12MB/s]"
      }
     },
     "f83622350a454ccd8ebc07c4d110fba3": {
      "model_module": "@jupyter-widgets/controls",
      "model_module_version": "1.5.0",
      "model_name": "HTMLModel",
      "state": {
       "_dom_classes": [],
       "_model_module": "@jupyter-widgets/controls",
       "_model_module_version": "1.5.0",
       "_model_name": "HTMLModel",
       "_view_count": null,
       "_view_module": "@jupyter-widgets/controls",
       "_view_module_version": "1.5.0",
       "_view_name": "HTMLView",
       "description": "",
       "description_tooltip": null,
       "layout": "IPY_MODEL_aed4b01944744a94a0920dac7901d3df",
       "placeholder": "​",
       "style": "IPY_MODEL_afd5d3eb559b4764aacc98f442fba6db",
       "value": "Downloading: 100%"
      }
     },
     "fd53ac981b9143abbda0062f5ce768b8": {
      "model_module": "@jupyter-widgets/controls",
      "model_module_version": "1.5.0",
      "model_name": "DescriptionStyleModel",
      "state": {
       "_model_module": "@jupyter-widgets/controls",
       "_model_module_version": "1.5.0",
       "_model_name": "DescriptionStyleModel",
       "_view_count": null,
       "_view_module": "@jupyter-widgets/base",
       "_view_module_version": "1.2.0",
       "_view_name": "StyleView",
       "description_width": ""
      }
     }
    },
    "version_major": 2,
    "version_minor": 0
   }
  }
 },
 "nbformat": 4,
 "nbformat_minor": 5
}
